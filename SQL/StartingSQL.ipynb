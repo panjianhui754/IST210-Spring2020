{
  "nbformat": 4,
  "nbformat_minor": 0,
  "metadata": {
    "colab": {
      "name": "StartingSQL.ipynb",
      "provenance": [],
      "collapsed_sections": [],
      "authorship_tag": "ABX9TyOCMdZcviG9LbiFZQo45K+L",
      "include_colab_link": true
    },
    "kernelspec": {
      "name": "python3",
      "display_name": "Python 3"
    }
  },
  "cells": [
    {
      "cell_type": "markdown",
      "metadata": {
        "id": "view-in-github",
        "colab_type": "text"
      },
      "source": [
        "<a href=\"https://colab.research.google.com/github/dudaspm/IST210-Spring2020/blob/master/SQL/StartingSQL.ipynb\" target=\"_parent\"><img src=\"https://colab.research.google.com/assets/colab-badge.svg\" alt=\"Open In Colab\"/></a>"
      ]
    },
    {
      "cell_type": "markdown",
      "metadata": {
        "id": "jniTtbYfSIC4",
        "colab_type": "text"
      },
      "source": [
        "# Start learning SQL in Google Colab"
      ]
    },
    {
      "cell_type": "markdown",
      "metadata": {
        "id": "-POd2XTsSNQw",
        "colab_type": "text"
      },
      "source": [
        "### Introduction"
      ]
    },
    {
      "cell_type": "markdown",
      "metadata": {
        "id": "LLs_Ln_iR69Q",
        "colab_type": "text"
      },
      "source": [
        "In this example, we will start using SQL in Google Colab Notebook.\n",
        "\n",
        "But first, let's just remind ourselves some of the basics of Google Colab."
      ]
    },
    {
      "cell_type": "markdown",
      "metadata": {
        "id": "F-AlbjFISdNv",
        "colab_type": "text"
      },
      "source": [
        "Let's start with just running a bit of \"code.\" The cell I am currently is a \"Text\" cell (using +Text). For code, we want to use a \"code\" cell (+Code). The below statement will just add two numbers together, nothing too fancy. "
      ]
    },
    {
      "cell_type": "code",
      "metadata": {
        "id": "uASJ6rvGS4yz",
        "colab_type": "code",
        "outputId": "8b60efa7-7a38-47c7-b3f9-dd09dd9d4584",
        "colab": {
          "base_uri": "https://localhost:8080/",
          "height": 35
        }
      },
      "source": [
        "2 + 2"
      ],
      "execution_count": 0,
      "outputs": [
        {
          "output_type": "execute_result",
          "data": {
            "text/plain": [
              "4"
            ]
          },
          "metadata": {
            "tags": []
          },
          "execution_count": 3
        }
      ]
    },
    {
      "cell_type": "markdown",
      "metadata": {
        "id": "Y_CoWXoMS6WU",
        "colab_type": "text"
      },
      "source": [
        "Your turn! \n",
        "\n",
        "\n",
        "1.   Click on the \"+Code\" button in the top-left corner. \n",
        "2.   Figure out the answer for the following math problem.\n",
        "\\begin{equation*}\n",
        "(102939129381 / 231)  + 12300\n",
        "\\end{equation*}\n"
      ]
    },
    {
      "cell_type": "markdown",
      "metadata": {
        "id": "FmcwLjgLUEs3",
        "colab_type": "text"
      },
      "source": [
        "Pretty easy so far, huh?\n",
        "\n",
        "OK, next to the SQL. "
      ]
    },
    {
      "cell_type": "markdown",
      "metadata": {
        "id": "FFWLk3T4XZL_",
        "colab_type": "text"
      },
      "source": [
        "### SQL Start"
      ]
    },
    {
      "cell_type": "markdown",
      "metadata": {
        "id": "mcgfwx_zSQtf",
        "colab_type": "text"
      },
      "source": [
        "One of the cool trick you can do in Jupyter Notebooks is something so amazing, you might even think its magic! Well, it technically is. \n",
        "\n",
        "Jupyter has a number of built in utilities, which they call [magic](https://ipython.readthedocs.io/en/stable/interactive/magics.html). Don't worry about trying to learn them all, we only need one specific type of magic. SQL magic. Actually, we technically need %load_ext magic, but this will load SQL for us."
      ]
    },
    {
      "cell_type": "code",
      "metadata": {
        "id": "UW-e9DxJQyFM",
        "colab_type": "code",
        "colab": {}
      },
      "source": [
        "%load_ext sql"
      ],
      "execution_count": 0,
      "outputs": []
    },
    {
      "cell_type": "markdown",
      "metadata": {
        "id": "K6u7tiThWuWl",
        "colab_type": "text"
      },
      "source": [
        "This is a built-in Python SQL toolkit provide by (another magic reference) [SQL Alchemy](https://www.sqlalchemy.org/). Again, you don't need to worry too much about SQL Alchemy, only that we can now use SQL code in our notebook."
      ]
    },
    {
      "cell_type": "markdown",
      "metadata": {
        "id": "GYbInwgGZR2y",
        "colab_type": "text"
      },
      "source": [
        "The next step is create a database, so in this case we use the following command. Note: we will be expanding on this through-out the semester, but for now... it creates a single, SQLite database for this notebook. Also, if the command runs *successfully*, you should see \" 'Connected: @None' \""
      ]
    },
    {
      "cell_type": "code",
      "metadata": {
        "id": "g7deuOfwQ0-K",
        "colab_type": "code",
        "outputId": "4332312d-d4cc-441c-f216-9b5671478a3a",
        "colab": {
          "base_uri": "https://localhost:8080/",
          "height": 35
        }
      },
      "source": [
        "%sql sqlite://"
      ],
      "execution_count": 0,
      "outputs": [
        {
          "output_type": "execute_result",
          "data": {
            "text/plain": [
              "'Connected: @None'"
            ]
          },
          "metadata": {
            "tags": []
          },
          "execution_count": 2
        }
      ]
    },
    {
      "cell_type": "markdown",
      "metadata": {
        "id": "zkZE0zVOZlNA",
        "colab_type": "text"
      },
      "source": [
        "Now it is time to create our first table. This is where the SQL commands become available to us. The first command is..."
      ]
    },
    {
      "cell_type": "markdown",
      "metadata": {
        "id": "iyBW0AaaaE7Z",
        "colab_type": "text"
      },
      "source": [
        "#### Create"
      ]
    },
    {
      "cell_type": "markdown",
      "metadata": {
        "id": "P_s1tHNeaJvH",
        "colab_type": "text"
      },
      "source": [
        "Create will create a table. In this case, we will call the table *Student* and we will need to tell the table the names of the attributes and what *type* of attribute they are as well. For now, we will be using only using 3 types:\n",
        "\n",
        "\n",
        "*   INTEGER - whole numbers (example: 3)\n",
        "*   REAL - floats or real numbers (example: 3.14) \n",
        "*   TEXT - text information (example: \"hello world!\")\n",
        "\n",
        "For us, we need 3 attributes and all 3 will be text. \n",
        "\n"
      ]
    },
    {
      "cell_type": "code",
      "metadata": {
        "id": "HOHGtO1WRvyI",
        "colab_type": "code",
        "outputId": "4e4cfed9-ae10-4756-df62-2651d2e3bf00",
        "colab": {
          "base_uri": "https://localhost:8080/",
          "height": 69
        }
      },
      "source": [
        "%%sql   \n",
        "CREATE TABLE Student(PSUID text, firstname text, lastname text);"
      ],
      "execution_count": 0,
      "outputs": [
        {
          "output_type": "stream",
          "text": [
            " * sqlite://\n",
            "Done.\n"
          ],
          "name": "stdout"
        },
        {
          "output_type": "execute_result",
          "data": {
            "text/plain": [
              "[]"
            ]
          },
          "metadata": {
            "tags": []
          },
          "execution_count": 10
        }
      ]
    },
    {
      "cell_type": "markdown",
      "metadata": {
        "id": "zx0bPbo_gjcf",
        "colab_type": "text"
      },
      "source": [
        "Now let's add some data to this table. In this case we use... "
      ]
    },
    {
      "cell_type": "markdown",
      "metadata": {
        "id": "DPOdrizjgqbu",
        "colab_type": "text"
      },
      "source": [
        "#### INSERT"
      ]
    },
    {
      "cell_type": "markdown",
      "metadata": {
        "id": "tIsadPjqgtBH",
        "colab_type": "text"
      },
      "source": [
        "Insert does as it sounds. Insert data into the database. \n",
        "The syntax for this is:\n",
        "\n",
        "INSERT INTO *name of the table* VALUES (*data for PSUID*,*lastname*, *firstname*) \n",
        "\n",
        "For now, I will just make up a few tuples. "
      ]
    },
    {
      "cell_type": "code",
      "metadata": {
        "id": "O4KycpGPaT7v",
        "colab_type": "code",
        "outputId": "88ab9b79-4e44-4411-ed4b-574adba4f783",
        "colab": {
          "base_uri": "https://localhost:8080/",
          "height": 104
        }
      },
      "source": [
        "%%sql \n",
        "INSERT INTO Student VALUES('9139128181','David','Practice');\n",
        "INSERT INTO Student VALUES('9771271281','Susan','Practice');\n",
        "INSERT INTO Student VALUES('9383818823','Lee','Example');"
      ],
      "execution_count": 0,
      "outputs": [
        {
          "output_type": "stream",
          "text": [
            " * sqlite://\n",
            "1 rows affected.\n",
            "1 rows affected.\n",
            "1 rows affected.\n"
          ],
          "name": "stdout"
        },
        {
          "output_type": "execute_result",
          "data": {
            "text/plain": [
              "[]"
            ]
          },
          "metadata": {
            "tags": []
          },
          "execution_count": 11
        }
      ]
    },
    {
      "cell_type": "markdown",
      "metadata": {
        "id": "V1IS8Q5khum8",
        "colab_type": "text"
      },
      "source": [
        "OK, we have a Database. A table in this database. 3 tuples in our table. The last thing we need is a way to access this data, view the data, and do something with the data. That's where we use..."
      ]
    },
    {
      "cell_type": "markdown",
      "metadata": {
        "id": "v8rJE9NSh9kd",
        "colab_type": "text"
      },
      "source": [
        "#### SELECT "
      ]
    },
    {
      "cell_type": "markdown",
      "metadata": {
        "id": "OTwu3bakh_iJ",
        "colab_type": "text"
      },
      "source": [
        "SELECT allows us to select all or part of the data. For now, all we want to do is get back from the table all the data in the table. For this we will use:\n",
        "\n",
        "SELECT  *(wildcard!)* FROM *table name*\n",
        "\n",
        "The wildcard basically means *All the Attributes* in the table"
      ]
    },
    {
      "cell_type": "code",
      "metadata": {
        "id": "QtLFiEzThSdi",
        "colab_type": "code",
        "outputId": "887a5263-0f63-4a7c-b180-0fc03c66855c",
        "colab": {
          "base_uri": "https://localhost:8080/",
          "height": 137
        }
      },
      "source": [
        "%%sql \n",
        "SELECT * FROM Student"
      ],
      "execution_count": 0,
      "outputs": [
        {
          "output_type": "stream",
          "text": [
            " * sqlite://\n",
            "Done.\n"
          ],
          "name": "stdout"
        },
        {
          "output_type": "execute_result",
          "data": {
            "text/html": [
              "<table>\n",
              "    <tr>\n",
              "        <th>PSUID</th>\n",
              "        <th>firstname</th>\n",
              "        <th>lastname</th>\n",
              "    </tr>\n",
              "    <tr>\n",
              "        <td>9139128181</td>\n",
              "        <td>David</td>\n",
              "        <td>Practice</td>\n",
              "    </tr>\n",
              "    <tr>\n",
              "        <td>9771271281</td>\n",
              "        <td>Susan</td>\n",
              "        <td>Practice</td>\n",
              "    </tr>\n",
              "    <tr>\n",
              "        <td>9383818823</td>\n",
              "        <td>Lee</td>\n",
              "        <td>Example</td>\n",
              "    </tr>\n",
              "</table>"
            ],
            "text/plain": [
              "[('9139128181', 'David', 'Practice'),\n",
              " ('9771271281', 'Susan', 'Practice'),\n",
              " ('9383818823', 'Lee', 'Example')]"
            ]
          },
          "metadata": {
            "tags": []
          },
          "execution_count": 13
        }
      ]
    },
    {
      "cell_type": "markdown",
      "metadata": {
        "id": "YpTIlMQTjAdu",
        "colab_type": "text"
      },
      "source": [
        "That is it for now!"
      ]
    }
  ]
}