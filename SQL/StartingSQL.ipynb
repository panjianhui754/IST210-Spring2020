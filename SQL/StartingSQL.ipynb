{
  "nbformat": 4,
  "nbformat_minor": 0,
  "metadata": {
    "colab": {
      "name": "StartingSQL.ipynb",
      "provenance": [],
      "collapsed_sections": [],
      "toc_visible": true,
      "authorship_tag": "ABX9TyPx6YUBte5ljrb2zKSJYs4D",
      "include_colab_link": true
    },
    "kernelspec": {
      "name": "python3",
      "display_name": "Python 3"
    }
  },
  "cells": [
    {
      "cell_type": "markdown",
      "metadata": {
        "id": "view-in-github",
        "colab_type": "text"
      },
      "source": [
        "<a href=\"https://colab.research.google.com/github/dudaspm/IST210-Spring2020/blob/master/SQL/StartingSQL.ipynb\" target=\"_parent\"><img src=\"https://colab.research.google.com/assets/colab-badge.svg\" alt=\"Open In Colab\"/></a>"
      ]
    },
    {
      "cell_type": "markdown",
      "metadata": {
        "id": "jniTtbYfSIC4",
        "colab_type": "text"
      },
      "source": [
        "# Start learning SQL in Google Colab"
      ]
    },
    {
      "cell_type": "markdown",
      "metadata": {
        "id": "-POd2XTsSNQw",
        "colab_type": "text"
      },
      "source": [
        "## Introduction"
      ]
    },
    {
      "cell_type": "markdown",
      "metadata": {
        "id": "LLs_Ln_iR69Q",
        "colab_type": "text"
      },
      "source": [
        "In this example, we will start using SQL in Google Colab Notebook.\n",
        "\n",
        "But first, let's just remind ourselves some of the basics of Google Colab."
      ]
    },
    {
      "cell_type": "markdown",
      "metadata": {
        "id": "F-AlbjFISdNv",
        "colab_type": "text"
      },
      "source": [
        "Let's start with just running a bit of \"code.\" The cell I am currently is a \"Text\" cell (using +Text). For code, we want to use a \"code\" cell (+Code). The below statement will just add two numbers together, nothing too fancy. "
      ]
    },
    {
      "cell_type": "code",
      "metadata": {
        "id": "uASJ6rvGS4yz",
        "colab_type": "code",
        "outputId": "1e14cbea-65f4-4b8c-aaa8-8a76738234de",
        "colab": {
          "base_uri": "https://localhost:8080/",
          "height": 34
        }
      },
      "source": [
        "2 + 2"
      ],
      "execution_count": 23,
      "outputs": [
        {
          "output_type": "execute_result",
          "data": {
            "text/plain": [
              "4"
            ]
          },
          "metadata": {
            "tags": []
          },
          "execution_count": 23
        }
      ]
    },
    {
      "cell_type": "markdown",
      "metadata": {
        "id": "Y_CoWXoMS6WU",
        "colab_type": "text"
      },
      "source": [
        "Your turn! \n",
        "\n",
        "\n",
        "1.   Click on the \"+Code\" button in the top-left corner. \n",
        "2.   Figure out the answer for the following math problem.\n",
        "\\begin{equation*}\n",
        "(102939129381 / 231)  + 12300\n",
        "\\end{equation*}\n"
      ]
    },
    {
      "cell_type": "markdown",
      "metadata": {
        "id": "FmcwLjgLUEs3",
        "colab_type": "text"
      },
      "source": [
        "Pretty easy so far, huh?\n",
        "\n",
        "OK, next to the SQL. "
      ]
    },
    {
      "cell_type": "markdown",
      "metadata": {
        "id": "FFWLk3T4XZL_",
        "colab_type": "text"
      },
      "source": [
        "## SQL Start"
      ]
    },
    {
      "cell_type": "markdown",
      "metadata": {
        "id": "mcgfwx_zSQtf",
        "colab_type": "text"
      },
      "source": [
        "One of the cool tricks you can do in Jupyter Notebooks is something so amazing, you might even think its magic! Well, it technically is. \n",
        "\n",
        "Jupyter has a number of built in utilities, which they call [magic](https://ipython.readthedocs.io/en/stable/interactive/magics.html). Don't worry about trying to learn them all, and we only need one specific type of magic. SQL magic. Actually, we technically need %load_ext magic, but this will load SQL for us."
      ]
    },
    {
      "cell_type": "code",
      "metadata": {
        "id": "UW-e9DxJQyFM",
        "colab_type": "code",
        "colab": {
          "base_uri": "https://localhost:8080/",
          "height": 52
        },
        "outputId": "11f7d1c4-a844-4b81-af27-a5605aaf9682"
      },
      "source": [
        "%load_ext sql"
      ],
      "execution_count": 24,
      "outputs": [
        {
          "output_type": "stream",
          "text": [
            "The sql extension is already loaded. To reload it, use:\n",
            "  %reload_ext sql\n"
          ],
          "name": "stdout"
        }
      ]
    },
    {
      "cell_type": "markdown",
      "metadata": {
        "id": "K6u7tiThWuWl",
        "colab_type": "text"
      },
      "source": [
        "This is a built-in Python SQL toolkit provide by (another magic reference) [SQL Alchemy](https://www.sqlalchemy.org/). Again, you don't need to worry too much about SQL Alchemy, only that we can now use SQL code in our notebook."
      ]
    },
    {
      "cell_type": "markdown",
      "metadata": {
        "id": "GYbInwgGZR2y",
        "colab_type": "text"
      },
      "source": [
        "The next step is to create a database, so in this case we use the following command. Note: we will be expanding on this through-out the semester, but for now... it creates a single, SQLite database for this notebook. Also, if the command runs *successfully*, you should see \" 'Connected: @studentDatabase.db' \""
      ]
    },
    {
      "cell_type": "code",
      "metadata": {
        "id": "g7deuOfwQ0-K",
        "colab_type": "code",
        "outputId": "027785e7-9651-4641-b2c2-7a0db5f5c2f4",
        "colab": {
          "base_uri": "https://localhost:8080/",
          "height": 34
        }
      },
      "source": [
        "%sql sqlite:///studentDatabase.db"
      ],
      "execution_count": 25,
      "outputs": [
        {
          "output_type": "execute_result",
          "data": {
            "text/plain": [
              "'Connected: @studentDatabase.db'"
            ]
          },
          "metadata": {
            "tags": []
          },
          "execution_count": 25
        }
      ]
    },
    {
      "cell_type": "markdown",
      "metadata": {
        "id": "IwXSho6d4_Io",
        "colab_type": "text"
      },
      "source": [
        "this is your database to add tables and insert data, BUT this is temporary. So, do not assume that this will save between sessions. If you want to save this database for later, go to left (where the folder is), select the folder, and then download the database (right click on the database). "
      ]
    },
    {
      "cell_type": "markdown",
      "metadata": {
        "id": "mZovxWDS5gW1",
        "colab_type": "text"
      },
      "source": [
        "###Types of SQL Interactions"
      ]
    },
    {
      "cell_type": "markdown",
      "metadata": {
        "id": "IRVAYqhV5tFM",
        "colab_type": "text"
      },
      "source": [
        "Here is a list of common interactions with database.\n",
        "\n",
        "![SQL Command Types](https://raw.githubusercontent.com/dudaspm/IST210-Spring2020/master/SQL/images/SQLCommandTypes.png)"
      ]
    },
    {
      "cell_type": "markdown",
      "metadata": {
        "id": "zkZE0zVOZlNA",
        "colab_type": "text"
      },
      "source": [
        "Now it is time to create our first table. This is where the SQL commands become available to us. The first command is..."
      ]
    },
    {
      "cell_type": "markdown",
      "metadata": {
        "id": "iyBW0AaaaE7Z",
        "colab_type": "text"
      },
      "source": [
        "### CREATE (DDL - Data Definition Language)"
      ]
    },
    {
      "cell_type": "markdown",
      "metadata": {
        "id": "P_s1tHNeaJvH",
        "colab_type": "text"
      },
      "source": [
        "Create will create a table. In this case, we will call the table *Student* and we will need to tell the table the names of the attributes and what *type* of attribute they are as well. For now, we will be using only using 3 types:\n",
        "\n",
        "\n",
        "*   INTEGER - whole numbers (example: 3)\n",
        "*   REAL - floats or real numbers (example: 3.14) \n",
        "*   TEXT - text information (example: \"hello world!\")\n",
        "\n",
        "For us, we need 6 attributes and all 6 will be text. \n",
        "\n"
      ]
    },
    {
      "cell_type": "markdown",
      "metadata": {
        "id": "TSWe0Xb6rSxa",
        "colab_type": "text"
      },
      "source": [
        "Let's create 1 table for student information. \n",
        "\n",
        "![student table](https://raw.githubusercontent.com/dudaspm/IST210-Spring2020/master/SQL/images/studentTable.png)\n",
        "\n"
      ]
    },
    {
      "cell_type": "code",
      "metadata": {
        "id": "HOHGtO1WRvyI",
        "colab_type": "code",
        "outputId": "7a0f4a8d-31cf-4039-a14b-45a360827773",
        "colab": {
          "base_uri": "https://localhost:8080/",
          "height": 87
        }
      },
      "source": [
        "%%sql   \n",
        "CREATE TABLE Student(PSUID text, firstName text, lastName text, streetAddress text, city text, state text);"
      ],
      "execution_count": 26,
      "outputs": [
        {
          "output_type": "stream",
          "text": [
            "   sqlite://\n",
            " * sqlite:///studentDatabase.db\n",
            "Done.\n"
          ],
          "name": "stdout"
        },
        {
          "output_type": "execute_result",
          "data": {
            "text/plain": [
              "[]"
            ]
          },
          "metadata": {
            "tags": []
          },
          "execution_count": 26
        }
      ]
    },
    {
      "cell_type": "markdown",
      "metadata": {
        "id": "zx0bPbo_gjcf",
        "colab_type": "text"
      },
      "source": [
        "Now let's add some data to this table. In this case we use... "
      ]
    },
    {
      "cell_type": "markdown",
      "metadata": {
        "id": "DPOdrizjgqbu",
        "colab_type": "text"
      },
      "source": [
        "### INSERT (DML - Data Manipulation Language)"
      ]
    },
    {
      "cell_type": "markdown",
      "metadata": {
        "id": "tIsadPjqgtBH",
        "colab_type": "text"
      },
      "source": [
        "Insert does as it sounds. Insert data into the database. \n",
        "The syntax for this is:\n",
        "\n",
        "INSERT INTO *name of the table* VALUES (*data for PSUID*,*lastname*, *firstname*) \n",
        "\n",
        "For now, I will just make up a few tuples. \n",
        "\n",
        "Also, let's note something. When to use:\n",
        "\n",
        "\n",
        "*   %SQL\n",
        "*   %%SQL\n",
        "\n"
      ]
    },
    {
      "cell_type": "code",
      "metadata": {
        "id": "O4KycpGPaT7v",
        "colab_type": "code",
        "outputId": "dc0e1757-4cbc-48b0-9e47-8c83a77619e1",
        "colab": {
          "base_uri": "https://localhost:8080/",
          "height": 123
        }
      },
      "source": [
        "%%sql \n",
        "INSERT INTO Student VALUES('9139128181','David','Practice','123 Apple Street','State College','PA');\n",
        "INSERT INTO Student VALUES('9771271281','Susan','Practice','452 Banana Avenue','State College','PA');\n",
        "INSERT INTO Student VALUES('9383818823','Lee','Example','836 Carrot Circle','Cleveland','OH');"
      ],
      "execution_count": 27,
      "outputs": [
        {
          "output_type": "stream",
          "text": [
            "   sqlite://\n",
            " * sqlite:///studentDatabase.db\n",
            "1 rows affected.\n",
            "1 rows affected.\n",
            "1 rows affected.\n"
          ],
          "name": "stdout"
        },
        {
          "output_type": "execute_result",
          "data": {
            "text/plain": [
              "[]"
            ]
          },
          "metadata": {
            "tags": []
          },
          "execution_count": 27
        }
      ]
    },
    {
      "cell_type": "markdown",
      "metadata": {
        "id": "V1IS8Q5khum8",
        "colab_type": "text"
      },
      "source": [
        "OK, we have a Database. A table in this database. 3 tuples in our table. The last thing we need is a way to access this data, view the data, and do something with the data. That's where we use..."
      ]
    },
    {
      "cell_type": "markdown",
      "metadata": {
        "id": "v8rJE9NSh9kd",
        "colab_type": "text"
      },
      "source": [
        "### SELECT (DQL - Data Query Language)"
      ]
    },
    {
      "cell_type": "markdown",
      "metadata": {
        "id": "OTwu3bakh_iJ",
        "colab_type": "text"
      },
      "source": [
        "SELECT allows us to select all or part of the data. For now, all we want to do is get back from the table all the data in the table. For this we will use:\n",
        "\n",
        "SELECT  *(wildcard!)* FROM *table name*\n",
        "\n",
        "The wildcard basically means *All the Attributes* in the table"
      ]
    },
    {
      "cell_type": "code",
      "metadata": {
        "id": "QtLFiEzThSdi",
        "colab_type": "code",
        "outputId": "d4ac6f05-5ada-4c7d-8257-ef09f8df8a1d",
        "colab": {
          "base_uri": "https://localhost:8080/",
          "height": 142
        }
      },
      "source": [
        "%%sql \n",
        "SELECT * FROM Student"
      ],
      "execution_count": 28,
      "outputs": [
        {
          "output_type": "stream",
          "text": [
            "   sqlite://\n",
            " * sqlite:///studentDatabase.db\n",
            "Done.\n"
          ],
          "name": "stdout"
        },
        {
          "output_type": "execute_result",
          "data": {
            "text/html": [
              "<table>\n",
              "    <tr>\n",
              "        <th>PSUID</th>\n",
              "        <th>firstName</th>\n",
              "        <th>lastName</th>\n",
              "        <th>streetAddress</th>\n",
              "        <th>city</th>\n",
              "        <th>state</th>\n",
              "    </tr>\n",
              "    <tr>\n",
              "        <td>9139128181</td>\n",
              "        <td>David</td>\n",
              "        <td>Practice</td>\n",
              "        <td>123 Apple Street</td>\n",
              "        <td>State College</td>\n",
              "        <td>PA</td>\n",
              "    </tr>\n",
              "    <tr>\n",
              "        <td>9771271281</td>\n",
              "        <td>Susan</td>\n",
              "        <td>Practice</td>\n",
              "        <td>452 Banana Avenue</td>\n",
              "        <td>State College</td>\n",
              "        <td>PA</td>\n",
              "    </tr>\n",
              "    <tr>\n",
              "        <td>9383818823</td>\n",
              "        <td>Lee</td>\n",
              "        <td>Example</td>\n",
              "        <td>836 Carrot Circle</td>\n",
              "        <td>Cleveland</td>\n",
              "        <td>OH</td>\n",
              "    </tr>\n",
              "</table>"
            ],
            "text/plain": [
              "[('9139128181', 'David', 'Practice', '123 Apple Street', 'State College', 'PA'),\n",
              " ('9771271281', 'Susan', 'Practice', '452 Banana Avenue', 'State College', 'PA'),\n",
              " ('9383818823', 'Lee', 'Example', '836 Carrot Circle', 'Cleveland', 'OH')]"
            ]
          },
          "metadata": {
            "tags": []
          },
          "execution_count": 28
        }
      ]
    },
    {
      "cell_type": "markdown",
      "metadata": {
        "id": "YpTIlMQTjAdu",
        "colab_type": "text"
      },
      "source": [
        "Other things we can do with SELECT.\n",
        "\n",
        "Let's say we want to know which database we are connected to and what tables we have created. We would use the following SQL."
      ]
    },
    {
      "cell_type": "code",
      "metadata": {
        "id": "lvY5xK518Ru4",
        "colab_type": "code",
        "colab": {
          "base_uri": "https://localhost:8080/",
          "height": 106
        },
        "outputId": "5189f8b4-bd17-4db8-b2b5-cdc2fdc9d8e8"
      },
      "source": [
        "%sql SELECT name FROM sqlite_master"
      ],
      "execution_count": 29,
      "outputs": [
        {
          "output_type": "stream",
          "text": [
            "   sqlite://\n",
            " * sqlite:///studentDatabase.db\n",
            "Done.\n"
          ],
          "name": "stdout"
        },
        {
          "output_type": "execute_result",
          "data": {
            "text/html": [
              "<table>\n",
              "    <tr>\n",
              "        <th>name</th>\n",
              "    </tr>\n",
              "    <tr>\n",
              "        <td>Student</td>\n",
              "    </tr>\n",
              "</table>"
            ],
            "text/plain": [
              "[('Student',)]"
            ]
          },
          "metadata": {
            "tags": []
          },
          "execution_count": 29
        }
      ]
    },
    {
      "cell_type": "markdown",
      "metadata": {
        "id": "iJW3z13Z-ZZP",
        "colab_type": "text"
      },
      "source": [
        "### DROP (DDL - Data Definition Language)"
      ]
    },
    {
      "cell_type": "markdown",
      "metadata": {
        "id": "dzT7q_tO_AuP",
        "colab_type": "text"
      },
      "source": [
        "Great! We created a table and put some data into the table, but how do we... destroy it? \n",
        "\n",
        "DROP is used to \"delete\" the table and all tuples. \n",
        "\n",
        "** WARNING WARNING **\n",
        "\n",
        "A table that is dropped is completely deleted, including ALL DATA. Be careful with this."
      ]
    },
    {
      "cell_type": "code",
      "metadata": {
        "id": "L1-nUUrY_j5P",
        "colab_type": "code",
        "colab": {
          "base_uri": "https://localhost:8080/",
          "height": 87
        },
        "outputId": "c1be8c2e-74ce-4215-8a41-ad7468d10a4f"
      },
      "source": [
        "%%sql \n",
        "DROP TABLE Student"
      ],
      "execution_count": 30,
      "outputs": [
        {
          "output_type": "stream",
          "text": [
            "   sqlite://\n",
            " * sqlite:///studentDatabase.db\n",
            "Done.\n"
          ],
          "name": "stdout"
        },
        {
          "output_type": "execute_result",
          "data": {
            "text/plain": [
              "[]"
            ]
          },
          "metadata": {
            "tags": []
          },
          "execution_count": 30
        }
      ]
    },
    {
      "cell_type": "markdown",
      "metadata": {
        "id": "atDuqEM7_m33",
        "colab_type": "text"
      },
      "source": [
        "So, now we check all the tables we have... "
      ]
    },
    {
      "cell_type": "code",
      "metadata": {
        "id": "Z2SbKItQ_p5u",
        "colab_type": "code",
        "colab": {
          "base_uri": "https://localhost:8080/",
          "height": 88
        },
        "outputId": "e7f83404-cf15-4e75-a030-478709309b7b"
      },
      "source": [
        "%sql SELECT name FROM sqlite_master"
      ],
      "execution_count": 32,
      "outputs": [
        {
          "output_type": "stream",
          "text": [
            "   sqlite://\n",
            " * sqlite:///studentDatabase.db\n",
            "Done.\n"
          ],
          "name": "stdout"
        },
        {
          "output_type": "execute_result",
          "data": {
            "text/html": [
              "<table>\n",
              "    <tr>\n",
              "        <th>name</th>\n",
              "    </tr>\n",
              "</table>"
            ],
            "text/plain": [
              "[]"
            ]
          },
          "metadata": {
            "tags": []
          },
          "execution_count": 32
        }
      ]
    },
    {
      "cell_type": "markdown",
      "metadata": {
        "id": "_LbZg0Io_uoI",
        "colab_type": "text"
      },
      "source": [
        "### Additional SQL"
      ]
    },
    {
      "cell_type": "markdown",
      "metadata": {
        "id": "ny6uSeeL97uh",
        "colab_type": "text"
      },
      "source": [
        "Here are the additional commands will be learning about in the class (we will not cover all of these, but most)\n",
        "\n",
        "![Data Manipulation 1](https://raw.githubusercontent.com/dudaspm/IST210-Spring2020/master/SQL/images/SQLManipulation1.png)\n",
        "\n",
        "![Data Manipulation 2](https://raw.githubusercontent.com/dudaspm/IST210-Spring2020/master/SQL/images/SQLManipulation2.png)"
      ]
    },
    {
      "cell_type": "code",
      "metadata": {
        "id": "-Es5N7RM8QBH",
        "colab_type": "code",
        "colab": {}
      },
      "source": [
        ""
      ],
      "execution_count": 0,
      "outputs": []
    }
  ]
}