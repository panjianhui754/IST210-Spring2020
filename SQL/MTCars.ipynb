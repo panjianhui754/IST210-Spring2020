{
  "nbformat": 4,
  "nbformat_minor": 0,
  "metadata": {
    "colab": {
      "name": "MTCars.ipynb",
      "provenance": [],
      "collapsed_sections": [],
      "authorship_tag": "ABX9TyNxhSIOoIOjXNeNbuESHaU2",
      "include_colab_link": true
    },
    "kernelspec": {
      "name": "python3",
      "display_name": "Python 3"
    }
  },
  "cells": [
    {
      "cell_type": "markdown",
      "metadata": {
        "id": "view-in-github",
        "colab_type": "text"
      },
      "source": [
        "<a href=\"https://colab.research.google.com/github/dudaspm/IST210-Spring2020/blob/master/SQL/MTCars.ipynb\" target=\"_parent\"><img src=\"https://colab.research.google.com/assets/colab-badge.svg\" alt=\"Open In Colab\"/></a>"
      ]
    },
    {
      "cell_type": "markdown",
      "metadata": {
        "id": "xM21VHMvYtTt",
        "colab_type": "text"
      },
      "source": [
        "## MTCars"
      ]
    },
    {
      "cell_type": "markdown",
      "metadata": {
        "id": "9RISwA5ZYYBt",
        "colab_type": "text"
      },
      "source": [
        "***Important***\n",
        "\n",
        "\n",
        "1.   Go to File > Save a Copy to Drive (this will save to your local Google Drive)\n",
        "2.   Make sure you work through this notebook from top to bottom and run each Code cell\n"
      ]
    },
    {
      "cell_type": "markdown",
      "metadata": {
        "id": "lbq9tXcGYyR_",
        "colab_type": "text"
      },
      "source": [
        "I will take care of getting the data, starting SQL on the notebook, and creating the database. "
      ]
    },
    {
      "cell_type": "code",
      "metadata": {
        "id": "RWDBStDzYsRZ",
        "colab_type": "code",
        "colab": {}
      },
      "source": [
        "#Used to make requests\n",
        "import urllib\n",
        "\n",
        "f = urllib.request.urlopen(\"https://gist.githubusercontent.com/dudaspm/649cb1f241297850bbd4d27f24feb9ef/raw/31f55d399741aec488b2a0a8447405482df49168/mtcars.csv\")\n",
        "mtCars = str(f.read().decode('utf-8'))"
      ],
      "execution_count": 0,
      "outputs": []
    },
    {
      "cell_type": "code",
      "metadata": {
        "id": "uqKGzff9ZDz6",
        "colab_type": "code",
        "outputId": "52c9cbd0-c36c-444c-ad33-1897be076587",
        "colab": {
          "base_uri": "https://localhost:8080/",
          "height": 35
        }
      },
      "source": [
        "%load_ext sql\n",
        "%sql sqlite:///mtCars.db"
      ],
      "execution_count": 3,
      "outputs": [
        {
          "output_type": "execute_result",
          "data": {
            "text/plain": [
              "'Connected: @mtCars.db'"
            ]
          },
          "metadata": {
            "tags": []
          },
          "execution_count": 3
        }
      ]
    },
    {
      "cell_type": "markdown",
      "metadata": {
        "id": "-fL_cHYmZN6P",
        "colab_type": "text"
      },
      "source": [
        "***Your Turn***\n",
        "\n",
        "Here is your ER Diagram\n",
        "\n",
        "![weather ER Diagram](https://raw.githubusercontent.com/dudaspm/IST210-Spring2020/master/SQL/images/mtcars.png)\n",
        "\n",
        "I've added a statement to drop (delete) the table. You need to create the table."
      ]
    },
    {
      "cell_type": "code",
      "metadata": {
        "id": "PTMxW7mfZLCP",
        "colab_type": "code",
        "outputId": "59271047-0812-466c-b4f2-f5ad1f1c6df9",
        "colab": {
          "base_uri": "https://localhost:8080/",
          "height": 88
        }
      },
      "source": [
        "%%sql\n",
        "DROP TABLE IF EXISTS Cars;\n",
        "-- ## DELETE ME and add CREATE the table\n",
        "CREATE Table Cars (model text primary key, mpg real, cyl real, disp real, hp real, drat real, wt real, sqec real, vs real, am real, gear real, carb real)"
      ],
      "execution_count": 4,
      "outputs": [
        {
          "output_type": "stream",
          "text": [
            " * sqlite:///mtCars.db\n",
            "Done.\n",
            "Done.\n"
          ],
          "name": "stdout"
        },
        {
          "output_type": "execute_result",
          "data": {
            "text/plain": [
              "[]"
            ]
          },
          "metadata": {
            "tags": []
          },
          "execution_count": 4
        }
      ]
    },
    {
      "cell_type": "markdown",
      "metadata": {
        "id": "TSwoRI0NblWM",
        "colab_type": "text"
      },
      "source": [
        "I will now insert the rest of the data (make sure your table works first by doing the step above!)"
      ]
    },
    {
      "cell_type": "code",
      "metadata": {
        "id": "L73q2pTbZ6fT",
        "colab_type": "code",
        "colab": {}
      },
      "source": [
        "%%capture\n",
        "for line in mtCars.split(\"\\n\")[1:]:\n",
        "  d = line.split(\",\")\n",
        "  model = d[0]\n",
        "  mpg = d[1]\n",
        "  cyl = d[2]\n",
        "  disp = d[3]\n",
        "  hp = d[4]\n",
        "  drat = d[5]\n",
        "  wt = d[6]\n",
        "  qsec = d[7]\n",
        "  vs = d[8]\n",
        "  am = d[9]  \n",
        "  gear = d[10]\n",
        "  carb = d[11]\n",
        "  %sql insert into Cars values (:model,:mpg,:cyl,:disp,:hp,:drat,:wt,:qsec,:vs,:am,:gear,:carb)"
      ],
      "execution_count": 0,
      "outputs": []
    },
    {
      "cell_type": "markdown",
      "metadata": {
        "id": "0zwjx2QFb6zL",
        "colab_type": "text"
      },
      "source": [
        "Use this select statement to make sure everything working properly. \n"
      ]
    },
    {
      "cell_type": "code",
      "metadata": {
        "id": "Oi4td8lwcAFm",
        "colab_type": "code",
        "outputId": "1df576fd-a18d-45b4-e7c6-15148028ba69",
        "colab": {
          "base_uri": "https://localhost:8080/",
          "height": 274
        }
      },
      "source": [
        "%%sql\n",
        "select * from Cars limit 10;"
      ],
      "execution_count": 9,
      "outputs": [
        {
          "output_type": "stream",
          "text": [
            " * sqlite:///mtCars.db\n",
            "Done.\n"
          ],
          "name": "stdout"
        },
        {
          "output_type": "execute_result",
          "data": {
            "text/html": [
              "<table>\n",
              "    <tr>\n",
              "        <th>model</th>\n",
              "        <th>mpg</th>\n",
              "        <th>cyl</th>\n",
              "        <th>disp</th>\n",
              "        <th>hp</th>\n",
              "        <th>drat</th>\n",
              "        <th>wt</th>\n",
              "        <th>sqec</th>\n",
              "        <th>vs</th>\n",
              "        <th>am</th>\n",
              "        <th>gear</th>\n",
              "        <th>carb</th>\n",
              "    </tr>\n",
              "    <tr>\n",
              "        <td>Mazda RX4</td>\n",
              "        <td>21.0</td>\n",
              "        <td>6.0</td>\n",
              "        <td>160.0</td>\n",
              "        <td>110.0</td>\n",
              "        <td>3.9</td>\n",
              "        <td>2.62</td>\n",
              "        <td>16.46</td>\n",
              "        <td>0.0</td>\n",
              "        <td>1.0</td>\n",
              "        <td>4.0</td>\n",
              "        <td>4.0</td>\n",
              "    </tr>\n",
              "    <tr>\n",
              "        <td>Mazda RX4 Wag</td>\n",
              "        <td>21.0</td>\n",
              "        <td>6.0</td>\n",
              "        <td>160.0</td>\n",
              "        <td>110.0</td>\n",
              "        <td>3.9</td>\n",
              "        <td>2.875</td>\n",
              "        <td>17.02</td>\n",
              "        <td>0.0</td>\n",
              "        <td>1.0</td>\n",
              "        <td>4.0</td>\n",
              "        <td>4.0</td>\n",
              "    </tr>\n",
              "    <tr>\n",
              "        <td>Datsun 710</td>\n",
              "        <td>22.8</td>\n",
              "        <td>4.0</td>\n",
              "        <td>108.0</td>\n",
              "        <td>93.0</td>\n",
              "        <td>3.85</td>\n",
              "        <td>2.32</td>\n",
              "        <td>18.61</td>\n",
              "        <td>1.0</td>\n",
              "        <td>1.0</td>\n",
              "        <td>4.0</td>\n",
              "        <td>1.0</td>\n",
              "    </tr>\n",
              "    <tr>\n",
              "        <td>Hornet 4 Drive</td>\n",
              "        <td>21.4</td>\n",
              "        <td>6.0</td>\n",
              "        <td>258.0</td>\n",
              "        <td>110.0</td>\n",
              "        <td>3.08</td>\n",
              "        <td>3.215</td>\n",
              "        <td>19.44</td>\n",
              "        <td>1.0</td>\n",
              "        <td>0.0</td>\n",
              "        <td>3.0</td>\n",
              "        <td>1.0</td>\n",
              "    </tr>\n",
              "    <tr>\n",
              "        <td>Hornet Sportabout</td>\n",
              "        <td>18.7</td>\n",
              "        <td>8.0</td>\n",
              "        <td>360.0</td>\n",
              "        <td>175.0</td>\n",
              "        <td>3.15</td>\n",
              "        <td>3.44</td>\n",
              "        <td>17.02</td>\n",
              "        <td>0.0</td>\n",
              "        <td>0.0</td>\n",
              "        <td>3.0</td>\n",
              "        <td>2.0</td>\n",
              "    </tr>\n",
              "    <tr>\n",
              "        <td>Valiant</td>\n",
              "        <td>18.1</td>\n",
              "        <td>6.0</td>\n",
              "        <td>225.0</td>\n",
              "        <td>105.0</td>\n",
              "        <td>2.76</td>\n",
              "        <td>3.46</td>\n",
              "        <td>20.22</td>\n",
              "        <td>1.0</td>\n",
              "        <td>0.0</td>\n",
              "        <td>3.0</td>\n",
              "        <td>1.0</td>\n",
              "    </tr>\n",
              "    <tr>\n",
              "        <td>Duster 360</td>\n",
              "        <td>14.3</td>\n",
              "        <td>8.0</td>\n",
              "        <td>360.0</td>\n",
              "        <td>245.0</td>\n",
              "        <td>3.21</td>\n",
              "        <td>3.57</td>\n",
              "        <td>15.84</td>\n",
              "        <td>0.0</td>\n",
              "        <td>0.0</td>\n",
              "        <td>3.0</td>\n",
              "        <td>4.0</td>\n",
              "    </tr>\n",
              "    <tr>\n",
              "        <td>Merc 240D</td>\n",
              "        <td>24.4</td>\n",
              "        <td>4.0</td>\n",
              "        <td>146.7</td>\n",
              "        <td>62.0</td>\n",
              "        <td>3.69</td>\n",
              "        <td>3.19</td>\n",
              "        <td>20.0</td>\n",
              "        <td>1.0</td>\n",
              "        <td>0.0</td>\n",
              "        <td>4.0</td>\n",
              "        <td>2.0</td>\n",
              "    </tr>\n",
              "    <tr>\n",
              "        <td>Merc 230</td>\n",
              "        <td>22.8</td>\n",
              "        <td>4.0</td>\n",
              "        <td>140.8</td>\n",
              "        <td>95.0</td>\n",
              "        <td>3.92</td>\n",
              "        <td>3.15</td>\n",
              "        <td>22.9</td>\n",
              "        <td>1.0</td>\n",
              "        <td>0.0</td>\n",
              "        <td>4.0</td>\n",
              "        <td>2.0</td>\n",
              "    </tr>\n",
              "    <tr>\n",
              "        <td>Merc 280</td>\n",
              "        <td>19.2</td>\n",
              "        <td>6.0</td>\n",
              "        <td>167.6</td>\n",
              "        <td>123.0</td>\n",
              "        <td>3.92</td>\n",
              "        <td>3.44</td>\n",
              "        <td>18.3</td>\n",
              "        <td>1.0</td>\n",
              "        <td>0.0</td>\n",
              "        <td>4.0</td>\n",
              "        <td>4.0</td>\n",
              "    </tr>\n",
              "</table>"
            ],
            "text/plain": [
              "[('Mazda RX4', 21.0, 6.0, 160.0, 110.0, 3.9, 2.62, 16.46, 0.0, 1.0, 4.0, 4.0),\n",
              " ('Mazda RX4 Wag', 21.0, 6.0, 160.0, 110.0, 3.9, 2.875, 17.02, 0.0, 1.0, 4.0, 4.0),\n",
              " ('Datsun 710', 22.8, 4.0, 108.0, 93.0, 3.85, 2.32, 18.61, 1.0, 1.0, 4.0, 1.0),\n",
              " ('Hornet 4 Drive', 21.4, 6.0, 258.0, 110.0, 3.08, 3.215, 19.44, 1.0, 0.0, 3.0, 1.0),\n",
              " ('Hornet Sportabout', 18.7, 8.0, 360.0, 175.0, 3.15, 3.44, 17.02, 0.0, 0.0, 3.0, 2.0),\n",
              " ('Valiant', 18.1, 6.0, 225.0, 105.0, 2.76, 3.46, 20.22, 1.0, 0.0, 3.0, 1.0),\n",
              " ('Duster 360', 14.3, 8.0, 360.0, 245.0, 3.21, 3.57, 15.84, 0.0, 0.0, 3.0, 4.0),\n",
              " ('Merc 240D', 24.4, 4.0, 146.7, 62.0, 3.69, 3.19, 20.0, 1.0, 0.0, 4.0, 2.0),\n",
              " ('Merc 230', 22.8, 4.0, 140.8, 95.0, 3.92, 3.15, 22.9, 1.0, 0.0, 4.0, 2.0),\n",
              " ('Merc 280', 19.2, 6.0, 167.6, 123.0, 3.92, 3.44, 18.3, 1.0, 0.0, 4.0, 4.0)]"
            ]
          },
          "metadata": {
            "tags": []
          },
          "execution_count": 9
        }
      ]
    },
    {
      "cell_type": "markdown",
      "metadata": {
        "id": "Adig-hDKcC5I",
        "colab_type": "text"
      },
      "source": [
        "### Lab questions. "
      ]
    },
    {
      "cell_type": "markdown",
      "metadata": {
        "id": "WsE0ld4UcGRF",
        "colab_type": "text"
      },
      "source": [
        "Here are the question you will answer for the lab and you will need to:\n",
        "\n",
        "\n",
        "1.   Copy the question\n",
        "2.   Copy your SQL query\n",
        "3.   Copy the output from the query\n",
        "\n"
      ]
    },
    {
      "cell_type": "markdown",
      "metadata": {
        "id": "RT9Suj5hiwfA",
        "colab_type": "text"
      },
      "source": [
        "#### Q1"
      ]
    },
    {
      "cell_type": "markdown",
      "metadata": {
        "id": "n4AjLny7cUxH",
        "colab_type": "text"
      },
      "source": [
        "What type of cars (model) has the highest mpg for cars that 8 cylinders (cyl)?"
      ]
    },
    {
      "cell_type": "code",
      "metadata": {
        "id": "Wt3EndpjcFW9",
        "colab_type": "code",
        "outputId": "09cb00e2-fca7-4a66-98aa-f0e08e87dd81",
        "colab": {
          "base_uri": "https://localhost:8080/",
          "height": 174
        }
      },
      "source": [
        "%%sql\n",
        "select * from Cars limit 5;"
      ],
      "execution_count": 23,
      "outputs": [
        {
          "output_type": "stream",
          "text": [
            " * sqlite:///mtCars.db\n",
            "Done.\n"
          ],
          "name": "stdout"
        },
        {
          "output_type": "execute_result",
          "data": {
            "text/html": [
              "<table>\n",
              "    <tr>\n",
              "        <th>model</th>\n",
              "        <th>mpg</th>\n",
              "        <th>cyl</th>\n",
              "        <th>disp</th>\n",
              "        <th>hp</th>\n",
              "        <th>drat</th>\n",
              "        <th>wt</th>\n",
              "        <th>sqec</th>\n",
              "        <th>vs</th>\n",
              "        <th>am</th>\n",
              "        <th>gear</th>\n",
              "        <th>carb</th>\n",
              "    </tr>\n",
              "    <tr>\n",
              "        <td>Mazda RX4</td>\n",
              "        <td>21.0</td>\n",
              "        <td>6.0</td>\n",
              "        <td>160.0</td>\n",
              "        <td>110.0</td>\n",
              "        <td>3.9</td>\n",
              "        <td>2.62</td>\n",
              "        <td>16.46</td>\n",
              "        <td>0.0</td>\n",
              "        <td>1.0</td>\n",
              "        <td>4.0</td>\n",
              "        <td>4.0</td>\n",
              "    </tr>\n",
              "    <tr>\n",
              "        <td>Mazda RX4 Wag</td>\n",
              "        <td>21.0</td>\n",
              "        <td>6.0</td>\n",
              "        <td>160.0</td>\n",
              "        <td>110.0</td>\n",
              "        <td>3.9</td>\n",
              "        <td>2.875</td>\n",
              "        <td>17.02</td>\n",
              "        <td>0.0</td>\n",
              "        <td>1.0</td>\n",
              "        <td>4.0</td>\n",
              "        <td>4.0</td>\n",
              "    </tr>\n",
              "    <tr>\n",
              "        <td>Datsun 710</td>\n",
              "        <td>22.8</td>\n",
              "        <td>4.0</td>\n",
              "        <td>108.0</td>\n",
              "        <td>93.0</td>\n",
              "        <td>3.85</td>\n",
              "        <td>2.32</td>\n",
              "        <td>18.61</td>\n",
              "        <td>1.0</td>\n",
              "        <td>1.0</td>\n",
              "        <td>4.0</td>\n",
              "        <td>1.0</td>\n",
              "    </tr>\n",
              "    <tr>\n",
              "        <td>Hornet 4 Drive</td>\n",
              "        <td>21.4</td>\n",
              "        <td>6.0</td>\n",
              "        <td>258.0</td>\n",
              "        <td>110.0</td>\n",
              "        <td>3.08</td>\n",
              "        <td>3.215</td>\n",
              "        <td>19.44</td>\n",
              "        <td>1.0</td>\n",
              "        <td>0.0</td>\n",
              "        <td>3.0</td>\n",
              "        <td>1.0</td>\n",
              "    </tr>\n",
              "    <tr>\n",
              "        <td>Hornet Sportabout</td>\n",
              "        <td>18.7</td>\n",
              "        <td>8.0</td>\n",
              "        <td>360.0</td>\n",
              "        <td>175.0</td>\n",
              "        <td>3.15</td>\n",
              "        <td>3.44</td>\n",
              "        <td>17.02</td>\n",
              "        <td>0.0</td>\n",
              "        <td>0.0</td>\n",
              "        <td>3.0</td>\n",
              "        <td>2.0</td>\n",
              "    </tr>\n",
              "</table>"
            ],
            "text/plain": [
              "[('Mazda RX4', 21.0, 6.0, 160.0, 110.0, 3.9, 2.62, 16.46, 0.0, 1.0, 4.0, 4.0),\n",
              " ('Mazda RX4 Wag', 21.0, 6.0, 160.0, 110.0, 3.9, 2.875, 17.02, 0.0, 1.0, 4.0, 4.0),\n",
              " ('Datsun 710', 22.8, 4.0, 108.0, 93.0, 3.85, 2.32, 18.61, 1.0, 1.0, 4.0, 1.0),\n",
              " ('Hornet 4 Drive', 21.4, 6.0, 258.0, 110.0, 3.08, 3.215, 19.44, 1.0, 0.0, 3.0, 1.0),\n",
              " ('Hornet Sportabout', 18.7, 8.0, 360.0, 175.0, 3.15, 3.44, 17.02, 0.0, 0.0, 3.0, 2.0)]"
            ]
          },
          "metadata": {
            "tags": []
          },
          "execution_count": 23
        }
      ]
    },
    {
      "cell_type": "markdown",
      "metadata": {
        "id": "qWJwFPe0izis",
        "colab_type": "text"
      },
      "source": [
        "#### Q2"
      ]
    },
    {
      "cell_type": "markdown",
      "metadata": {
        "id": "JGkRWU7Kdd0f",
        "colab_type": "text"
      },
      "source": [
        "Which cars (model) have weight (wt) between 3 and 3.5, and horse power (hp) great than or equal to  123"
      ]
    },
    {
      "cell_type": "code",
      "metadata": {
        "id": "xDKfcxLkckBc",
        "colab_type": "code",
        "outputId": "0732d140-7ae8-4fce-ba26-8ac4c19b50da",
        "colab": {
          "base_uri": "https://localhost:8080/",
          "height": 174
        }
      },
      "source": [
        "%%sql\n",
        "select * from Cars limit 5;"
      ],
      "execution_count": 24,
      "outputs": [
        {
          "output_type": "stream",
          "text": [
            " * sqlite:///mtCars.db\n",
            "Done.\n"
          ],
          "name": "stdout"
        },
        {
          "output_type": "execute_result",
          "data": {
            "text/html": [
              "<table>\n",
              "    <tr>\n",
              "        <th>model</th>\n",
              "        <th>mpg</th>\n",
              "        <th>cyl</th>\n",
              "        <th>disp</th>\n",
              "        <th>hp</th>\n",
              "        <th>drat</th>\n",
              "        <th>wt</th>\n",
              "        <th>sqec</th>\n",
              "        <th>vs</th>\n",
              "        <th>am</th>\n",
              "        <th>gear</th>\n",
              "        <th>carb</th>\n",
              "    </tr>\n",
              "    <tr>\n",
              "        <td>Mazda RX4</td>\n",
              "        <td>21.0</td>\n",
              "        <td>6.0</td>\n",
              "        <td>160.0</td>\n",
              "        <td>110.0</td>\n",
              "        <td>3.9</td>\n",
              "        <td>2.62</td>\n",
              "        <td>16.46</td>\n",
              "        <td>0.0</td>\n",
              "        <td>1.0</td>\n",
              "        <td>4.0</td>\n",
              "        <td>4.0</td>\n",
              "    </tr>\n",
              "    <tr>\n",
              "        <td>Mazda RX4 Wag</td>\n",
              "        <td>21.0</td>\n",
              "        <td>6.0</td>\n",
              "        <td>160.0</td>\n",
              "        <td>110.0</td>\n",
              "        <td>3.9</td>\n",
              "        <td>2.875</td>\n",
              "        <td>17.02</td>\n",
              "        <td>0.0</td>\n",
              "        <td>1.0</td>\n",
              "        <td>4.0</td>\n",
              "        <td>4.0</td>\n",
              "    </tr>\n",
              "    <tr>\n",
              "        <td>Datsun 710</td>\n",
              "        <td>22.8</td>\n",
              "        <td>4.0</td>\n",
              "        <td>108.0</td>\n",
              "        <td>93.0</td>\n",
              "        <td>3.85</td>\n",
              "        <td>2.32</td>\n",
              "        <td>18.61</td>\n",
              "        <td>1.0</td>\n",
              "        <td>1.0</td>\n",
              "        <td>4.0</td>\n",
              "        <td>1.0</td>\n",
              "    </tr>\n",
              "    <tr>\n",
              "        <td>Hornet 4 Drive</td>\n",
              "        <td>21.4</td>\n",
              "        <td>6.0</td>\n",
              "        <td>258.0</td>\n",
              "        <td>110.0</td>\n",
              "        <td>3.08</td>\n",
              "        <td>3.215</td>\n",
              "        <td>19.44</td>\n",
              "        <td>1.0</td>\n",
              "        <td>0.0</td>\n",
              "        <td>3.0</td>\n",
              "        <td>1.0</td>\n",
              "    </tr>\n",
              "    <tr>\n",
              "        <td>Hornet Sportabout</td>\n",
              "        <td>18.7</td>\n",
              "        <td>8.0</td>\n",
              "        <td>360.0</td>\n",
              "        <td>175.0</td>\n",
              "        <td>3.15</td>\n",
              "        <td>3.44</td>\n",
              "        <td>17.02</td>\n",
              "        <td>0.0</td>\n",
              "        <td>0.0</td>\n",
              "        <td>3.0</td>\n",
              "        <td>2.0</td>\n",
              "    </tr>\n",
              "</table>"
            ],
            "text/plain": [
              "[('Mazda RX4', 21.0, 6.0, 160.0, 110.0, 3.9, 2.62, 16.46, 0.0, 1.0, 4.0, 4.0),\n",
              " ('Mazda RX4 Wag', 21.0, 6.0, 160.0, 110.0, 3.9, 2.875, 17.02, 0.0, 1.0, 4.0, 4.0),\n",
              " ('Datsun 710', 22.8, 4.0, 108.0, 93.0, 3.85, 2.32, 18.61, 1.0, 1.0, 4.0, 1.0),\n",
              " ('Hornet 4 Drive', 21.4, 6.0, 258.0, 110.0, 3.08, 3.215, 19.44, 1.0, 0.0, 3.0, 1.0),\n",
              " ('Hornet Sportabout', 18.7, 8.0, 360.0, 175.0, 3.15, 3.44, 17.02, 0.0, 0.0, 3.0, 2.0)]"
            ]
          },
          "metadata": {
            "tags": []
          },
          "execution_count": 24
        }
      ]
    },
    {
      "cell_type": "markdown",
      "metadata": {
        "id": "MEAhnl4ii02t",
        "colab_type": "text"
      },
      "source": [
        "#### Q3"
      ]
    },
    {
      "cell_type": "markdown",
      "metadata": {
        "id": "cywF40aGeHtA",
        "colab_type": "text"
      },
      "source": [
        "Which cars (model) have Number of forward gears (gear) 4 or 5, and mpg greater than 30?"
      ]
    },
    {
      "cell_type": "code",
      "metadata": {
        "id": "KAd25lnHdqME",
        "colab_type": "code",
        "outputId": "4c1b9857-855f-46a2-d864-4e3efb5bd1dc",
        "colab": {
          "base_uri": "https://localhost:8080/",
          "height": 174
        }
      },
      "source": [
        "%%sql\n",
        "select * from Cars limit 5;"
      ],
      "execution_count": 25,
      "outputs": [
        {
          "output_type": "stream",
          "text": [
            " * sqlite:///mtCars.db\n",
            "Done.\n"
          ],
          "name": "stdout"
        },
        {
          "output_type": "execute_result",
          "data": {
            "text/html": [
              "<table>\n",
              "    <tr>\n",
              "        <th>model</th>\n",
              "        <th>mpg</th>\n",
              "        <th>cyl</th>\n",
              "        <th>disp</th>\n",
              "        <th>hp</th>\n",
              "        <th>drat</th>\n",
              "        <th>wt</th>\n",
              "        <th>sqec</th>\n",
              "        <th>vs</th>\n",
              "        <th>am</th>\n",
              "        <th>gear</th>\n",
              "        <th>carb</th>\n",
              "    </tr>\n",
              "    <tr>\n",
              "        <td>Mazda RX4</td>\n",
              "        <td>21.0</td>\n",
              "        <td>6.0</td>\n",
              "        <td>160.0</td>\n",
              "        <td>110.0</td>\n",
              "        <td>3.9</td>\n",
              "        <td>2.62</td>\n",
              "        <td>16.46</td>\n",
              "        <td>0.0</td>\n",
              "        <td>1.0</td>\n",
              "        <td>4.0</td>\n",
              "        <td>4.0</td>\n",
              "    </tr>\n",
              "    <tr>\n",
              "        <td>Mazda RX4 Wag</td>\n",
              "        <td>21.0</td>\n",
              "        <td>6.0</td>\n",
              "        <td>160.0</td>\n",
              "        <td>110.0</td>\n",
              "        <td>3.9</td>\n",
              "        <td>2.875</td>\n",
              "        <td>17.02</td>\n",
              "        <td>0.0</td>\n",
              "        <td>1.0</td>\n",
              "        <td>4.0</td>\n",
              "        <td>4.0</td>\n",
              "    </tr>\n",
              "    <tr>\n",
              "        <td>Datsun 710</td>\n",
              "        <td>22.8</td>\n",
              "        <td>4.0</td>\n",
              "        <td>108.0</td>\n",
              "        <td>93.0</td>\n",
              "        <td>3.85</td>\n",
              "        <td>2.32</td>\n",
              "        <td>18.61</td>\n",
              "        <td>1.0</td>\n",
              "        <td>1.0</td>\n",
              "        <td>4.0</td>\n",
              "        <td>1.0</td>\n",
              "    </tr>\n",
              "    <tr>\n",
              "        <td>Hornet 4 Drive</td>\n",
              "        <td>21.4</td>\n",
              "        <td>6.0</td>\n",
              "        <td>258.0</td>\n",
              "        <td>110.0</td>\n",
              "        <td>3.08</td>\n",
              "        <td>3.215</td>\n",
              "        <td>19.44</td>\n",
              "        <td>1.0</td>\n",
              "        <td>0.0</td>\n",
              "        <td>3.0</td>\n",
              "        <td>1.0</td>\n",
              "    </tr>\n",
              "    <tr>\n",
              "        <td>Hornet Sportabout</td>\n",
              "        <td>18.7</td>\n",
              "        <td>8.0</td>\n",
              "        <td>360.0</td>\n",
              "        <td>175.0</td>\n",
              "        <td>3.15</td>\n",
              "        <td>3.44</td>\n",
              "        <td>17.02</td>\n",
              "        <td>0.0</td>\n",
              "        <td>0.0</td>\n",
              "        <td>3.0</td>\n",
              "        <td>2.0</td>\n",
              "    </tr>\n",
              "</table>"
            ],
            "text/plain": [
              "[('Mazda RX4', 21.0, 6.0, 160.0, 110.0, 3.9, 2.62, 16.46, 0.0, 1.0, 4.0, 4.0),\n",
              " ('Mazda RX4 Wag', 21.0, 6.0, 160.0, 110.0, 3.9, 2.875, 17.02, 0.0, 1.0, 4.0, 4.0),\n",
              " ('Datsun 710', 22.8, 4.0, 108.0, 93.0, 3.85, 2.32, 18.61, 1.0, 1.0, 4.0, 1.0),\n",
              " ('Hornet 4 Drive', 21.4, 6.0, 258.0, 110.0, 3.08, 3.215, 19.44, 1.0, 0.0, 3.0, 1.0),\n",
              " ('Hornet Sportabout', 18.7, 8.0, 360.0, 175.0, 3.15, 3.44, 17.02, 0.0, 0.0, 3.0, 2.0)]"
            ]
          },
          "metadata": {
            "tags": []
          },
          "execution_count": 25
        }
      ]
    },
    {
      "cell_type": "markdown",
      "metadata": {
        "id": "ZOHUuKX_i19G",
        "colab_type": "text"
      },
      "source": [
        "#### Q4"
      ]
    },
    {
      "cell_type": "markdown",
      "metadata": {
        "id": "mnca5n7uenSQ",
        "colab_type": "text"
      },
      "source": [
        "What is the difference between the highest horse power (hp) and the lowest horse power (hp)? "
      ]
    },
    {
      "cell_type": "code",
      "metadata": {
        "id": "DGJjkRVxeTZz",
        "colab_type": "code",
        "outputId": "88b883ac-279d-4fcf-9e07-2e44cc0d8334",
        "colab": {
          "base_uri": "https://localhost:8080/",
          "height": 174
        }
      },
      "source": [
        "%%sql\n",
        "select * from Cars limit 5;"
      ],
      "execution_count": 26,
      "outputs": [
        {
          "output_type": "stream",
          "text": [
            " * sqlite:///mtCars.db\n",
            "Done.\n"
          ],
          "name": "stdout"
        },
        {
          "output_type": "execute_result",
          "data": {
            "text/html": [
              "<table>\n",
              "    <tr>\n",
              "        <th>model</th>\n",
              "        <th>mpg</th>\n",
              "        <th>cyl</th>\n",
              "        <th>disp</th>\n",
              "        <th>hp</th>\n",
              "        <th>drat</th>\n",
              "        <th>wt</th>\n",
              "        <th>sqec</th>\n",
              "        <th>vs</th>\n",
              "        <th>am</th>\n",
              "        <th>gear</th>\n",
              "        <th>carb</th>\n",
              "    </tr>\n",
              "    <tr>\n",
              "        <td>Mazda RX4</td>\n",
              "        <td>21.0</td>\n",
              "        <td>6.0</td>\n",
              "        <td>160.0</td>\n",
              "        <td>110.0</td>\n",
              "        <td>3.9</td>\n",
              "        <td>2.62</td>\n",
              "        <td>16.46</td>\n",
              "        <td>0.0</td>\n",
              "        <td>1.0</td>\n",
              "        <td>4.0</td>\n",
              "        <td>4.0</td>\n",
              "    </tr>\n",
              "    <tr>\n",
              "        <td>Mazda RX4 Wag</td>\n",
              "        <td>21.0</td>\n",
              "        <td>6.0</td>\n",
              "        <td>160.0</td>\n",
              "        <td>110.0</td>\n",
              "        <td>3.9</td>\n",
              "        <td>2.875</td>\n",
              "        <td>17.02</td>\n",
              "        <td>0.0</td>\n",
              "        <td>1.0</td>\n",
              "        <td>4.0</td>\n",
              "        <td>4.0</td>\n",
              "    </tr>\n",
              "    <tr>\n",
              "        <td>Datsun 710</td>\n",
              "        <td>22.8</td>\n",
              "        <td>4.0</td>\n",
              "        <td>108.0</td>\n",
              "        <td>93.0</td>\n",
              "        <td>3.85</td>\n",
              "        <td>2.32</td>\n",
              "        <td>18.61</td>\n",
              "        <td>1.0</td>\n",
              "        <td>1.0</td>\n",
              "        <td>4.0</td>\n",
              "        <td>1.0</td>\n",
              "    </tr>\n",
              "    <tr>\n",
              "        <td>Hornet 4 Drive</td>\n",
              "        <td>21.4</td>\n",
              "        <td>6.0</td>\n",
              "        <td>258.0</td>\n",
              "        <td>110.0</td>\n",
              "        <td>3.08</td>\n",
              "        <td>3.215</td>\n",
              "        <td>19.44</td>\n",
              "        <td>1.0</td>\n",
              "        <td>0.0</td>\n",
              "        <td>3.0</td>\n",
              "        <td>1.0</td>\n",
              "    </tr>\n",
              "    <tr>\n",
              "        <td>Hornet Sportabout</td>\n",
              "        <td>18.7</td>\n",
              "        <td>8.0</td>\n",
              "        <td>360.0</td>\n",
              "        <td>175.0</td>\n",
              "        <td>3.15</td>\n",
              "        <td>3.44</td>\n",
              "        <td>17.02</td>\n",
              "        <td>0.0</td>\n",
              "        <td>0.0</td>\n",
              "        <td>3.0</td>\n",
              "        <td>2.0</td>\n",
              "    </tr>\n",
              "</table>"
            ],
            "text/plain": [
              "[('Mazda RX4', 21.0, 6.0, 160.0, 110.0, 3.9, 2.62, 16.46, 0.0, 1.0, 4.0, 4.0),\n",
              " ('Mazda RX4 Wag', 21.0, 6.0, 160.0, 110.0, 3.9, 2.875, 17.02, 0.0, 1.0, 4.0, 4.0),\n",
              " ('Datsun 710', 22.8, 4.0, 108.0, 93.0, 3.85, 2.32, 18.61, 1.0, 1.0, 4.0, 1.0),\n",
              " ('Hornet 4 Drive', 21.4, 6.0, 258.0, 110.0, 3.08, 3.215, 19.44, 1.0, 0.0, 3.0, 1.0),\n",
              " ('Hornet Sportabout', 18.7, 8.0, 360.0, 175.0, 3.15, 3.44, 17.02, 0.0, 0.0, 3.0, 2.0)]"
            ]
          },
          "metadata": {
            "tags": []
          },
          "execution_count": 26
        }
      ]
    },
    {
      "cell_type": "markdown",
      "metadata": {
        "id": "ZKIoZkRAi4AX",
        "colab_type": "text"
      },
      "source": [
        "#### Q5"
      ]
    },
    {
      "cell_type": "markdown",
      "metadata": {
        "id": "5qWeqC1xhnXu",
        "colab_type": "text"
      },
      "source": [
        "What is the average mpg for cars (model) with 8 cylinders (cyl) and between 100 and 200 horse power (hp)?"
      ]
    },
    {
      "cell_type": "code",
      "metadata": {
        "id": "omq-ZqmjeuaG",
        "colab_type": "code",
        "outputId": "51aca181-fd3e-403a-dba7-09f47204f54e",
        "colab": {
          "base_uri": "https://localhost:8080/",
          "height": 174
        }
      },
      "source": [
        "%%sql\n",
        "select * from Cars limit 5;"
      ],
      "execution_count": 27,
      "outputs": [
        {
          "output_type": "stream",
          "text": [
            " * sqlite:///mtCars.db\n",
            "Done.\n"
          ],
          "name": "stdout"
        },
        {
          "output_type": "execute_result",
          "data": {
            "text/html": [
              "<table>\n",
              "    <tr>\n",
              "        <th>model</th>\n",
              "        <th>mpg</th>\n",
              "        <th>cyl</th>\n",
              "        <th>disp</th>\n",
              "        <th>hp</th>\n",
              "        <th>drat</th>\n",
              "        <th>wt</th>\n",
              "        <th>sqec</th>\n",
              "        <th>vs</th>\n",
              "        <th>am</th>\n",
              "        <th>gear</th>\n",
              "        <th>carb</th>\n",
              "    </tr>\n",
              "    <tr>\n",
              "        <td>Mazda RX4</td>\n",
              "        <td>21.0</td>\n",
              "        <td>6.0</td>\n",
              "        <td>160.0</td>\n",
              "        <td>110.0</td>\n",
              "        <td>3.9</td>\n",
              "        <td>2.62</td>\n",
              "        <td>16.46</td>\n",
              "        <td>0.0</td>\n",
              "        <td>1.0</td>\n",
              "        <td>4.0</td>\n",
              "        <td>4.0</td>\n",
              "    </tr>\n",
              "    <tr>\n",
              "        <td>Mazda RX4 Wag</td>\n",
              "        <td>21.0</td>\n",
              "        <td>6.0</td>\n",
              "        <td>160.0</td>\n",
              "        <td>110.0</td>\n",
              "        <td>3.9</td>\n",
              "        <td>2.875</td>\n",
              "        <td>17.02</td>\n",
              "        <td>0.0</td>\n",
              "        <td>1.0</td>\n",
              "        <td>4.0</td>\n",
              "        <td>4.0</td>\n",
              "    </tr>\n",
              "    <tr>\n",
              "        <td>Datsun 710</td>\n",
              "        <td>22.8</td>\n",
              "        <td>4.0</td>\n",
              "        <td>108.0</td>\n",
              "        <td>93.0</td>\n",
              "        <td>3.85</td>\n",
              "        <td>2.32</td>\n",
              "        <td>18.61</td>\n",
              "        <td>1.0</td>\n",
              "        <td>1.0</td>\n",
              "        <td>4.0</td>\n",
              "        <td>1.0</td>\n",
              "    </tr>\n",
              "    <tr>\n",
              "        <td>Hornet 4 Drive</td>\n",
              "        <td>21.4</td>\n",
              "        <td>6.0</td>\n",
              "        <td>258.0</td>\n",
              "        <td>110.0</td>\n",
              "        <td>3.08</td>\n",
              "        <td>3.215</td>\n",
              "        <td>19.44</td>\n",
              "        <td>1.0</td>\n",
              "        <td>0.0</td>\n",
              "        <td>3.0</td>\n",
              "        <td>1.0</td>\n",
              "    </tr>\n",
              "    <tr>\n",
              "        <td>Hornet Sportabout</td>\n",
              "        <td>18.7</td>\n",
              "        <td>8.0</td>\n",
              "        <td>360.0</td>\n",
              "        <td>175.0</td>\n",
              "        <td>3.15</td>\n",
              "        <td>3.44</td>\n",
              "        <td>17.02</td>\n",
              "        <td>0.0</td>\n",
              "        <td>0.0</td>\n",
              "        <td>3.0</td>\n",
              "        <td>2.0</td>\n",
              "    </tr>\n",
              "</table>"
            ],
            "text/plain": [
              "[('Mazda RX4', 21.0, 6.0, 160.0, 110.0, 3.9, 2.62, 16.46, 0.0, 1.0, 4.0, 4.0),\n",
              " ('Mazda RX4 Wag', 21.0, 6.0, 160.0, 110.0, 3.9, 2.875, 17.02, 0.0, 1.0, 4.0, 4.0),\n",
              " ('Datsun 710', 22.8, 4.0, 108.0, 93.0, 3.85, 2.32, 18.61, 1.0, 1.0, 4.0, 1.0),\n",
              " ('Hornet 4 Drive', 21.4, 6.0, 258.0, 110.0, 3.08, 3.215, 19.44, 1.0, 0.0, 3.0, 1.0),\n",
              " ('Hornet Sportabout', 18.7, 8.0, 360.0, 175.0, 3.15, 3.44, 17.02, 0.0, 0.0, 3.0, 2.0)]"
            ]
          },
          "metadata": {
            "tags": []
          },
          "execution_count": 27
        }
      ]
    },
    {
      "cell_type": "markdown",
      "metadata": {
        "id": "WpYunV5qi6GG",
        "colab_type": "text"
      },
      "source": [
        "#### Q6"
      ]
    },
    {
      "cell_type": "markdown",
      "metadata": {
        "id": "vVjSp-a6i6-x",
        "colab_type": "text"
      },
      "source": [
        "What is the average mpg and the number of cars (model) that are automatic (am is 0)"
      ]
    },
    {
      "cell_type": "code",
      "metadata": {
        "id": "JzbM3CSmh-pF",
        "colab_type": "code",
        "outputId": "ee8163a8-d8de-4302-d0ea-50dfa1f27fe1",
        "colab": {
          "base_uri": "https://localhost:8080/",
          "height": 174
        }
      },
      "source": [
        "%%sql\n",
        "select * from Cars limit 5;"
      ],
      "execution_count": 28,
      "outputs": [
        {
          "output_type": "stream",
          "text": [
            " * sqlite:///mtCars.db\n",
            "Done.\n"
          ],
          "name": "stdout"
        },
        {
          "output_type": "execute_result",
          "data": {
            "text/html": [
              "<table>\n",
              "    <tr>\n",
              "        <th>model</th>\n",
              "        <th>mpg</th>\n",
              "        <th>cyl</th>\n",
              "        <th>disp</th>\n",
              "        <th>hp</th>\n",
              "        <th>drat</th>\n",
              "        <th>wt</th>\n",
              "        <th>sqec</th>\n",
              "        <th>vs</th>\n",
              "        <th>am</th>\n",
              "        <th>gear</th>\n",
              "        <th>carb</th>\n",
              "    </tr>\n",
              "    <tr>\n",
              "        <td>Mazda RX4</td>\n",
              "        <td>21.0</td>\n",
              "        <td>6.0</td>\n",
              "        <td>160.0</td>\n",
              "        <td>110.0</td>\n",
              "        <td>3.9</td>\n",
              "        <td>2.62</td>\n",
              "        <td>16.46</td>\n",
              "        <td>0.0</td>\n",
              "        <td>1.0</td>\n",
              "        <td>4.0</td>\n",
              "        <td>4.0</td>\n",
              "    </tr>\n",
              "    <tr>\n",
              "        <td>Mazda RX4 Wag</td>\n",
              "        <td>21.0</td>\n",
              "        <td>6.0</td>\n",
              "        <td>160.0</td>\n",
              "        <td>110.0</td>\n",
              "        <td>3.9</td>\n",
              "        <td>2.875</td>\n",
              "        <td>17.02</td>\n",
              "        <td>0.0</td>\n",
              "        <td>1.0</td>\n",
              "        <td>4.0</td>\n",
              "        <td>4.0</td>\n",
              "    </tr>\n",
              "    <tr>\n",
              "        <td>Datsun 710</td>\n",
              "        <td>22.8</td>\n",
              "        <td>4.0</td>\n",
              "        <td>108.0</td>\n",
              "        <td>93.0</td>\n",
              "        <td>3.85</td>\n",
              "        <td>2.32</td>\n",
              "        <td>18.61</td>\n",
              "        <td>1.0</td>\n",
              "        <td>1.0</td>\n",
              "        <td>4.0</td>\n",
              "        <td>1.0</td>\n",
              "    </tr>\n",
              "    <tr>\n",
              "        <td>Hornet 4 Drive</td>\n",
              "        <td>21.4</td>\n",
              "        <td>6.0</td>\n",
              "        <td>258.0</td>\n",
              "        <td>110.0</td>\n",
              "        <td>3.08</td>\n",
              "        <td>3.215</td>\n",
              "        <td>19.44</td>\n",
              "        <td>1.0</td>\n",
              "        <td>0.0</td>\n",
              "        <td>3.0</td>\n",
              "        <td>1.0</td>\n",
              "    </tr>\n",
              "    <tr>\n",
              "        <td>Hornet Sportabout</td>\n",
              "        <td>18.7</td>\n",
              "        <td>8.0</td>\n",
              "        <td>360.0</td>\n",
              "        <td>175.0</td>\n",
              "        <td>3.15</td>\n",
              "        <td>3.44</td>\n",
              "        <td>17.02</td>\n",
              "        <td>0.0</td>\n",
              "        <td>0.0</td>\n",
              "        <td>3.0</td>\n",
              "        <td>2.0</td>\n",
              "    </tr>\n",
              "</table>"
            ],
            "text/plain": [
              "[('Mazda RX4', 21.0, 6.0, 160.0, 110.0, 3.9, 2.62, 16.46, 0.0, 1.0, 4.0, 4.0),\n",
              " ('Mazda RX4 Wag', 21.0, 6.0, 160.0, 110.0, 3.9, 2.875, 17.02, 0.0, 1.0, 4.0, 4.0),\n",
              " ('Datsun 710', 22.8, 4.0, 108.0, 93.0, 3.85, 2.32, 18.61, 1.0, 1.0, 4.0, 1.0),\n",
              " ('Hornet 4 Drive', 21.4, 6.0, 258.0, 110.0, 3.08, 3.215, 19.44, 1.0, 0.0, 3.0, 1.0),\n",
              " ('Hornet Sportabout', 18.7, 8.0, 360.0, 175.0, 3.15, 3.44, 17.02, 0.0, 0.0, 3.0, 2.0)]"
            ]
          },
          "metadata": {
            "tags": []
          },
          "execution_count": 28
        }
      ]
    },
    {
      "cell_type": "code",
      "metadata": {
        "id": "5mwL9z7bkFAj",
        "colab_type": "code",
        "colab": {}
      },
      "source": [
        ""
      ],
      "execution_count": 0,
      "outputs": []
    }
  ]
}