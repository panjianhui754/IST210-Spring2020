{
  "nbformat": 4,
  "nbformat_minor": 0,
  "metadata": {
    "colab": {
      "name": "ClassLab1.ipynb",
      "provenance": [],
      "authorship_tag": "ABX9TyMzzD0tQ2porXXNuuzcq4tn",
      "include_colab_link": true
    },
    "kernelspec": {
      "name": "python3",
      "display_name": "Python 3"
    }
  },
  "cells": [
    {
      "cell_type": "markdown",
      "metadata": {
        "id": "view-in-github",
        "colab_type": "text"
      },
      "source": [
        "<a href=\"https://colab.research.google.com/github/dudaspm/IST210-Spring2020/blob/master/SQL/ClassLab1.ipynb\" target=\"_parent\"><img src=\"https://colab.research.google.com/assets/colab-badge.svg\" alt=\"Open In Colab\"/></a>"
      ]
    },
    {
      "cell_type": "markdown",
      "metadata": {
        "id": "zTFTWVz1H0nn",
        "colab_type": "text"
      },
      "source": [
        "For today, you will need to utilize this notebook to:\n",
        "\n",
        "\n",
        "*   Create a Database\n",
        "*   Create a Table in the database\n",
        "*   Add Tuples to your table\n",
        "*   Select data from your table\n",
        "\n"
      ]
    },
    {
      "cell_type": "markdown",
      "metadata": {
        "id": "2xsugosoIYQN",
        "colab_type": "text"
      },
      "source": [
        "Here is the starting point for you. Please run the following line first!"
      ]
    },
    {
      "cell_type": "code",
      "metadata": {
        "id": "LsPGZPqpIXx-",
        "colab_type": "code",
        "colab": {}
      },
      "source": [
        "%load_ext sql"
      ],
      "execution_count": 0,
      "outputs": []
    },
    {
      "cell_type": "markdown",
      "metadata": {
        "id": "ZDulMKjkIl6B",
        "colab_type": "text"
      },
      "source": [
        "Create the database here:"
      ]
    },
    {
      "cell_type": "code",
      "metadata": {
        "id": "lz8uNdo0Iicj",
        "colab_type": "code",
        "colab": {
          "base_uri": "https://localhost:8080/",
          "height": 35
        },
        "outputId": "0ce030a1-cf41-4e36-fea1-6f0ca06c1c94"
      },
      "source": [
        "%%sql\n",
        "sqlite:///weather.db"
      ],
      "execution_count": 4,
      "outputs": [
        {
          "output_type": "execute_result",
          "data": {
            "text/plain": [
              "'Connected: @weather.db'"
            ]
          },
          "metadata": {
            "tags": []
          },
          "execution_count": 4
        }
      ]
    },
    {
      "cell_type": "markdown",
      "metadata": {
        "id": "CnZUtCzBIwFk",
        "colab_type": "text"
      },
      "source": [
        "Here is your ER Diagram\n",
        "\n",
        "![weather ER Diagram](https://raw.githubusercontent.com/dudaspm/IST210-Spring2020/master/SQL/images/weather.png)"
      ]
    },
    {
      "cell_type": "markdown",
      "metadata": {
        "id": "p0baJdJJJVy2",
        "colab_type": "text"
      },
      "source": [
        "*   **date** - the date (make this a text attribute)\n",
        "*   **precipitation** - in  (inches)\n",
        "*   **snow** - amount of snow  (inches)\n",
        "*   **temp_max** - temp max (fahrenheit)\n",
        "*   **temp_min** - temp min (fahrenheit)"
      ]
    },
    {
      "cell_type": "markdown",
      "metadata": {
        "id": "SXer9WduKH_Q",
        "colab_type": "text"
      },
      "source": [
        "Create a table with this information:"
      ]
    },
    {
      "cell_type": "code",
      "metadata": {
        "id": "FrxXrWMzIsKL",
        "colab_type": "code",
        "colab": {
          "base_uri": "https://localhost:8080/",
          "height": 70
        },
        "outputId": "33b60269-27eb-4e74-af23-4f1f9a96e459"
      },
      "source": [
        "%%sql\n",
        "-- #Delete this line and add code here"
      ],
      "execution_count": 6,
      "outputs": [
        {
          "output_type": "stream",
          "text": [
            " * sqlite:///weather.db\n",
            "0 rows affected.\n"
          ],
          "name": "stdout"
        },
        {
          "output_type": "execute_result",
          "data": {
            "text/plain": [
              "[]"
            ]
          },
          "metadata": {
            "tags": []
          },
          "execution_count": 6
        }
      ]
    },
    {
      "cell_type": "markdown",
      "metadata": {
        "id": "_ITJlO1eKr8w",
        "colab_type": "text"
      },
      "source": [
        "Add these tuples:\n",
        "\n",
        "date | precipitation | snow | temp_max | temp_max\n",
        "--- | --- | --- | --- | --- \n",
        "1/1/2017 | 0.01 | 0 | 40 | 27\n",
        "1/2/2017 | 0.02 | 0 | 43 | 30\n",
        "1/3/2017 | 0.03 | 0 | 38 | 36\n",
        "1/4/2017 | 0.43 | 0 | 44 | 38"
      ]
    },
    {
      "cell_type": "code",
      "metadata": {
        "id": "VMYeZtR8KaBG",
        "colab_type": "code",
        "colab": {}
      },
      "source": [
        "%%sql\n",
        "-- #Delete this line and add code here"
      ],
      "execution_count": 0,
      "outputs": []
    },
    {
      "cell_type": "markdown",
      "metadata": {
        "id": "vJDO4jX-LjCp",
        "colab_type": "text"
      },
      "source": [
        "Select all attributes from the table"
      ]
    },
    {
      "cell_type": "code",
      "metadata": {
        "id": "1P_KmkbZLl6f",
        "colab_type": "code",
        "colab": {}
      },
      "source": [
        "%%sql\n",
        "-- #Delete this line and add code here"
      ],
      "execution_count": 0,
      "outputs": []
    },
    {
      "cell_type": "markdown",
      "metadata": {
        "id": "m6BnZUPtLoEw",
        "colab_type": "text"
      },
      "source": [
        "Select only the date and snow from the table"
      ]
    },
    {
      "cell_type": "code",
      "metadata": {
        "id": "YH3bEaenLrOK",
        "colab_type": "code",
        "colab": {}
      },
      "source": [
        "%%sql\n",
        "-- #Delete this line and add code here"
      ],
      "execution_count": 0,
      "outputs": []
    }
  ]
}