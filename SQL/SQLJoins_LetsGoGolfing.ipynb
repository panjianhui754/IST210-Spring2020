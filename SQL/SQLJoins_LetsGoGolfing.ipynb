{
  "nbformat": 4,
  "nbformat_minor": 0,
  "metadata": {
    "colab": {
      "name": "SQLJoins - LetsGoGolfing.ipynb",
      "provenance": [],
      "collapsed_sections": [],
      "include_colab_link": true
    },
    "kernelspec": {
      "name": "python3",
      "display_name": "Python 3"
    }
  },
  "cells": [
    {
      "cell_type": "markdown",
      "metadata": {
        "id": "view-in-github",
        "colab_type": "text"
      },
      "source": [
        "<a href=\"https://colab.research.google.com/github/dudaspm/IST210-Spring2020/blob/master/SQL/SQLJoins_LetsGoGolfing.ipynb\" target=\"_parent\"><img src=\"https://colab.research.google.com/assets/colab-badge.svg\" alt=\"Open In Colab\"/></a>"
      ]
    },
    {
      "cell_type": "markdown",
      "metadata": {
        "id": "hkDRoeNiFUWe",
        "colab_type": "text"
      },
      "source": [
        "# Joins and other SQL commands"
      ]
    },
    {
      "cell_type": "markdown",
      "metadata": {
        "id": "1sXcft6mNU8t",
        "colab_type": "text"
      },
      "source": [
        "(As always, before we start. Go to the top of the screen and select \"Runtime\" and then \"Run all\")"
      ]
    },
    {
      "cell_type": "markdown",
      "metadata": {
        "id": "7XUduuP8FaOE",
        "colab_type": "text"
      },
      "source": [
        "In this notebook, we will be adding to our SQL commands and practicing the ones we used before as well. \n",
        "\n",
        "Also, we will have two tables to work with: \n",
        "\n",
        "\n",
        "*   State College Weather (2010 - 2019-12-31)\n",
        "*   Golfing table (2017 - 2019-10-09)\n",
        "\n"
      ]
    },
    {
      "cell_type": "code",
      "metadata": {
        "id": "0A_8QZypuHiw",
        "colab_type": "code",
        "outputId": "ce19ecf0-a3c6-47e1-98d2-256bd8a16863",
        "colab": {
          "base_uri": "https://localhost:8080/",
          "height": 35
        }
      },
      "source": [
        "%load_ext sql\n",
        "%sql sqlite:///letsgogolfing.db"
      ],
      "execution_count": 1,
      "outputs": [
        {
          "output_type": "execute_result",
          "data": {
            "text/plain": [
              "'Connected: @letsgogolfing.db'"
            ]
          },
          "metadata": {
            "tags": []
          },
          "execution_count": 1
        }
      ]
    },
    {
      "cell_type": "markdown",
      "metadata": {
        "id": "NwRGntZgN4Ub",
        "colab_type": "text"
      },
      "source": [
        "What is the golfing table?\n",
        "\n",
        "I made up some data based on the state college weather. Based on the conditions, there is a probability that someone will either golf or not golf on a given day."
      ]
    },
    {
      "cell_type": "code",
      "metadata": {
        "id": "ldo2yNMbq7Gl",
        "colab_type": "code",
        "outputId": "fe677436-e20f-49ab-dfdf-4a2367377166",
        "colab": {
          "base_uri": "https://localhost:8080/",
          "height": 230
        }
      },
      "source": [
        "#Used to make requests\n",
        "import urllib\n",
        "\n",
        "f = urllib.request.urlopen(\"https://gist.githubusercontent.com/dudaspm/2cc247b1b43f1ebf620c1004dd2a0f76/raw/ecdb8dd0f2f851994f10d6612d398702a2d73d4c/StateCollege2010-2020.csv\")\n",
        "StateCollegeWeatherData = str(f.read().decode('utf-8'))\n",
        "for row in StateCollegeWeatherData.split(\"\\n\")[0:5]:\n",
        "  print (row)\n",
        "print(\"\\n\")\n",
        "f = urllib.request.urlopen(\"https://gist.githubusercontent.com/dudaspm/2aa5cf88fe20dc389ba77fc1cc802a11/raw/6aefc1181e01a18c3228a195dc02344d35bd80e3/goingGolfing.csv\")\n",
        "LetsGoGolfing = str(f.read().decode('utf-8'))\n",
        "for row in LetsGoGolfing.split(\"\\n\")[0:5]:\n",
        "  print (row)"
      ],
      "execution_count": 2,
      "outputs": [
        {
          "output_type": "stream",
          "text": [
            "DATE,PRCP,SNOW,TMAX,TMIN\n",
            "2010-01-01,0.07,0.9,32,25\n",
            "2010-01-02,0,0,37,18\n",
            "2010-01-03,0,0,20,12\n",
            "2010-01-04,0,0,21,13\n",
            "\n",
            "\n",
            "date,golfer,played\n",
            "2017-01-01,Charlotte,0\n",
            "2017-01-01,Brad,0\n",
            "2017-01-01,Kyle,0\n",
            "2017-01-01,Alexander,0\n"
          ],
          "name": "stdout"
        }
      ]
    },
    {
      "cell_type": "markdown",
      "metadata": {
        "id": "x09zCEbUFTqn",
        "colab_type": "text"
      },
      "source": [
        "Now adding the data to our database. This will create two tables:\n",
        "\n",
        "\n",
        "*   stateCollege\n",
        "*   golfingData\n",
        "\n"
      ]
    },
    {
      "cell_type": "markdown",
      "metadata": {
        "id": "dO5r7wGhuZkT",
        "colab_type": "text"
      },
      "source": [
        "The ER Diagram:\n",
        "\n",
        "![ER Diagram](https://raw.githubusercontent.com/dudaspm/IST210/master/Introduction/Images/goinggolfing.png)"
      ]
    },
    {
      "cell_type": "code",
      "metadata": {
        "id": "S2BAZfiwt2dT",
        "colab_type": "code",
        "outputId": "13f27fba-44a6-4229-ad30-08e726f2709c",
        "colab": {
          "base_uri": "https://localhost:8080/",
          "height": 124
        }
      },
      "source": [
        "%%sql  \n",
        "DROP TABLE IF EXISTS stateCollege;\n",
        "CREATE TABLE stateCollege(date text primary key, precipitation real, snow real, temp_max integer, temp_min integer);\n",
        "\n",
        "DROP TABLE IF EXISTS golfingData;\n",
        "create table golfingData (date text, name text, golfing int, PRIMARY KEY (date, name));"
      ],
      "execution_count": 3,
      "outputs": [
        {
          "output_type": "stream",
          "text": [
            " * sqlite:///letsgogolfing.db\n",
            "Done.\n",
            "Done.\n",
            "Done.\n",
            "Done.\n"
          ],
          "name": "stdout"
        },
        {
          "output_type": "execute_result",
          "data": {
            "text/plain": [
              "[]"
            ]
          },
          "metadata": {
            "tags": []
          },
          "execution_count": 3
        }
      ]
    },
    {
      "cell_type": "markdown",
      "metadata": {
        "id": "x8kOm3ExM73M",
        "colab_type": "text"
      },
      "source": [
        "These are used to put data into our tables. \n",
        "\n",
        "(Note, these may take a few moments to complete)"
      ]
    },
    {
      "cell_type": "code",
      "metadata": {
        "id": "HGEDRIWRv4Vz",
        "colab_type": "code",
        "colab": {}
      },
      "source": [
        "%%capture\n",
        "for line in StateCollegeWeatherData.split(\"\\n\")[1:]:\n",
        "  d = line.split(\",\")\n",
        "  date = d[0]\n",
        "  precipitation = d[1]\n",
        "  snow = d[2]\n",
        "  temp_max = d[3]\n",
        "  temp_min = d[4]\n",
        "  \n",
        "  # Example:\n",
        "  # INSERT INTO stateCollege VALUES('2010-01-01',.07,.9,32,25)\n",
        "  %sql insert into stateCollege values (:date,:precipitation,:snow,:temp_max,:temp_min)"
      ],
      "execution_count": 0,
      "outputs": []
    },
    {
      "cell_type": "code",
      "metadata": {
        "id": "CaVRnwsru3n1",
        "colab_type": "code",
        "colab": {}
      },
      "source": [
        "%%capture\n",
        "for line in LetsGoGolfing.split(\"\\n\")[1:]:\n",
        "  d = line.split(\",\")\n",
        "  date = d[0]\n",
        "  name = d[1]\n",
        "  golfing = d[2]\n",
        "  \n",
        "  # Example:\n",
        "  # INSERT INTO golfingData VALUES('2017-01-01','Charlotte',0)\n",
        "  %sql insert into golfingData values (:date,:name,:golfing)"
      ],
      "execution_count": 0,
      "outputs": []
    },
    {
      "cell_type": "code",
      "metadata": {
        "id": "ItUyK6ZxwzGM",
        "colab_type": "code",
        "outputId": "23d61314-e0e3-41a9-b79e-b4fb704b2131",
        "colab": {
          "base_uri": "https://localhost:8080/",
          "height": 174
        }
      },
      "source": [
        "%%sql\n",
        "select * from stateCollege limit 5"
      ],
      "execution_count": 26,
      "outputs": [
        {
          "output_type": "stream",
          "text": [
            " * sqlite:///letsgogolfing.db\n",
            "Done.\n"
          ],
          "name": "stdout"
        },
        {
          "output_type": "execute_result",
          "data": {
            "text/html": [
              "<table>\n",
              "    <tr>\n",
              "        <th>date</th>\n",
              "        <th>precipitation</th>\n",
              "        <th>snow</th>\n",
              "        <th>temp_max</th>\n",
              "        <th>temp_min</th>\n",
              "    </tr>\n",
              "    <tr>\n",
              "        <td>2010-01-01</td>\n",
              "        <td>0.07</td>\n",
              "        <td>0.9</td>\n",
              "        <td>32</td>\n",
              "        <td>25</td>\n",
              "    </tr>\n",
              "    <tr>\n",
              "        <td>2010-01-02</td>\n",
              "        <td>0.0</td>\n",
              "        <td>0.0</td>\n",
              "        <td>37</td>\n",
              "        <td>18</td>\n",
              "    </tr>\n",
              "    <tr>\n",
              "        <td>2010-01-03</td>\n",
              "        <td>0.0</td>\n",
              "        <td>0.0</td>\n",
              "        <td>20</td>\n",
              "        <td>12</td>\n",
              "    </tr>\n",
              "    <tr>\n",
              "        <td>2010-01-04</td>\n",
              "        <td>0.0</td>\n",
              "        <td>0.0</td>\n",
              "        <td>21</td>\n",
              "        <td>13</td>\n",
              "    </tr>\n",
              "    <tr>\n",
              "        <td>2010-01-05</td>\n",
              "        <td>0.0</td>\n",
              "        <td>0.0</td>\n",
              "        <td>25</td>\n",
              "        <td>18</td>\n",
              "    </tr>\n",
              "</table>"
            ],
            "text/plain": [
              "[('2010-01-01', 0.07, 0.9, 32, 25),\n",
              " ('2010-01-02', 0.0, 0.0, 37, 18),\n",
              " ('2010-01-03', 0.0, 0.0, 20, 12),\n",
              " ('2010-01-04', 0.0, 0.0, 21, 13),\n",
              " ('2010-01-05', 0.0, 0.0, 25, 18)]"
            ]
          },
          "metadata": {
            "tags": []
          },
          "execution_count": 26
        }
      ]
    },
    {
      "cell_type": "code",
      "metadata": {
        "id": "_GgsRlUJwzOO",
        "colab_type": "code",
        "outputId": "b717204d-5a53-4133-b883-9848c58a3bf1",
        "colab": {
          "base_uri": "https://localhost:8080/",
          "height": 374
        }
      },
      "source": [
        "%%sql\n",
        "select * from golfingData limit 15"
      ],
      "execution_count": 28,
      "outputs": [
        {
          "output_type": "stream",
          "text": [
            " * sqlite:///letsgogolfing.db\n",
            "Done.\n"
          ],
          "name": "stdout"
        },
        {
          "output_type": "execute_result",
          "data": {
            "text/html": [
              "<table>\n",
              "    <tr>\n",
              "        <th>date</th>\n",
              "        <th>name</th>\n",
              "        <th>golfing</th>\n",
              "    </tr>\n",
              "    <tr>\n",
              "        <td>2017-01-01</td>\n",
              "        <td>Charlotte</td>\n",
              "        <td>0</td>\n",
              "    </tr>\n",
              "    <tr>\n",
              "        <td>2017-01-01</td>\n",
              "        <td>Brad</td>\n",
              "        <td>0</td>\n",
              "    </tr>\n",
              "    <tr>\n",
              "        <td>2017-01-01</td>\n",
              "        <td>Kyle</td>\n",
              "        <td>0</td>\n",
              "    </tr>\n",
              "    <tr>\n",
              "        <td>2017-01-01</td>\n",
              "        <td>Alexander</td>\n",
              "        <td>0</td>\n",
              "    </tr>\n",
              "    <tr>\n",
              "        <td>2017-01-01</td>\n",
              "        <td>Susan</td>\n",
              "        <td>0</td>\n",
              "    </tr>\n",
              "    <tr>\n",
              "        <td>2017-01-01</td>\n",
              "        <td>Olivia</td>\n",
              "        <td>0</td>\n",
              "    </tr>\n",
              "    <tr>\n",
              "        <td>2017-01-01</td>\n",
              "        <td>Oscar</td>\n",
              "        <td>1</td>\n",
              "    </tr>\n",
              "    <tr>\n",
              "        <td>2017-01-01</td>\n",
              "        <td>Isabella</td>\n",
              "        <td>0</td>\n",
              "    </tr>\n",
              "    <tr>\n",
              "        <td>2017-01-01</td>\n",
              "        <td>Pranav</td>\n",
              "        <td>0</td>\n",
              "    </tr>\n",
              "    <tr>\n",
              "        <td>2017-01-01</td>\n",
              "        <td>Jenay</td>\n",
              "        <td>1</td>\n",
              "    </tr>\n",
              "    <tr>\n",
              "        <td>2017-01-02</td>\n",
              "        <td>Charlotte</td>\n",
              "        <td>0</td>\n",
              "    </tr>\n",
              "    <tr>\n",
              "        <td>2017-01-02</td>\n",
              "        <td>Brad</td>\n",
              "        <td>0</td>\n",
              "    </tr>\n",
              "    <tr>\n",
              "        <td>2017-01-02</td>\n",
              "        <td>Kyle</td>\n",
              "        <td>0</td>\n",
              "    </tr>\n",
              "    <tr>\n",
              "        <td>2017-01-02</td>\n",
              "        <td>Alexander</td>\n",
              "        <td>0</td>\n",
              "    </tr>\n",
              "    <tr>\n",
              "        <td>2017-01-02</td>\n",
              "        <td>Susan</td>\n",
              "        <td>1</td>\n",
              "    </tr>\n",
              "</table>"
            ],
            "text/plain": [
              "[('2017-01-01', 'Charlotte', 0),\n",
              " ('2017-01-01', 'Brad', 0),\n",
              " ('2017-01-01', 'Kyle', 0),\n",
              " ('2017-01-01', 'Alexander', 0),\n",
              " ('2017-01-01', 'Susan', 0),\n",
              " ('2017-01-01', 'Olivia', 0),\n",
              " ('2017-01-01', 'Oscar', 1),\n",
              " ('2017-01-01', 'Isabella', 0),\n",
              " ('2017-01-01', 'Pranav', 0),\n",
              " ('2017-01-01', 'Jenay', 1),\n",
              " ('2017-01-02', 'Charlotte', 0),\n",
              " ('2017-01-02', 'Brad', 0),\n",
              " ('2017-01-02', 'Kyle', 0),\n",
              " ('2017-01-02', 'Alexander', 0),\n",
              " ('2017-01-02', 'Susan', 1)]"
            ]
          },
          "metadata": {
            "tags": []
          },
          "execution_count": 28
        }
      ]
    },
    {
      "cell_type": "markdown",
      "metadata": {
        "id": "WkCMUe3j3m2p",
        "colab_type": "text"
      },
      "source": [
        "### count - counting"
      ]
    },
    {
      "cell_type": "markdown",
      "metadata": {
        "id": "lIi1hnTM6ps9",
        "colab_type": "text"
      },
      "source": [
        "Give the SQL Query that answers the following question:\n",
        "How many golfers are there?"
      ]
    },
    {
      "cell_type": "code",
      "metadata": {
        "id": "0Wc-ceJzyJBX",
        "colab_type": "code",
        "outputId": "d5d1da2f-79d6-4062-851a-4a9e1aef1926",
        "colab": {
          "base_uri": "https://localhost:8080/",
          "height": 94
        }
      },
      "source": [
        "%%sql\n",
        "select count(*) from golfingData"
      ],
      "execution_count": 8,
      "outputs": [
        {
          "output_type": "stream",
          "text": [
            " * sqlite:///letsgogolfing.db\n",
            "Done.\n"
          ],
          "name": "stdout"
        },
        {
          "output_type": "execute_result",
          "data": {
            "text/html": [
              "<table>\n",
              "    <tr>\n",
              "        <th>count(*)</th>\n",
              "    </tr>\n",
              "    <tr>\n",
              "        <td>10110</td>\n",
              "    </tr>\n",
              "</table>"
            ],
            "text/plain": [
              "[(10110,)]"
            ]
          },
          "metadata": {
            "tags": []
          },
          "execution_count": 8
        }
      ]
    },
    {
      "cell_type": "markdown",
      "metadata": {
        "id": "C_5GjyErxCq5",
        "colab_type": "text"
      },
      "source": [
        "### distinct - get all distinct or unique values"
      ]
    },
    {
      "cell_type": "code",
      "metadata": {
        "id": "cV2aHVwo0sZ4",
        "colab_type": "code",
        "outputId": "6d2be411-fc4d-44ee-8acb-122c056acf2a",
        "colab": {
          "base_uri": "https://localhost:8080/",
          "height": 94
        }
      },
      "source": [
        "%%sql\n",
        "select count(distinct(name)) from golfingData"
      ],
      "execution_count": 9,
      "outputs": [
        {
          "output_type": "stream",
          "text": [
            " * sqlite:///letsgogolfing.db\n",
            "Done.\n"
          ],
          "name": "stdout"
        },
        {
          "output_type": "execute_result",
          "data": {
            "text/html": [
              "<table>\n",
              "    <tr>\n",
              "        <th>count(distinct(name))</th>\n",
              "    </tr>\n",
              "    <tr>\n",
              "        <td>10</td>\n",
              "    </tr>\n",
              "</table>"
            ],
            "text/plain": [
              "[(10,)]"
            ]
          },
          "metadata": {
            "tags": []
          },
          "execution_count": 9
        }
      ]
    },
    {
      "cell_type": "markdown",
      "metadata": {
        "id": "W7DXKNLWxTt9",
        "colab_type": "text"
      },
      "source": [
        "What does this mean in words?"
      ]
    },
    {
      "cell_type": "markdown",
      "metadata": {
        "colab_type": "text",
        "id": "u0BNxLX6xRng"
      },
      "source": [
        "Your answer: "
      ]
    },
    {
      "cell_type": "markdown",
      "metadata": {
        "id": "Ihx22VIq3jxN",
        "colab_type": "text"
      },
      "source": [
        "### AVG - Average"
      ]
    },
    {
      "cell_type": "code",
      "metadata": {
        "id": "6hs9O1Ek0zEO",
        "colab_type": "code",
        "outputId": "0353d9e5-f915-4ab0-c7f9-cba8c66c811e",
        "colab": {
          "base_uri": "https://localhost:8080/",
          "height": 94
        }
      },
      "source": [
        "%%sql\n",
        "select avg(temp_min) from stateCollege"
      ],
      "execution_count": 10,
      "outputs": [
        {
          "output_type": "stream",
          "text": [
            " * sqlite:///letsgogolfing.db\n",
            "Done.\n"
          ],
          "name": "stdout"
        },
        {
          "output_type": "execute_result",
          "data": {
            "text/html": [
              "<table>\n",
              "    <tr>\n",
              "        <th>avg(temp_min)</th>\n",
              "    </tr>\n",
              "    <tr>\n",
              "        <td>42.54463307776561</td>\n",
              "    </tr>\n",
              "</table>"
            ],
            "text/plain": [
              "[(42.54463307776561,)]"
            ]
          },
          "metadata": {
            "tags": []
          },
          "execution_count": 10
        }
      ]
    },
    {
      "cell_type": "markdown",
      "metadata": {
        "id": "JAYF0SV61YLx",
        "colab_type": "text"
      },
      "source": [
        "What does this mean in words?"
      ]
    },
    {
      "cell_type": "markdown",
      "metadata": {
        "id": "lAWb9LIPxfmS",
        "colab_type": "text"
      },
      "source": [
        "Your answer: "
      ]
    },
    {
      "cell_type": "markdown",
      "metadata": {
        "id": "E67yHtWq2-XQ",
        "colab_type": "text"
      },
      "source": [
        "### Between"
      ]
    },
    {
      "cell_type": "code",
      "metadata": {
        "id": "zDO-X4br1TKV",
        "colab_type": "code",
        "outputId": "5ff3a8c3-beb6-43eb-dcea-f53e2c3f78b8",
        "colab": {
          "base_uri": "https://localhost:8080/",
          "height": 94
        }
      },
      "source": [
        "%%sql\n",
        "select avg(temp_max) from stateCollege where date between \"2019-09-01\" and \"2019-09-30\""
      ],
      "execution_count": 29,
      "outputs": [
        {
          "output_type": "stream",
          "text": [
            " * sqlite:///letsgogolfing.db\n",
            "Done.\n"
          ],
          "name": "stdout"
        },
        {
          "output_type": "execute_result",
          "data": {
            "text/html": [
              "<table>\n",
              "    <tr>\n",
              "        <th>avg(temp_max)</th>\n",
              "    </tr>\n",
              "    <tr>\n",
              "        <td>75.83333333333333</td>\n",
              "    </tr>\n",
              "</table>"
            ],
            "text/plain": [
              "[(75.83333333333333,)]"
            ]
          },
          "metadata": {
            "tags": []
          },
          "execution_count": 29
        }
      ]
    },
    {
      "cell_type": "markdown",
      "metadata": {
        "id": "_Noom3DcxmRS",
        "colab_type": "text"
      },
      "source": [
        "What does this mean in words?"
      ]
    },
    {
      "cell_type": "markdown",
      "metadata": {
        "id": "MNZDCmKF2Hq-",
        "colab_type": "text"
      },
      "source": [
        "Your answer: "
      ]
    },
    {
      "cell_type": "markdown",
      "metadata": {
        "id": "LyMg_42s3scZ",
        "colab_type": "text"
      },
      "source": [
        "### LIKE - With text, finding words/phrases "
      ]
    },
    {
      "cell_type": "code",
      "metadata": {
        "id": "xy6pTz5m18R_",
        "colab_type": "code",
        "outputId": "7cf645f0-de38-4e91-efaa-7cd5a17ff394",
        "colab": {
          "base_uri": "https://localhost:8080/",
          "height": 88
        }
      },
      "source": [
        "%%sql\n",
        "select distinct(name) from golfingData where name like \"Br%\""
      ],
      "execution_count": 12,
      "outputs": [
        {
          "output_type": "stream",
          "text": [
            " * sqlite:///letsgogolfing.db\n",
            "(sqlite3.OperationalError) unrecognized token: \"\"Br%\"\n",
            "[SQL: select distinct(name) from golfingData where name like \"Br%]\n",
            "(Background on this error at: http://sqlalche.me/e/e3q8)\n"
          ],
          "name": "stdout"
        }
      ]
    },
    {
      "cell_type": "markdown",
      "metadata": {
        "id": "t9slc7nqxt1V",
        "colab_type": "text"
      },
      "source": [
        "What does this mean in words?"
      ]
    },
    {
      "cell_type": "markdown",
      "metadata": {
        "id": "_zN0TYc4xvwe",
        "colab_type": "text"
      },
      "source": [
        "Your answer: "
      ]
    },
    {
      "cell_type": "markdown",
      "metadata": {
        "id": "av5mSZqM4WRP",
        "colab_type": "text"
      },
      "source": [
        "#### Group by - group results by a certain attribute"
      ]
    },
    {
      "cell_type": "code",
      "metadata": {
        "id": "qioFztaD4CrD",
        "colab_type": "code",
        "outputId": "d9aba809-e8ae-49b5-e892-910738514a14",
        "colab": {
          "base_uri": "https://localhost:8080/",
          "height": 274
        }
      },
      "source": [
        "%%sql\n",
        "select name, avg(golfing) from golfingData group by name"
      ],
      "execution_count": 13,
      "outputs": [
        {
          "output_type": "stream",
          "text": [
            " * sqlite:///letsgogolfing.db\n",
            "Done.\n"
          ],
          "name": "stdout"
        },
        {
          "output_type": "execute_result",
          "data": {
            "text/html": [
              "<table>\n",
              "    <tr>\n",
              "        <th>name</th>\n",
              "        <th>avg(golfing)</th>\n",
              "    </tr>\n",
              "    <tr>\n",
              "        <td>Alexander</td>\n",
              "        <td>0.5459940652818991</td>\n",
              "    </tr>\n",
              "    <tr>\n",
              "        <td>Brad</td>\n",
              "        <td>0.5588526211671613</td>\n",
              "    </tr>\n",
              "    <tr>\n",
              "        <td>Charlotte</td>\n",
              "        <td>0.5519287833827893</td>\n",
              "    </tr>\n",
              "    <tr>\n",
              "        <td>Isabella</td>\n",
              "        <td>0.5499505440158259</td>\n",
              "    </tr>\n",
              "    <tr>\n",
              "        <td>Jenay</td>\n",
              "        <td>0.543026706231454</td>\n",
              "    </tr>\n",
              "    <tr>\n",
              "        <td>Kyle</td>\n",
              "        <td>0.5677546983184966</td>\n",
              "    </tr>\n",
              "    <tr>\n",
              "        <td>Olivia</td>\n",
              "        <td>0.5657764589515332</td>\n",
              "    </tr>\n",
              "    <tr>\n",
              "        <td>Oscar</td>\n",
              "        <td>0.5361028684470821</td>\n",
              "    </tr>\n",
              "    <tr>\n",
              "        <td>Pranav</td>\n",
              "        <td>0.5479723046488625</td>\n",
              "    </tr>\n",
              "    <tr>\n",
              "        <td>Susan</td>\n",
              "        <td>0.5400593471810089</td>\n",
              "    </tr>\n",
              "</table>"
            ],
            "text/plain": [
              "[('Alexander', 0.5459940652818991),\n",
              " ('Brad', 0.5588526211671613),\n",
              " ('Charlotte', 0.5519287833827893),\n",
              " ('Isabella', 0.5499505440158259),\n",
              " ('Jenay', 0.543026706231454),\n",
              " ('Kyle', 0.5677546983184966),\n",
              " ('Olivia', 0.5657764589515332),\n",
              " ('Oscar', 0.5361028684470821),\n",
              " ('Pranav', 0.5479723046488625),\n",
              " ('Susan', 0.5400593471810089)]"
            ]
          },
          "metadata": {
            "tags": []
          },
          "execution_count": 13
        }
      ]
    },
    {
      "cell_type": "markdown",
      "metadata": {
        "id": "fmcX3v77yKKV",
        "colab_type": "text"
      },
      "source": [
        "What does this mean in words?"
      ]
    },
    {
      "cell_type": "markdown",
      "metadata": {
        "id": "oXZpmyij4-Hv",
        "colab_type": "text"
      },
      "source": [
        "Your answer: "
      ]
    },
    {
      "cell_type": "code",
      "metadata": {
        "id": "Wk96vGExyEfC",
        "colab_type": "code",
        "outputId": "074e61e1-062a-4a83-a07d-472b0e52160e",
        "colab": {
          "base_uri": "https://localhost:8080/",
          "height": 134
        }
      },
      "source": [
        "%%sql\n",
        "select name, avg(golfing) from golfingData where name like \"%an%\" group by name"
      ],
      "execution_count": 14,
      "outputs": [
        {
          "output_type": "stream",
          "text": [
            " * sqlite:///letsgogolfing.db\n",
            "Done.\n"
          ],
          "name": "stdout"
        },
        {
          "output_type": "execute_result",
          "data": {
            "text/html": [
              "<table>\n",
              "    <tr>\n",
              "        <th>name</th>\n",
              "        <th>avg(golfing)</th>\n",
              "    </tr>\n",
              "    <tr>\n",
              "        <td>Alexander</td>\n",
              "        <td>0.5459940652818991</td>\n",
              "    </tr>\n",
              "    <tr>\n",
              "        <td>Pranav</td>\n",
              "        <td>0.5479723046488625</td>\n",
              "    </tr>\n",
              "    <tr>\n",
              "        <td>Susan</td>\n",
              "        <td>0.5400593471810089</td>\n",
              "    </tr>\n",
              "</table>"
            ],
            "text/plain": [
              "[('Alexander', 0.5459940652818991),\n",
              " ('Pranav', 0.5479723046488625),\n",
              " ('Susan', 0.5400593471810089)]"
            ]
          },
          "metadata": {
            "tags": []
          },
          "execution_count": 14
        }
      ]
    },
    {
      "cell_type": "markdown",
      "metadata": {
        "id": "VlP__JPFyLT2",
        "colab_type": "text"
      },
      "source": [
        "What does this mean in words?"
      ]
    },
    {
      "cell_type": "markdown",
      "metadata": {
        "id": "g8EBKVM-yM9x",
        "colab_type": "text"
      },
      "source": [
        "Your answer: "
      ]
    },
    {
      "cell_type": "markdown",
      "metadata": {
        "id": "S1FwHs9qyVWe",
        "colab_type": "text"
      },
      "source": [
        "### Order by - order the results by a certain attribute"
      ]
    },
    {
      "cell_type": "code",
      "metadata": {
        "id": "x435ms4ayhvy",
        "colab_type": "code",
        "outputId": "f70a0e64-184b-4d08-98c3-3151a67217f7",
        "colab": {
          "base_uri": "https://localhost:8080/",
          "height": 274
        }
      },
      "source": [
        "%%sql\n",
        "select * from stateCollege order by temp_max limit 10"
      ],
      "execution_count": 15,
      "outputs": [
        {
          "output_type": "stream",
          "text": [
            " * sqlite:///letsgogolfing.db\n",
            "Done.\n"
          ],
          "name": "stdout"
        },
        {
          "output_type": "execute_result",
          "data": {
            "text/html": [
              "<table>\n",
              "    <tr>\n",
              "        <th>date</th>\n",
              "        <th>precipitation</th>\n",
              "        <th>snow</th>\n",
              "        <th>temp_max</th>\n",
              "        <th>temp_min</th>\n",
              "    </tr>\n",
              "    <tr>\n",
              "        <td>2014-01-08</td>\n",
              "        <td>0.0</td>\n",
              "        <td>0.0</td>\n",
              "        <td>6</td>\n",
              "        <td>-8</td>\n",
              "    </tr>\n",
              "    <tr>\n",
              "        <td>2015-02-16</td>\n",
              "        <td>0.0</td>\n",
              "        <td>0.0</td>\n",
              "        <td>6</td>\n",
              "        <td>-7</td>\n",
              "    </tr>\n",
              "    <tr>\n",
              "        <td>2014-01-29</td>\n",
              "        <td>0.0</td>\n",
              "        <td>0.0</td>\n",
              "        <td>8</td>\n",
              "        <td>-3</td>\n",
              "    </tr>\n",
              "    <tr>\n",
              "        <td>2015-02-20</td>\n",
              "        <td>0.0</td>\n",
              "        <td>0.0</td>\n",
              "        <td>8</td>\n",
              "        <td>-8</td>\n",
              "    </tr>\n",
              "    <tr>\n",
              "        <td>2015-02-17</td>\n",
              "        <td>0.06</td>\n",
              "        <td>0.9</td>\n",
              "        <td>9</td>\n",
              "        <td>-7</td>\n",
              "    </tr>\n",
              "    <tr>\n",
              "        <td>2018-01-06</td>\n",
              "        <td>0.0</td>\n",
              "        <td>0.0</td>\n",
              "        <td>9</td>\n",
              "        <td>1</td>\n",
              "    </tr>\n",
              "    <tr>\n",
              "        <td>2018-01-07</td>\n",
              "        <td>0.0</td>\n",
              "        <td>0.0</td>\n",
              "        <td>9</td>\n",
              "        <td>-1</td>\n",
              "    </tr>\n",
              "    <tr>\n",
              "        <td>2016-02-14</td>\n",
              "        <td>0.0</td>\n",
              "        <td>0.0</td>\n",
              "        <td>10</td>\n",
              "        <td>2</td>\n",
              "    </tr>\n",
              "    <tr>\n",
              "        <td>2019-01-22</td>\n",
              "        <td>0.0</td>\n",
              "        <td>0.0</td>\n",
              "        <td>10</td>\n",
              "        <td>-1</td>\n",
              "    </tr>\n",
              "    <tr>\n",
              "        <td>2019-02-01</td>\n",
              "        <td>0.0</td>\n",
              "        <td>0.0</td>\n",
              "        <td>10</td>\n",
              "        <td>-4</td>\n",
              "    </tr>\n",
              "</table>"
            ],
            "text/plain": [
              "[('2014-01-08', 0.0, 0.0, 6, -8),\n",
              " ('2015-02-16', 0.0, 0.0, 6, -7),\n",
              " ('2014-01-29', 0.0, 0.0, 8, -3),\n",
              " ('2015-02-20', 0.0, 0.0, 8, -8),\n",
              " ('2015-02-17', 0.06, 0.9, 9, -7),\n",
              " ('2018-01-06', 0.0, 0.0, 9, 1),\n",
              " ('2018-01-07', 0.0, 0.0, 9, -1),\n",
              " ('2016-02-14', 0.0, 0.0, 10, 2),\n",
              " ('2019-01-22', 0.0, 0.0, 10, -1),\n",
              " ('2019-02-01', 0.0, 0.0, 10, -4)]"
            ]
          },
          "metadata": {
            "tags": []
          },
          "execution_count": 15
        }
      ]
    },
    {
      "cell_type": "code",
      "metadata": {
        "id": "4O8-BR1Hyqsq",
        "colab_type": "code",
        "outputId": "077939d9-261d-4027-b18c-f098ff7e749e",
        "colab": {
          "base_uri": "https://localhost:8080/",
          "height": 274
        }
      },
      "source": [
        "%%sql\n",
        "select * from stateCollege order by temp_max DESC limit 10 "
      ],
      "execution_count": 16,
      "outputs": [
        {
          "output_type": "stream",
          "text": [
            " * sqlite:///letsgogolfing.db\n",
            "Done.\n"
          ],
          "name": "stdout"
        },
        {
          "output_type": "execute_result",
          "data": {
            "text/html": [
              "<table>\n",
              "    <tr>\n",
              "        <th>date</th>\n",
              "        <th>precipitation</th>\n",
              "        <th>snow</th>\n",
              "        <th>temp_max</th>\n",
              "        <th>temp_min</th>\n",
              "    </tr>\n",
              "    <tr>\n",
              "        <td>2011-07-23</td>\n",
              "        <td>0.0</td>\n",
              "        <td>0.0</td>\n",
              "        <td>101</td>\n",
              "        <td>77</td>\n",
              "    </tr>\n",
              "    <tr>\n",
              "        <td>2011-07-22</td>\n",
              "        <td>0.0</td>\n",
              "        <td>0.0</td>\n",
              "        <td>99</td>\n",
              "        <td>76</td>\n",
              "    </tr>\n",
              "    <tr>\n",
              "        <td>2012-07-08</td>\n",
              "        <td>0.08</td>\n",
              "        <td>0.0</td>\n",
              "        <td>97</td>\n",
              "        <td>73</td>\n",
              "    </tr>\n",
              "    <tr>\n",
              "        <td>2011-07-21</td>\n",
              "        <td>0.0</td>\n",
              "        <td>0.0</td>\n",
              "        <td>95</td>\n",
              "        <td>72</td>\n",
              "    </tr>\n",
              "    <tr>\n",
              "        <td>2010-07-06</td>\n",
              "        <td>0.0</td>\n",
              "        <td>0.0</td>\n",
              "        <td>94</td>\n",
              "        <td>69</td>\n",
              "    </tr>\n",
              "    <tr>\n",
              "        <td>2010-07-09</td>\n",
              "        <td>0.0</td>\n",
              "        <td>0.0</td>\n",
              "        <td>94</td>\n",
              "        <td>72</td>\n",
              "    </tr>\n",
              "    <tr>\n",
              "        <td>2012-07-18</td>\n",
              "        <td>0.0</td>\n",
              "        <td>0.0</td>\n",
              "        <td>94</td>\n",
              "        <td>71</td>\n",
              "    </tr>\n",
              "    <tr>\n",
              "        <td>2010-07-07</td>\n",
              "        <td>0.0</td>\n",
              "        <td>0.0</td>\n",
              "        <td>93</td>\n",
              "        <td>70</td>\n",
              "    </tr>\n",
              "    <tr>\n",
              "        <td>2010-07-08</td>\n",
              "        <td>0.0</td>\n",
              "        <td>0.0</td>\n",
              "        <td>93</td>\n",
              "        <td>70</td>\n",
              "    </tr>\n",
              "    <tr>\n",
              "        <td>2010-07-24</td>\n",
              "        <td>0.33</td>\n",
              "        <td>0.0</td>\n",
              "        <td>93</td>\n",
              "        <td>72</td>\n",
              "    </tr>\n",
              "</table>"
            ],
            "text/plain": [
              "[('2011-07-23', 0.0, 0.0, 101, 77),\n",
              " ('2011-07-22', 0.0, 0.0, 99, 76),\n",
              " ('2012-07-08', 0.08, 0.0, 97, 73),\n",
              " ('2011-07-21', 0.0, 0.0, 95, 72),\n",
              " ('2010-07-06', 0.0, 0.0, 94, 69),\n",
              " ('2010-07-09', 0.0, 0.0, 94, 72),\n",
              " ('2012-07-18', 0.0, 0.0, 94, 71),\n",
              " ('2010-07-07', 0.0, 0.0, 93, 70),\n",
              " ('2010-07-08', 0.0, 0.0, 93, 70),\n",
              " ('2010-07-24', 0.33, 0.0, 93, 72)]"
            ]
          },
          "metadata": {
            "tags": []
          },
          "execution_count": 16
        }
      ]
    },
    {
      "cell_type": "markdown",
      "metadata": {
        "id": "7bWrzg6s2Ak5",
        "colab_type": "text"
      },
      "source": [
        "What does this mean in words?"
      ]
    },
    {
      "cell_type": "markdown",
      "metadata": {
        "id": "FiBLH7Gm2Cou",
        "colab_type": "text"
      },
      "source": [
        "Your answer: "
      ]
    },
    {
      "cell_type": "markdown",
      "metadata": {
        "id": "g2jR9lBBSD_T",
        "colab_type": "text"
      },
      "source": [
        "## Joins"
      ]
    },
    {
      "cell_type": "markdown",
      "metadata": {
        "id": "vR0A0RjnSLFN",
        "colab_type": "text"
      },
      "source": [
        "Up to this point, we have had a single table, but what if we had more than 1?\n",
        "\n",
        "This is where joining comes into play. There are mutliple ways to join tables, but for now we are going to focus on just joining two tables. "
      ]
    },
    {
      "cell_type": "markdown",
      "metadata": {
        "id": "Gtd7DBpAaIra",
        "colab_type": "text"
      },
      "source": [
        "#### Step 1: calling both tables. "
      ]
    },
    {
      "cell_type": "code",
      "metadata": {
        "id": "pGFC17XZ4gm1",
        "colab_type": "code",
        "outputId": "92e6a508-717b-4be7-a362-c2fe9f8ed6a2",
        "colab": {
          "base_uri": "https://localhost:8080/",
          "height": 374
        }
      },
      "source": [
        "%%sql\n",
        "select * from stateCollege, golfingData limit 15"
      ],
      "execution_count": 17,
      "outputs": [
        {
          "output_type": "stream",
          "text": [
            " * sqlite:///letsgogolfing.db\n",
            "Done.\n"
          ],
          "name": "stdout"
        },
        {
          "output_type": "execute_result",
          "data": {
            "text/html": [
              "<table>\n",
              "    <tr>\n",
              "        <th>date</th>\n",
              "        <th>precipitation</th>\n",
              "        <th>snow</th>\n",
              "        <th>temp_max</th>\n",
              "        <th>temp_min</th>\n",
              "        <th>date_1</th>\n",
              "        <th>name</th>\n",
              "        <th>golfing</th>\n",
              "    </tr>\n",
              "    <tr>\n",
              "        <td>2010-01-01</td>\n",
              "        <td>0.07</td>\n",
              "        <td>0.9</td>\n",
              "        <td>32</td>\n",
              "        <td>25</td>\n",
              "        <td>2017-01-01</td>\n",
              "        <td>Charlotte</td>\n",
              "        <td>0</td>\n",
              "    </tr>\n",
              "    <tr>\n",
              "        <td>2010-01-01</td>\n",
              "        <td>0.07</td>\n",
              "        <td>0.9</td>\n",
              "        <td>32</td>\n",
              "        <td>25</td>\n",
              "        <td>2017-01-01</td>\n",
              "        <td>Brad</td>\n",
              "        <td>0</td>\n",
              "    </tr>\n",
              "    <tr>\n",
              "        <td>2010-01-01</td>\n",
              "        <td>0.07</td>\n",
              "        <td>0.9</td>\n",
              "        <td>32</td>\n",
              "        <td>25</td>\n",
              "        <td>2017-01-01</td>\n",
              "        <td>Kyle</td>\n",
              "        <td>0</td>\n",
              "    </tr>\n",
              "    <tr>\n",
              "        <td>2010-01-01</td>\n",
              "        <td>0.07</td>\n",
              "        <td>0.9</td>\n",
              "        <td>32</td>\n",
              "        <td>25</td>\n",
              "        <td>2017-01-01</td>\n",
              "        <td>Alexander</td>\n",
              "        <td>0</td>\n",
              "    </tr>\n",
              "    <tr>\n",
              "        <td>2010-01-01</td>\n",
              "        <td>0.07</td>\n",
              "        <td>0.9</td>\n",
              "        <td>32</td>\n",
              "        <td>25</td>\n",
              "        <td>2017-01-01</td>\n",
              "        <td>Susan</td>\n",
              "        <td>0</td>\n",
              "    </tr>\n",
              "    <tr>\n",
              "        <td>2010-01-01</td>\n",
              "        <td>0.07</td>\n",
              "        <td>0.9</td>\n",
              "        <td>32</td>\n",
              "        <td>25</td>\n",
              "        <td>2017-01-01</td>\n",
              "        <td>Olivia</td>\n",
              "        <td>0</td>\n",
              "    </tr>\n",
              "    <tr>\n",
              "        <td>2010-01-01</td>\n",
              "        <td>0.07</td>\n",
              "        <td>0.9</td>\n",
              "        <td>32</td>\n",
              "        <td>25</td>\n",
              "        <td>2017-01-01</td>\n",
              "        <td>Oscar</td>\n",
              "        <td>1</td>\n",
              "    </tr>\n",
              "    <tr>\n",
              "        <td>2010-01-01</td>\n",
              "        <td>0.07</td>\n",
              "        <td>0.9</td>\n",
              "        <td>32</td>\n",
              "        <td>25</td>\n",
              "        <td>2017-01-01</td>\n",
              "        <td>Isabella</td>\n",
              "        <td>0</td>\n",
              "    </tr>\n",
              "    <tr>\n",
              "        <td>2010-01-01</td>\n",
              "        <td>0.07</td>\n",
              "        <td>0.9</td>\n",
              "        <td>32</td>\n",
              "        <td>25</td>\n",
              "        <td>2017-01-01</td>\n",
              "        <td>Pranav</td>\n",
              "        <td>0</td>\n",
              "    </tr>\n",
              "    <tr>\n",
              "        <td>2010-01-01</td>\n",
              "        <td>0.07</td>\n",
              "        <td>0.9</td>\n",
              "        <td>32</td>\n",
              "        <td>25</td>\n",
              "        <td>2017-01-01</td>\n",
              "        <td>Jenay</td>\n",
              "        <td>1</td>\n",
              "    </tr>\n",
              "    <tr>\n",
              "        <td>2010-01-01</td>\n",
              "        <td>0.07</td>\n",
              "        <td>0.9</td>\n",
              "        <td>32</td>\n",
              "        <td>25</td>\n",
              "        <td>2017-01-02</td>\n",
              "        <td>Charlotte</td>\n",
              "        <td>0</td>\n",
              "    </tr>\n",
              "    <tr>\n",
              "        <td>2010-01-01</td>\n",
              "        <td>0.07</td>\n",
              "        <td>0.9</td>\n",
              "        <td>32</td>\n",
              "        <td>25</td>\n",
              "        <td>2017-01-02</td>\n",
              "        <td>Brad</td>\n",
              "        <td>0</td>\n",
              "    </tr>\n",
              "    <tr>\n",
              "        <td>2010-01-01</td>\n",
              "        <td>0.07</td>\n",
              "        <td>0.9</td>\n",
              "        <td>32</td>\n",
              "        <td>25</td>\n",
              "        <td>2017-01-02</td>\n",
              "        <td>Kyle</td>\n",
              "        <td>0</td>\n",
              "    </tr>\n",
              "    <tr>\n",
              "        <td>2010-01-01</td>\n",
              "        <td>0.07</td>\n",
              "        <td>0.9</td>\n",
              "        <td>32</td>\n",
              "        <td>25</td>\n",
              "        <td>2017-01-02</td>\n",
              "        <td>Alexander</td>\n",
              "        <td>0</td>\n",
              "    </tr>\n",
              "    <tr>\n",
              "        <td>2010-01-01</td>\n",
              "        <td>0.07</td>\n",
              "        <td>0.9</td>\n",
              "        <td>32</td>\n",
              "        <td>25</td>\n",
              "        <td>2017-01-02</td>\n",
              "        <td>Susan</td>\n",
              "        <td>1</td>\n",
              "    </tr>\n",
              "</table>"
            ],
            "text/plain": [
              "[('2010-01-01', 0.07, 0.9, 32, 25, '2017-01-01', 'Charlotte', 0),\n",
              " ('2010-01-01', 0.07, 0.9, 32, 25, '2017-01-01', 'Brad', 0),\n",
              " ('2010-01-01', 0.07, 0.9, 32, 25, '2017-01-01', 'Kyle', 0),\n",
              " ('2010-01-01', 0.07, 0.9, 32, 25, '2017-01-01', 'Alexander', 0),\n",
              " ('2010-01-01', 0.07, 0.9, 32, 25, '2017-01-01', 'Susan', 0),\n",
              " ('2010-01-01', 0.07, 0.9, 32, 25, '2017-01-01', 'Olivia', 0),\n",
              " ('2010-01-01', 0.07, 0.9, 32, 25, '2017-01-01', 'Oscar', 1),\n",
              " ('2010-01-01', 0.07, 0.9, 32, 25, '2017-01-01', 'Isabella', 0),\n",
              " ('2010-01-01', 0.07, 0.9, 32, 25, '2017-01-01', 'Pranav', 0),\n",
              " ('2010-01-01', 0.07, 0.9, 32, 25, '2017-01-01', 'Jenay', 1),\n",
              " ('2010-01-01', 0.07, 0.9, 32, 25, '2017-01-02', 'Charlotte', 0),\n",
              " ('2010-01-01', 0.07, 0.9, 32, 25, '2017-01-02', 'Brad', 0),\n",
              " ('2010-01-01', 0.07, 0.9, 32, 25, '2017-01-02', 'Kyle', 0),\n",
              " ('2010-01-01', 0.07, 0.9, 32, 25, '2017-01-02', 'Alexander', 0),\n",
              " ('2010-01-01', 0.07, 0.9, 32, 25, '2017-01-02', 'Susan', 1)]"
            ]
          },
          "metadata": {
            "tags": []
          },
          "execution_count": 17
        }
      ]
    },
    {
      "cell_type": "markdown",
      "metadata": {
        "id": "y0jQm4HtaWFF",
        "colab_type": "text"
      },
      "source": [
        "Let's give the tables a nickname. "
      ]
    },
    {
      "cell_type": "code",
      "metadata": {
        "id": "XnZSY5GpaD1g",
        "colab_type": "code",
        "outputId": "325a9fce-47a2-4314-db01-ac24af9a2b20",
        "colab": {
          "base_uri": "https://localhost:8080/",
          "height": 374
        }
      },
      "source": [
        "%%sql\n",
        "select * from stateCollege s, golfingData g limit 15"
      ],
      "execution_count": 18,
      "outputs": [
        {
          "output_type": "stream",
          "text": [
            " * sqlite:///letsgogolfing.db\n",
            "Done.\n"
          ],
          "name": "stdout"
        },
        {
          "output_type": "execute_result",
          "data": {
            "text/html": [
              "<table>\n",
              "    <tr>\n",
              "        <th>date</th>\n",
              "        <th>precipitation</th>\n",
              "        <th>snow</th>\n",
              "        <th>temp_max</th>\n",
              "        <th>temp_min</th>\n",
              "        <th>date_1</th>\n",
              "        <th>name</th>\n",
              "        <th>golfing</th>\n",
              "    </tr>\n",
              "    <tr>\n",
              "        <td>2010-01-01</td>\n",
              "        <td>0.07</td>\n",
              "        <td>0.9</td>\n",
              "        <td>32</td>\n",
              "        <td>25</td>\n",
              "        <td>2017-01-01</td>\n",
              "        <td>Charlotte</td>\n",
              "        <td>0</td>\n",
              "    </tr>\n",
              "    <tr>\n",
              "        <td>2010-01-01</td>\n",
              "        <td>0.07</td>\n",
              "        <td>0.9</td>\n",
              "        <td>32</td>\n",
              "        <td>25</td>\n",
              "        <td>2017-01-01</td>\n",
              "        <td>Brad</td>\n",
              "        <td>0</td>\n",
              "    </tr>\n",
              "    <tr>\n",
              "        <td>2010-01-01</td>\n",
              "        <td>0.07</td>\n",
              "        <td>0.9</td>\n",
              "        <td>32</td>\n",
              "        <td>25</td>\n",
              "        <td>2017-01-01</td>\n",
              "        <td>Kyle</td>\n",
              "        <td>0</td>\n",
              "    </tr>\n",
              "    <tr>\n",
              "        <td>2010-01-01</td>\n",
              "        <td>0.07</td>\n",
              "        <td>0.9</td>\n",
              "        <td>32</td>\n",
              "        <td>25</td>\n",
              "        <td>2017-01-01</td>\n",
              "        <td>Alexander</td>\n",
              "        <td>0</td>\n",
              "    </tr>\n",
              "    <tr>\n",
              "        <td>2010-01-01</td>\n",
              "        <td>0.07</td>\n",
              "        <td>0.9</td>\n",
              "        <td>32</td>\n",
              "        <td>25</td>\n",
              "        <td>2017-01-01</td>\n",
              "        <td>Susan</td>\n",
              "        <td>0</td>\n",
              "    </tr>\n",
              "    <tr>\n",
              "        <td>2010-01-01</td>\n",
              "        <td>0.07</td>\n",
              "        <td>0.9</td>\n",
              "        <td>32</td>\n",
              "        <td>25</td>\n",
              "        <td>2017-01-01</td>\n",
              "        <td>Olivia</td>\n",
              "        <td>0</td>\n",
              "    </tr>\n",
              "    <tr>\n",
              "        <td>2010-01-01</td>\n",
              "        <td>0.07</td>\n",
              "        <td>0.9</td>\n",
              "        <td>32</td>\n",
              "        <td>25</td>\n",
              "        <td>2017-01-01</td>\n",
              "        <td>Oscar</td>\n",
              "        <td>1</td>\n",
              "    </tr>\n",
              "    <tr>\n",
              "        <td>2010-01-01</td>\n",
              "        <td>0.07</td>\n",
              "        <td>0.9</td>\n",
              "        <td>32</td>\n",
              "        <td>25</td>\n",
              "        <td>2017-01-01</td>\n",
              "        <td>Isabella</td>\n",
              "        <td>0</td>\n",
              "    </tr>\n",
              "    <tr>\n",
              "        <td>2010-01-01</td>\n",
              "        <td>0.07</td>\n",
              "        <td>0.9</td>\n",
              "        <td>32</td>\n",
              "        <td>25</td>\n",
              "        <td>2017-01-01</td>\n",
              "        <td>Pranav</td>\n",
              "        <td>0</td>\n",
              "    </tr>\n",
              "    <tr>\n",
              "        <td>2010-01-01</td>\n",
              "        <td>0.07</td>\n",
              "        <td>0.9</td>\n",
              "        <td>32</td>\n",
              "        <td>25</td>\n",
              "        <td>2017-01-01</td>\n",
              "        <td>Jenay</td>\n",
              "        <td>1</td>\n",
              "    </tr>\n",
              "    <tr>\n",
              "        <td>2010-01-01</td>\n",
              "        <td>0.07</td>\n",
              "        <td>0.9</td>\n",
              "        <td>32</td>\n",
              "        <td>25</td>\n",
              "        <td>2017-01-02</td>\n",
              "        <td>Charlotte</td>\n",
              "        <td>0</td>\n",
              "    </tr>\n",
              "    <tr>\n",
              "        <td>2010-01-01</td>\n",
              "        <td>0.07</td>\n",
              "        <td>0.9</td>\n",
              "        <td>32</td>\n",
              "        <td>25</td>\n",
              "        <td>2017-01-02</td>\n",
              "        <td>Brad</td>\n",
              "        <td>0</td>\n",
              "    </tr>\n",
              "    <tr>\n",
              "        <td>2010-01-01</td>\n",
              "        <td>0.07</td>\n",
              "        <td>0.9</td>\n",
              "        <td>32</td>\n",
              "        <td>25</td>\n",
              "        <td>2017-01-02</td>\n",
              "        <td>Kyle</td>\n",
              "        <td>0</td>\n",
              "    </tr>\n",
              "    <tr>\n",
              "        <td>2010-01-01</td>\n",
              "        <td>0.07</td>\n",
              "        <td>0.9</td>\n",
              "        <td>32</td>\n",
              "        <td>25</td>\n",
              "        <td>2017-01-02</td>\n",
              "        <td>Alexander</td>\n",
              "        <td>0</td>\n",
              "    </tr>\n",
              "    <tr>\n",
              "        <td>2010-01-01</td>\n",
              "        <td>0.07</td>\n",
              "        <td>0.9</td>\n",
              "        <td>32</td>\n",
              "        <td>25</td>\n",
              "        <td>2017-01-02</td>\n",
              "        <td>Susan</td>\n",
              "        <td>1</td>\n",
              "    </tr>\n",
              "</table>"
            ],
            "text/plain": [
              "[('2010-01-01', 0.07, 0.9, 32, 25, '2017-01-01', 'Charlotte', 0),\n",
              " ('2010-01-01', 0.07, 0.9, 32, 25, '2017-01-01', 'Brad', 0),\n",
              " ('2010-01-01', 0.07, 0.9, 32, 25, '2017-01-01', 'Kyle', 0),\n",
              " ('2010-01-01', 0.07, 0.9, 32, 25, '2017-01-01', 'Alexander', 0),\n",
              " ('2010-01-01', 0.07, 0.9, 32, 25, '2017-01-01', 'Susan', 0),\n",
              " ('2010-01-01', 0.07, 0.9, 32, 25, '2017-01-01', 'Olivia', 0),\n",
              " ('2010-01-01', 0.07, 0.9, 32, 25, '2017-01-01', 'Oscar', 1),\n",
              " ('2010-01-01', 0.07, 0.9, 32, 25, '2017-01-01', 'Isabella', 0),\n",
              " ('2010-01-01', 0.07, 0.9, 32, 25, '2017-01-01', 'Pranav', 0),\n",
              " ('2010-01-01', 0.07, 0.9, 32, 25, '2017-01-01', 'Jenay', 1),\n",
              " ('2010-01-01', 0.07, 0.9, 32, 25, '2017-01-02', 'Charlotte', 0),\n",
              " ('2010-01-01', 0.07, 0.9, 32, 25, '2017-01-02', 'Brad', 0),\n",
              " ('2010-01-01', 0.07, 0.9, 32, 25, '2017-01-02', 'Kyle', 0),\n",
              " ('2010-01-01', 0.07, 0.9, 32, 25, '2017-01-02', 'Alexander', 0),\n",
              " ('2010-01-01', 0.07, 0.9, 32, 25, '2017-01-02', 'Susan', 1)]"
            ]
          },
          "metadata": {
            "tags": []
          },
          "execution_count": 18
        }
      ]
    },
    {
      "cell_type": "markdown",
      "metadata": {
        "id": "A0C3BtIka0gN",
        "colab_type": "text"
      },
      "source": [
        "#### Step 2: connecting the tables"
      ]
    },
    {
      "cell_type": "markdown",
      "metadata": {
        "id": "NdMaBt1Ia5gP",
        "colab_type": "text"
      },
      "source": [
        "Looking at our data, what is the commmonality between the two tables? \n",
        "\n",
        "Once we know this, we need to join the two tables based on this commonality using a WHERE command. "
      ]
    },
    {
      "cell_type": "code",
      "metadata": {
        "id": "YNWePSuRadE8",
        "colab_type": "code",
        "outputId": "ec2dacab-2874-4249-ee4a-c99425d6ecd1",
        "colab": {
          "base_uri": "https://localhost:8080/",
          "height": 374
        }
      },
      "source": [
        "%%sql\n",
        "select * from stateCollege s, golfingData g WHERE s.date = g.date limit 15"
      ],
      "execution_count": 19,
      "outputs": [
        {
          "output_type": "stream",
          "text": [
            " * sqlite:///letsgogolfing.db\n",
            "Done.\n"
          ],
          "name": "stdout"
        },
        {
          "output_type": "execute_result",
          "data": {
            "text/html": [
              "<table>\n",
              "    <tr>\n",
              "        <th>date</th>\n",
              "        <th>precipitation</th>\n",
              "        <th>snow</th>\n",
              "        <th>temp_max</th>\n",
              "        <th>temp_min</th>\n",
              "        <th>date_1</th>\n",
              "        <th>name</th>\n",
              "        <th>golfing</th>\n",
              "    </tr>\n",
              "    <tr>\n",
              "        <td>2017-01-01</td>\n",
              "        <td>0.01</td>\n",
              "        <td>0.0</td>\n",
              "        <td>40</td>\n",
              "        <td>27</td>\n",
              "        <td>2017-01-01</td>\n",
              "        <td>Charlotte</td>\n",
              "        <td>0</td>\n",
              "    </tr>\n",
              "    <tr>\n",
              "        <td>2017-01-01</td>\n",
              "        <td>0.01</td>\n",
              "        <td>0.0</td>\n",
              "        <td>40</td>\n",
              "        <td>27</td>\n",
              "        <td>2017-01-01</td>\n",
              "        <td>Brad</td>\n",
              "        <td>0</td>\n",
              "    </tr>\n",
              "    <tr>\n",
              "        <td>2017-01-01</td>\n",
              "        <td>0.01</td>\n",
              "        <td>0.0</td>\n",
              "        <td>40</td>\n",
              "        <td>27</td>\n",
              "        <td>2017-01-01</td>\n",
              "        <td>Kyle</td>\n",
              "        <td>0</td>\n",
              "    </tr>\n",
              "    <tr>\n",
              "        <td>2017-01-01</td>\n",
              "        <td>0.01</td>\n",
              "        <td>0.0</td>\n",
              "        <td>40</td>\n",
              "        <td>27</td>\n",
              "        <td>2017-01-01</td>\n",
              "        <td>Alexander</td>\n",
              "        <td>0</td>\n",
              "    </tr>\n",
              "    <tr>\n",
              "        <td>2017-01-01</td>\n",
              "        <td>0.01</td>\n",
              "        <td>0.0</td>\n",
              "        <td>40</td>\n",
              "        <td>27</td>\n",
              "        <td>2017-01-01</td>\n",
              "        <td>Susan</td>\n",
              "        <td>0</td>\n",
              "    </tr>\n",
              "    <tr>\n",
              "        <td>2017-01-01</td>\n",
              "        <td>0.01</td>\n",
              "        <td>0.0</td>\n",
              "        <td>40</td>\n",
              "        <td>27</td>\n",
              "        <td>2017-01-01</td>\n",
              "        <td>Olivia</td>\n",
              "        <td>0</td>\n",
              "    </tr>\n",
              "    <tr>\n",
              "        <td>2017-01-01</td>\n",
              "        <td>0.01</td>\n",
              "        <td>0.0</td>\n",
              "        <td>40</td>\n",
              "        <td>27</td>\n",
              "        <td>2017-01-01</td>\n",
              "        <td>Oscar</td>\n",
              "        <td>1</td>\n",
              "    </tr>\n",
              "    <tr>\n",
              "        <td>2017-01-01</td>\n",
              "        <td>0.01</td>\n",
              "        <td>0.0</td>\n",
              "        <td>40</td>\n",
              "        <td>27</td>\n",
              "        <td>2017-01-01</td>\n",
              "        <td>Isabella</td>\n",
              "        <td>0</td>\n",
              "    </tr>\n",
              "    <tr>\n",
              "        <td>2017-01-01</td>\n",
              "        <td>0.01</td>\n",
              "        <td>0.0</td>\n",
              "        <td>40</td>\n",
              "        <td>27</td>\n",
              "        <td>2017-01-01</td>\n",
              "        <td>Pranav</td>\n",
              "        <td>0</td>\n",
              "    </tr>\n",
              "    <tr>\n",
              "        <td>2017-01-01</td>\n",
              "        <td>0.01</td>\n",
              "        <td>0.0</td>\n",
              "        <td>40</td>\n",
              "        <td>27</td>\n",
              "        <td>2017-01-01</td>\n",
              "        <td>Jenay</td>\n",
              "        <td>1</td>\n",
              "    </tr>\n",
              "    <tr>\n",
              "        <td>2017-01-02</td>\n",
              "        <td>0.02</td>\n",
              "        <td>0.0</td>\n",
              "        <td>43</td>\n",
              "        <td>30</td>\n",
              "        <td>2017-01-02</td>\n",
              "        <td>Charlotte</td>\n",
              "        <td>0</td>\n",
              "    </tr>\n",
              "    <tr>\n",
              "        <td>2017-01-02</td>\n",
              "        <td>0.02</td>\n",
              "        <td>0.0</td>\n",
              "        <td>43</td>\n",
              "        <td>30</td>\n",
              "        <td>2017-01-02</td>\n",
              "        <td>Brad</td>\n",
              "        <td>0</td>\n",
              "    </tr>\n",
              "    <tr>\n",
              "        <td>2017-01-02</td>\n",
              "        <td>0.02</td>\n",
              "        <td>0.0</td>\n",
              "        <td>43</td>\n",
              "        <td>30</td>\n",
              "        <td>2017-01-02</td>\n",
              "        <td>Kyle</td>\n",
              "        <td>0</td>\n",
              "    </tr>\n",
              "    <tr>\n",
              "        <td>2017-01-02</td>\n",
              "        <td>0.02</td>\n",
              "        <td>0.0</td>\n",
              "        <td>43</td>\n",
              "        <td>30</td>\n",
              "        <td>2017-01-02</td>\n",
              "        <td>Alexander</td>\n",
              "        <td>0</td>\n",
              "    </tr>\n",
              "    <tr>\n",
              "        <td>2017-01-02</td>\n",
              "        <td>0.02</td>\n",
              "        <td>0.0</td>\n",
              "        <td>43</td>\n",
              "        <td>30</td>\n",
              "        <td>2017-01-02</td>\n",
              "        <td>Susan</td>\n",
              "        <td>1</td>\n",
              "    </tr>\n",
              "</table>"
            ],
            "text/plain": [
              "[('2017-01-01', 0.01, 0.0, 40, 27, '2017-01-01', 'Charlotte', 0),\n",
              " ('2017-01-01', 0.01, 0.0, 40, 27, '2017-01-01', 'Brad', 0),\n",
              " ('2017-01-01', 0.01, 0.0, 40, 27, '2017-01-01', 'Kyle', 0),\n",
              " ('2017-01-01', 0.01, 0.0, 40, 27, '2017-01-01', 'Alexander', 0),\n",
              " ('2017-01-01', 0.01, 0.0, 40, 27, '2017-01-01', 'Susan', 0),\n",
              " ('2017-01-01', 0.01, 0.0, 40, 27, '2017-01-01', 'Olivia', 0),\n",
              " ('2017-01-01', 0.01, 0.0, 40, 27, '2017-01-01', 'Oscar', 1),\n",
              " ('2017-01-01', 0.01, 0.0, 40, 27, '2017-01-01', 'Isabella', 0),\n",
              " ('2017-01-01', 0.01, 0.0, 40, 27, '2017-01-01', 'Pranav', 0),\n",
              " ('2017-01-01', 0.01, 0.0, 40, 27, '2017-01-01', 'Jenay', 1),\n",
              " ('2017-01-02', 0.02, 0.0, 43, 30, '2017-01-02', 'Charlotte', 0),\n",
              " ('2017-01-02', 0.02, 0.0, 43, 30, '2017-01-02', 'Brad', 0),\n",
              " ('2017-01-02', 0.02, 0.0, 43, 30, '2017-01-02', 'Kyle', 0),\n",
              " ('2017-01-02', 0.02, 0.0, 43, 30, '2017-01-02', 'Alexander', 0),\n",
              " ('2017-01-02', 0.02, 0.0, 43, 30, '2017-01-02', 'Susan', 1)]"
            ]
          },
          "metadata": {
            "tags": []
          },
          "execution_count": 19
        }
      ]
    },
    {
      "cell_type": "markdown",
      "metadata": {
        "id": "W-4EWfj1b2hs",
        "colab_type": "text"
      },
      "source": [
        "Also, this looks somewhat familiar.\n",
        "\n",
        "![ER Diagram](https://raw.githubusercontent.com/dudaspm/IST210/master/Introduction/Images/goinggolfing.png)"
      ]
    },
    {
      "cell_type": "markdown",
      "metadata": {
        "id": "EP2YRNVEcT77",
        "colab_type": "text"
      },
      "source": [
        "The difference between these two commands can also be shown as followed:"
      ]
    },
    {
      "cell_type": "code",
      "metadata": {
        "id": "m6x4NLdNbMkB",
        "colab_type": "code",
        "outputId": "5b490a70-4700-4722-b6ac-2e7dac5ef8b9",
        "colab": {
          "base_uri": "https://localhost:8080/",
          "height": 94
        }
      },
      "source": [
        "%%sql\n",
        "select count(*) from stateCollege s, golfingData g limit 10;"
      ],
      "execution_count": 20,
      "outputs": [
        {
          "output_type": "stream",
          "text": [
            " * sqlite:///letsgogolfing.db\n",
            "Done.\n"
          ],
          "name": "stdout"
        },
        {
          "output_type": "execute_result",
          "data": {
            "text/html": [
              "<table>\n",
              "    <tr>\n",
              "        <th>count(*)</th>\n",
              "    </tr>\n",
              "    <tr>\n",
              "        <td>36921720</td>\n",
              "    </tr>\n",
              "</table>"
            ],
            "text/plain": [
              "[(36921720,)]"
            ]
          },
          "metadata": {
            "tags": []
          },
          "execution_count": 20
        }
      ]
    },
    {
      "cell_type": "code",
      "metadata": {
        "id": "acwxIo2-2wvC",
        "colab_type": "code",
        "outputId": "e9a86fa2-f2dc-4ab0-980e-7f409fd29439",
        "colab": {
          "base_uri": "https://localhost:8080/",
          "height": 94
        }
      },
      "source": [
        "%%sql\n",
        "select count(*) from stateCollege s, golfingData g WHERE s.date = g.date limit 10;"
      ],
      "execution_count": 21,
      "outputs": [
        {
          "output_type": "stream",
          "text": [
            " * sqlite:///letsgogolfing.db\n",
            "Done.\n"
          ],
          "name": "stdout"
        },
        {
          "output_type": "execute_result",
          "data": {
            "text/html": [
              "<table>\n",
              "    <tr>\n",
              "        <th>count(*)</th>\n",
              "    </tr>\n",
              "    <tr>\n",
              "        <td>10110</td>\n",
              "    </tr>\n",
              "</table>"
            ],
            "text/plain": [
              "[(10110,)]"
            ]
          },
          "metadata": {
            "tags": []
          },
          "execution_count": 21
        }
      ]
    },
    {
      "cell_type": "markdown",
      "metadata": {
        "id": "nxiSLPFUcoFr",
        "colab_type": "text"
      },
      "source": [
        "So, the table are now joined... So what."
      ]
    },
    {
      "cell_type": "markdown",
      "metadata": {
        "id": "syacm_5scvjR",
        "colab_type": "text"
      },
      "source": [
        "#### Step 3: Accessing the attributes."
      ]
    },
    {
      "cell_type": "markdown",
      "metadata": {
        "id": "9-6-_JL2c6jT",
        "colab_type": "text"
      },
      "source": [
        "We still have a bit of redudancy. The date is listed twice. What if we want to see it once. "
      ]
    },
    {
      "cell_type": "code",
      "metadata": {
        "id": "vfDLNf72cg9F",
        "colab_type": "code",
        "outputId": "214b2e08-caf2-4b1f-a723-9baffb103523",
        "colab": {
          "base_uri": "https://localhost:8080/",
          "height": 374
        }
      },
      "source": [
        "%%sql\n",
        "select s.date, s.precipitation, s.snow, s.temp_max, s.temp_min, g.name, g.golfing from stateCollege as s, golfingData as g WHERE s.date = g.date limit 15"
      ],
      "execution_count": 22,
      "outputs": [
        {
          "output_type": "stream",
          "text": [
            " * sqlite:///letsgogolfing.db\n",
            "Done.\n"
          ],
          "name": "stdout"
        },
        {
          "output_type": "execute_result",
          "data": {
            "text/html": [
              "<table>\n",
              "    <tr>\n",
              "        <th>date</th>\n",
              "        <th>precipitation</th>\n",
              "        <th>snow</th>\n",
              "        <th>temp_max</th>\n",
              "        <th>temp_min</th>\n",
              "        <th>name</th>\n",
              "        <th>golfing</th>\n",
              "    </tr>\n",
              "    <tr>\n",
              "        <td>2017-01-01</td>\n",
              "        <td>0.01</td>\n",
              "        <td>0.0</td>\n",
              "        <td>40</td>\n",
              "        <td>27</td>\n",
              "        <td>Charlotte</td>\n",
              "        <td>0</td>\n",
              "    </tr>\n",
              "    <tr>\n",
              "        <td>2017-01-01</td>\n",
              "        <td>0.01</td>\n",
              "        <td>0.0</td>\n",
              "        <td>40</td>\n",
              "        <td>27</td>\n",
              "        <td>Brad</td>\n",
              "        <td>0</td>\n",
              "    </tr>\n",
              "    <tr>\n",
              "        <td>2017-01-01</td>\n",
              "        <td>0.01</td>\n",
              "        <td>0.0</td>\n",
              "        <td>40</td>\n",
              "        <td>27</td>\n",
              "        <td>Kyle</td>\n",
              "        <td>0</td>\n",
              "    </tr>\n",
              "    <tr>\n",
              "        <td>2017-01-01</td>\n",
              "        <td>0.01</td>\n",
              "        <td>0.0</td>\n",
              "        <td>40</td>\n",
              "        <td>27</td>\n",
              "        <td>Alexander</td>\n",
              "        <td>0</td>\n",
              "    </tr>\n",
              "    <tr>\n",
              "        <td>2017-01-01</td>\n",
              "        <td>0.01</td>\n",
              "        <td>0.0</td>\n",
              "        <td>40</td>\n",
              "        <td>27</td>\n",
              "        <td>Susan</td>\n",
              "        <td>0</td>\n",
              "    </tr>\n",
              "    <tr>\n",
              "        <td>2017-01-01</td>\n",
              "        <td>0.01</td>\n",
              "        <td>0.0</td>\n",
              "        <td>40</td>\n",
              "        <td>27</td>\n",
              "        <td>Olivia</td>\n",
              "        <td>0</td>\n",
              "    </tr>\n",
              "    <tr>\n",
              "        <td>2017-01-01</td>\n",
              "        <td>0.01</td>\n",
              "        <td>0.0</td>\n",
              "        <td>40</td>\n",
              "        <td>27</td>\n",
              "        <td>Oscar</td>\n",
              "        <td>1</td>\n",
              "    </tr>\n",
              "    <tr>\n",
              "        <td>2017-01-01</td>\n",
              "        <td>0.01</td>\n",
              "        <td>0.0</td>\n",
              "        <td>40</td>\n",
              "        <td>27</td>\n",
              "        <td>Isabella</td>\n",
              "        <td>0</td>\n",
              "    </tr>\n",
              "    <tr>\n",
              "        <td>2017-01-01</td>\n",
              "        <td>0.01</td>\n",
              "        <td>0.0</td>\n",
              "        <td>40</td>\n",
              "        <td>27</td>\n",
              "        <td>Pranav</td>\n",
              "        <td>0</td>\n",
              "    </tr>\n",
              "    <tr>\n",
              "        <td>2017-01-01</td>\n",
              "        <td>0.01</td>\n",
              "        <td>0.0</td>\n",
              "        <td>40</td>\n",
              "        <td>27</td>\n",
              "        <td>Jenay</td>\n",
              "        <td>1</td>\n",
              "    </tr>\n",
              "    <tr>\n",
              "        <td>2017-01-02</td>\n",
              "        <td>0.02</td>\n",
              "        <td>0.0</td>\n",
              "        <td>43</td>\n",
              "        <td>30</td>\n",
              "        <td>Charlotte</td>\n",
              "        <td>0</td>\n",
              "    </tr>\n",
              "    <tr>\n",
              "        <td>2017-01-02</td>\n",
              "        <td>0.02</td>\n",
              "        <td>0.0</td>\n",
              "        <td>43</td>\n",
              "        <td>30</td>\n",
              "        <td>Brad</td>\n",
              "        <td>0</td>\n",
              "    </tr>\n",
              "    <tr>\n",
              "        <td>2017-01-02</td>\n",
              "        <td>0.02</td>\n",
              "        <td>0.0</td>\n",
              "        <td>43</td>\n",
              "        <td>30</td>\n",
              "        <td>Kyle</td>\n",
              "        <td>0</td>\n",
              "    </tr>\n",
              "    <tr>\n",
              "        <td>2017-01-02</td>\n",
              "        <td>0.02</td>\n",
              "        <td>0.0</td>\n",
              "        <td>43</td>\n",
              "        <td>30</td>\n",
              "        <td>Alexander</td>\n",
              "        <td>0</td>\n",
              "    </tr>\n",
              "    <tr>\n",
              "        <td>2017-01-02</td>\n",
              "        <td>0.02</td>\n",
              "        <td>0.0</td>\n",
              "        <td>43</td>\n",
              "        <td>30</td>\n",
              "        <td>Susan</td>\n",
              "        <td>1</td>\n",
              "    </tr>\n",
              "</table>"
            ],
            "text/plain": [
              "[('2017-01-01', 0.01, 0.0, 40, 27, 'Charlotte', 0),\n",
              " ('2017-01-01', 0.01, 0.0, 40, 27, 'Brad', 0),\n",
              " ('2017-01-01', 0.01, 0.0, 40, 27, 'Kyle', 0),\n",
              " ('2017-01-01', 0.01, 0.0, 40, 27, 'Alexander', 0),\n",
              " ('2017-01-01', 0.01, 0.0, 40, 27, 'Susan', 0),\n",
              " ('2017-01-01', 0.01, 0.0, 40, 27, 'Olivia', 0),\n",
              " ('2017-01-01', 0.01, 0.0, 40, 27, 'Oscar', 1),\n",
              " ('2017-01-01', 0.01, 0.0, 40, 27, 'Isabella', 0),\n",
              " ('2017-01-01', 0.01, 0.0, 40, 27, 'Pranav', 0),\n",
              " ('2017-01-01', 0.01, 0.0, 40, 27, 'Jenay', 1),\n",
              " ('2017-01-02', 0.02, 0.0, 43, 30, 'Charlotte', 0),\n",
              " ('2017-01-02', 0.02, 0.0, 43, 30, 'Brad', 0),\n",
              " ('2017-01-02', 0.02, 0.0, 43, 30, 'Kyle', 0),\n",
              " ('2017-01-02', 0.02, 0.0, 43, 30, 'Alexander', 0),\n",
              " ('2017-01-02', 0.02, 0.0, 43, 30, 'Susan', 1)]"
            ]
          },
          "metadata": {
            "tags": []
          },
          "execution_count": 22
        }
      ]
    },
    {
      "cell_type": "markdown",
      "metadata": {
        "id": "nfqKQLsLej7v",
        "colab_type": "text"
      },
      "source": [
        "Now we can ask more questions of data based on having both datasets."
      ]
    },
    {
      "cell_type": "markdown",
      "metadata": {
        "id": "SeMYvKA8lJdF",
        "colab_type": "text"
      },
      "source": [
        "What does this next query give us?"
      ]
    },
    {
      "cell_type": "code",
      "metadata": {
        "id": "6csbhaftdKRD",
        "colab_type": "code",
        "outputId": "176ec609-854d-4e3e-cfdc-c5c34ba0ca58",
        "colab": {
          "base_uri": "https://localhost:8080/",
          "height": 274
        }
      },
      "source": [
        "%%sql\n",
        "select g.name, sum(g.golfing) from stateCollege as s, golfingData as g WHERE s.date = g.date AND s.temp_min < 30 group by g.name limit 10"
      ],
      "execution_count": 23,
      "outputs": [
        {
          "output_type": "stream",
          "text": [
            " * sqlite:///letsgogolfing.db\n",
            "Done.\n"
          ],
          "name": "stdout"
        },
        {
          "output_type": "execute_result",
          "data": {
            "text/html": [
              "<table>\n",
              "    <tr>\n",
              "        <th>name</th>\n",
              "        <th>sum(g.golfing)</th>\n",
              "    </tr>\n",
              "    <tr>\n",
              "        <td>Alexander</td>\n",
              "        <td>49</td>\n",
              "    </tr>\n",
              "    <tr>\n",
              "        <td>Brad</td>\n",
              "        <td>53</td>\n",
              "    </tr>\n",
              "    <tr>\n",
              "        <td>Charlotte</td>\n",
              "        <td>43</td>\n",
              "    </tr>\n",
              "    <tr>\n",
              "        <td>Isabella</td>\n",
              "        <td>46</td>\n",
              "    </tr>\n",
              "    <tr>\n",
              "        <td>Jenay</td>\n",
              "        <td>48</td>\n",
              "    </tr>\n",
              "    <tr>\n",
              "        <td>Kyle</td>\n",
              "        <td>45</td>\n",
              "    </tr>\n",
              "    <tr>\n",
              "        <td>Olivia</td>\n",
              "        <td>60</td>\n",
              "    </tr>\n",
              "    <tr>\n",
              "        <td>Oscar</td>\n",
              "        <td>36</td>\n",
              "    </tr>\n",
              "    <tr>\n",
              "        <td>Pranav</td>\n",
              "        <td>42</td>\n",
              "    </tr>\n",
              "    <tr>\n",
              "        <td>Susan</td>\n",
              "        <td>42</td>\n",
              "    </tr>\n",
              "</table>"
            ],
            "text/plain": [
              "[('Alexander', 49),\n",
              " ('Brad', 53),\n",
              " ('Charlotte', 43),\n",
              " ('Isabella', 46),\n",
              " ('Jenay', 48),\n",
              " ('Kyle', 45),\n",
              " ('Olivia', 60),\n",
              " ('Oscar', 36),\n",
              " ('Pranav', 42),\n",
              " ('Susan', 42)]"
            ]
          },
          "metadata": {
            "tags": []
          },
          "execution_count": 23
        }
      ]
    },
    {
      "cell_type": "markdown",
      "metadata": {
        "id": "-BDasdNClLF1",
        "colab_type": "text"
      },
      "source": [
        "Your answer: "
      ]
    },
    {
      "cell_type": "markdown",
      "metadata": {
        "id": "R2LcE0p4lPxM",
        "colab_type": "text"
      },
      "source": [
        "Ok, try and answer the following question.  \n",
        "\n",
        "Did anyone go golfing when it was snowing?"
      ]
    },
    {
      "cell_type": "code",
      "metadata": {
        "id": "J1QjCYlflPO8",
        "colab_type": "code",
        "outputId": "69c10594-15e4-4760-d7cd-afc20b1e8494",
        "colab": {
          "base_uri": "https://localhost:8080/",
          "height": 274
        }
      },
      "source": [
        "%%sql\n",
        "select * from stateCollege limit 10"
      ],
      "execution_count": 24,
      "outputs": [
        {
          "output_type": "stream",
          "text": [
            " * sqlite:///letsgogolfing.db\n",
            "Done.\n"
          ],
          "name": "stdout"
        },
        {
          "output_type": "execute_result",
          "data": {
            "text/html": [
              "<table>\n",
              "    <tr>\n",
              "        <th>date</th>\n",
              "        <th>precipitation</th>\n",
              "        <th>snow</th>\n",
              "        <th>temp_max</th>\n",
              "        <th>temp_min</th>\n",
              "    </tr>\n",
              "    <tr>\n",
              "        <td>2010-01-01</td>\n",
              "        <td>0.07</td>\n",
              "        <td>0.9</td>\n",
              "        <td>32</td>\n",
              "        <td>25</td>\n",
              "    </tr>\n",
              "    <tr>\n",
              "        <td>2010-01-02</td>\n",
              "        <td>0.0</td>\n",
              "        <td>0.0</td>\n",
              "        <td>37</td>\n",
              "        <td>18</td>\n",
              "    </tr>\n",
              "    <tr>\n",
              "        <td>2010-01-03</td>\n",
              "        <td>0.0</td>\n",
              "        <td>0.0</td>\n",
              "        <td>20</td>\n",
              "        <td>12</td>\n",
              "    </tr>\n",
              "    <tr>\n",
              "        <td>2010-01-04</td>\n",
              "        <td>0.0</td>\n",
              "        <td>0.0</td>\n",
              "        <td>21</td>\n",
              "        <td>13</td>\n",
              "    </tr>\n",
              "    <tr>\n",
              "        <td>2010-01-05</td>\n",
              "        <td>0.0</td>\n",
              "        <td>0.0</td>\n",
              "        <td>25</td>\n",
              "        <td>18</td>\n",
              "    </tr>\n",
              "    <tr>\n",
              "        <td>2010-01-06</td>\n",
              "        <td>0.05</td>\n",
              "        <td>0.7</td>\n",
              "        <td>27</td>\n",
              "        <td>18</td>\n",
              "    </tr>\n",
              "    <tr>\n",
              "        <td>2010-01-07</td>\n",
              "        <td>0.0</td>\n",
              "        <td>0.0</td>\n",
              "        <td>30</td>\n",
              "        <td>25</td>\n",
              "    </tr>\n",
              "    <tr>\n",
              "        <td>2010-01-08</td>\n",
              "        <td>0.06</td>\n",
              "        <td>1.2</td>\n",
              "        <td>29</td>\n",
              "        <td>21</td>\n",
              "    </tr>\n",
              "    <tr>\n",
              "        <td>2010-01-09</td>\n",
              "        <td>0.02</td>\n",
              "        <td>0.4</td>\n",
              "        <td>24</td>\n",
              "        <td>16</td>\n",
              "    </tr>\n",
              "    <tr>\n",
              "        <td>2010-01-10</td>\n",
              "        <td>0.0</td>\n",
              "        <td>0.0</td>\n",
              "        <td>27</td>\n",
              "        <td>8</td>\n",
              "    </tr>\n",
              "</table>"
            ],
            "text/plain": [
              "[('2010-01-01', 0.07, 0.9, 32, 25),\n",
              " ('2010-01-02', 0.0, 0.0, 37, 18),\n",
              " ('2010-01-03', 0.0, 0.0, 20, 12),\n",
              " ('2010-01-04', 0.0, 0.0, 21, 13),\n",
              " ('2010-01-05', 0.0, 0.0, 25, 18),\n",
              " ('2010-01-06', 0.05, 0.7, 27, 18),\n",
              " ('2010-01-07', 0.0, 0.0, 30, 25),\n",
              " ('2010-01-08', 0.06, 1.2, 29, 21),\n",
              " ('2010-01-09', 0.02, 0.4, 24, 16),\n",
              " ('2010-01-10', 0.0, 0.0, 27, 8)]"
            ]
          },
          "metadata": {
            "tags": []
          },
          "execution_count": 24
        }
      ]
    },
    {
      "cell_type": "markdown",
      "metadata": {
        "id": "WCVglWlz4d8Y",
        "colab_type": "text"
      },
      "source": [
        "List of functions:"
      ]
    },
    {
      "cell_type": "markdown",
      "metadata": {
        "id": "8IiUHXqc3VGT",
        "colab_type": "text"
      },
      "source": [
        "\n",
        "*   INSERT\n",
        "*   CREATE\n",
        "*   UPDATE\n",
        "*   DROP\n",
        "*   Distinct\n",
        "*   Count\n",
        "*   AVG\n",
        "*   SUM\n",
        "*   Group By\n",
        "*   Order By\n",
        "*   Between\n",
        "*   LIKE \n",
        "*   Join\n",
        "\n",
        "\n",
        "\n"
      ]
    }
  ]
}