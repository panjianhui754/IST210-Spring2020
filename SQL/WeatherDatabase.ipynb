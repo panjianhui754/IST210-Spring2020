{
  "nbformat": 4,
  "nbformat_minor": 0,
  "metadata": {
    "colab": {
      "name": "WeatherDatabase.ipynb",
      "provenance": [],
      "authorship_tag": "ABX9TyMaMTSAUy+W5ZEWOt2WdvFJ",
      "include_colab_link": true
    },
    "kernelspec": {
      "name": "python3",
      "display_name": "Python 3"
    }
  },
  "cells": [
    {
      "cell_type": "markdown",
      "metadata": {
        "id": "view-in-github",
        "colab_type": "text"
      },
      "source": [
        "<a href=\"https://colab.research.google.com/github/dudaspm/IST210-Spring2020/blob/master/SQL/WeatherDatabase.ipynb\" target=\"_parent\"><img src=\"https://colab.research.google.com/assets/colab-badge.svg\" alt=\"Open In Colab\"/></a>"
      ]
    },
    {
      "cell_type": "markdown",
      "metadata": {
        "id": "uZVAtGsjsXOf",
        "colab_type": "text"
      },
      "source": [
        "## Start Learning SQL Commands"
      ]
    },
    {
      "cell_type": "markdown",
      "metadata": {
        "id": "lwFmvmOGmI6t",
        "colab_type": "text"
      },
      "source": [
        "We will first pull in data from [Gist](https://gist.github.com/)"
      ]
    },
    {
      "cell_type": "code",
      "metadata": {
        "id": "0zkTK8RDlNLv",
        "colab_type": "code",
        "colab": {}
      },
      "source": [
        "#Used to make requests\n",
        "import urllib\n",
        "\n",
        "f = urllib.request.urlopen(\"https://gist.githubusercontent.com/dudaspm/2cc247b1b43f1ebf620c1004dd2a0f76/raw/ecdb8dd0f2f851994f10d6612d398702a2d73d4c/StateCollege2010-2020.csv\")\n",
        "StateCollegeWeatherData = str(f.read().decode('utf-8'))"
      ],
      "execution_count": 0,
      "outputs": []
    },
    {
      "cell_type": "markdown",
      "metadata": {
        "id": "WHa0OU3Jpkgn",
        "colab_type": "text"
      },
      "source": [
        "Let's load SQL into our notebook"
      ]
    },
    {
      "cell_type": "code",
      "metadata": {
        "id": "gzFoBQBypk42",
        "colab_type": "code",
        "colab": {}
      },
      "source": [
        "%load_ext sql"
      ],
      "execution_count": 0,
      "outputs": []
    },
    {
      "cell_type": "markdown",
      "metadata": {
        "id": "5WExEkPnn7Vf",
        "colab_type": "text"
      },
      "source": [
        "Connect or Create a new database called *weatherDatabase*"
      ]
    },
    {
      "cell_type": "code",
      "metadata": {
        "id": "HVJkDnJ4n78X",
        "colab_type": "code",
        "outputId": "9eeb55ba-8c6f-44d5-971b-c1ebf33dd41b",
        "colab": {
          "base_uri": "https://localhost:8080/",
          "height": 35
        }
      },
      "source": [
        "%sql sqlite:///weatherDatabase.db"
      ],
      "execution_count": 4,
      "outputs": [
        {
          "output_type": "execute_result",
          "data": {
            "text/plain": [
              "'Connected: @weatherDatabase.db'"
            ]
          },
          "metadata": {
            "tags": []
          },
          "execution_count": 4
        }
      ]
    },
    {
      "cell_type": "markdown",
      "metadata": {
        "id": "hRkVDTt7oWgY",
        "colab_type": "text"
      },
      "source": [
        "Here is your ER Diagram\n",
        "\n",
        "![weather ER Diagram](https://raw.githubusercontent.com/dudaspm/IST210-Spring2020/master/SQL/images/weather.png)"
      ]
    },
    {
      "cell_type": "markdown",
      "metadata": {
        "id": "kv4N97Qg5JQ4",
        "colab_type": "text"
      },
      "source": [
        "### CREATE"
      ]
    },
    {
      "cell_type": "code",
      "metadata": {
        "id": "ND1sxrn7oIuw",
        "colab_type": "code",
        "outputId": "e45e722c-8608-4c47-a863-6a4784918df1",
        "colab": {
          "base_uri": "https://localhost:8080/",
          "height": 88
        }
      },
      "source": [
        "%%sql  \n",
        "DROP TABLE IF EXISTS Weather;\n",
        "CREATE TABLE Weather(date text primary key, precipitation real, snow real, temp_max integer, temp_min integer);"
      ],
      "execution_count": 5,
      "outputs": [
        {
          "output_type": "stream",
          "text": [
            " * sqlite:///weatherDatabase.db\n",
            "Done.\n",
            "Done.\n"
          ],
          "name": "stdout"
        },
        {
          "output_type": "execute_result",
          "data": {
            "text/plain": [
              "[]"
            ]
          },
          "metadata": {
            "tags": []
          },
          "execution_count": 5
        }
      ]
    },
    {
      "cell_type": "markdown",
      "metadata": {
        "id": "-lxUMdEk5APy",
        "colab_type": "text"
      },
      "source": [
        "### INSERT"
      ]
    },
    {
      "cell_type": "markdown",
      "metadata": {
        "id": "c_p35LTk5b9g",
        "colab_type": "text"
      },
      "source": [
        "Again, Python code will always been given to you. Make sure you understand the INSERT statement. "
      ]
    },
    {
      "cell_type": "code",
      "metadata": {
        "id": "IGeEvYkxnozV",
        "colab_type": "code",
        "colab": {}
      },
      "source": [
        "%%capture\n",
        "for line in StateCollegeWeatherData.split(\"\\n\")[1:]:\n",
        "  d = line.split(\",\")\n",
        "  date = d[0]\n",
        "  precipitation = d[1]\n",
        "  snow = d[2]\n",
        "  temp_max = d[3]\n",
        "  temp_min = d[4]\n",
        "  \n",
        "  # Example:\n",
        "  # INSERT INTO Weather VALUES('2010-01-01',.07,.9,32,25)\n",
        "  %sql insert into Weather values (:date,:precipitation,:snow,:temp_max,:temp_min)\n"
      ],
      "execution_count": 0,
      "outputs": []
    },
    {
      "cell_type": "markdown",
      "metadata": {
        "id": "IVMnOtsE5EBf",
        "colab_type": "text"
      },
      "source": [
        "## SELECT"
      ]
    },
    {
      "cell_type": "markdown",
      "metadata": {
        "id": "sVrJXPhEVOaz",
        "colab_type": "text"
      },
      "source": [
        "### LIMIT"
      ]
    },
    {
      "cell_type": "code",
      "metadata": {
        "id": "5DnMQ5WFqr-8",
        "colab_type": "code",
        "outputId": "3d72ed98-e3bf-48a1-a2ce-3a9328d01b31",
        "colab": {
          "base_uri": "https://localhost:8080/",
          "height": 274
        }
      },
      "source": [
        "%%sql\n",
        "select * from weather limit 10;"
      ],
      "execution_count": 7,
      "outputs": [
        {
          "output_type": "stream",
          "text": [
            " * sqlite:///weatherDatabase.db\n",
            "Done.\n"
          ],
          "name": "stdout"
        },
        {
          "output_type": "execute_result",
          "data": {
            "text/html": [
              "<table>\n",
              "    <tr>\n",
              "        <th>date</th>\n",
              "        <th>precipitation</th>\n",
              "        <th>snow</th>\n",
              "        <th>temp_max</th>\n",
              "        <th>temp_min</th>\n",
              "    </tr>\n",
              "    <tr>\n",
              "        <td>2010-01-01</td>\n",
              "        <td>0.07</td>\n",
              "        <td>0.9</td>\n",
              "        <td>32</td>\n",
              "        <td>25</td>\n",
              "    </tr>\n",
              "    <tr>\n",
              "        <td>2010-01-02</td>\n",
              "        <td>0.0</td>\n",
              "        <td>0.0</td>\n",
              "        <td>37</td>\n",
              "        <td>18</td>\n",
              "    </tr>\n",
              "    <tr>\n",
              "        <td>2010-01-03</td>\n",
              "        <td>0.0</td>\n",
              "        <td>0.0</td>\n",
              "        <td>20</td>\n",
              "        <td>12</td>\n",
              "    </tr>\n",
              "    <tr>\n",
              "        <td>2010-01-04</td>\n",
              "        <td>0.0</td>\n",
              "        <td>0.0</td>\n",
              "        <td>21</td>\n",
              "        <td>13</td>\n",
              "    </tr>\n",
              "    <tr>\n",
              "        <td>2010-01-05</td>\n",
              "        <td>0.0</td>\n",
              "        <td>0.0</td>\n",
              "        <td>25</td>\n",
              "        <td>18</td>\n",
              "    </tr>\n",
              "    <tr>\n",
              "        <td>2010-01-06</td>\n",
              "        <td>0.05</td>\n",
              "        <td>0.7</td>\n",
              "        <td>27</td>\n",
              "        <td>18</td>\n",
              "    </tr>\n",
              "    <tr>\n",
              "        <td>2010-01-07</td>\n",
              "        <td>0.0</td>\n",
              "        <td>0.0</td>\n",
              "        <td>30</td>\n",
              "        <td>25</td>\n",
              "    </tr>\n",
              "    <tr>\n",
              "        <td>2010-01-08</td>\n",
              "        <td>0.06</td>\n",
              "        <td>1.2</td>\n",
              "        <td>29</td>\n",
              "        <td>21</td>\n",
              "    </tr>\n",
              "    <tr>\n",
              "        <td>2010-01-09</td>\n",
              "        <td>0.02</td>\n",
              "        <td>0.4</td>\n",
              "        <td>24</td>\n",
              "        <td>16</td>\n",
              "    </tr>\n",
              "    <tr>\n",
              "        <td>2010-01-10</td>\n",
              "        <td>0.0</td>\n",
              "        <td>0.0</td>\n",
              "        <td>27</td>\n",
              "        <td>8</td>\n",
              "    </tr>\n",
              "</table>"
            ],
            "text/plain": [
              "[('2010-01-01', 0.07, 0.9, 32, 25),\n",
              " ('2010-01-02', 0.0, 0.0, 37, 18),\n",
              " ('2010-01-03', 0.0, 0.0, 20, 12),\n",
              " ('2010-01-04', 0.0, 0.0, 21, 13),\n",
              " ('2010-01-05', 0.0, 0.0, 25, 18),\n",
              " ('2010-01-06', 0.05, 0.7, 27, 18),\n",
              " ('2010-01-07', 0.0, 0.0, 30, 25),\n",
              " ('2010-01-08', 0.06, 1.2, 29, 21),\n",
              " ('2010-01-09', 0.02, 0.4, 24, 16),\n",
              " ('2010-01-10', 0.0, 0.0, 27, 8)]"
            ]
          },
          "metadata": {
            "tags": []
          },
          "execution_count": 7
        }
      ]
    },
    {
      "cell_type": "markdown",
      "metadata": {
        "id": "cwdSsxaJVZGV",
        "colab_type": "text"
      },
      "source": [
        "### AVG - Average values"
      ]
    },
    {
      "cell_type": "code",
      "metadata": {
        "id": "5pjD0ZCMVhgp",
        "colab_type": "code",
        "outputId": "6096dd47-5663-434c-e312-2d88081bf3f0",
        "colab": {
          "base_uri": "https://localhost:8080/",
          "height": 94
        }
      },
      "source": [
        "%%sql\n",
        "select AVG(snow) from weather"
      ],
      "execution_count": 8,
      "outputs": [
        {
          "output_type": "stream",
          "text": [
            " * sqlite:///weatherDatabase.db\n",
            "Done.\n"
          ],
          "name": "stdout"
        },
        {
          "output_type": "execute_result",
          "data": {
            "text/html": [
              "<table>\n",
              "    <tr>\n",
              "        <th>AVG(snow)</th>\n",
              "    </tr>\n",
              "    <tr>\n",
              "        <td>0.10109529025191674</td>\n",
              "    </tr>\n",
              "</table>"
            ],
            "text/plain": [
              "[(0.10109529025191674,)]"
            ]
          },
          "metadata": {
            "tags": []
          },
          "execution_count": 8
        }
      ]
    },
    {
      "cell_type": "markdown",
      "metadata": {
        "id": "k3-PRGm7Vijl",
        "colab_type": "text"
      },
      "source": [
        "### MAX/MIN - Max/Min values"
      ]
    },
    {
      "cell_type": "code",
      "metadata": {
        "id": "Gf-A19DUVuiY",
        "colab_type": "code",
        "outputId": "6c035227-14f3-4c23-bb08-1fa0ff7bb727",
        "colab": {
          "base_uri": "https://localhost:8080/",
          "height": 94
        }
      },
      "source": [
        "%%sql\n",
        "select MAX(snow) from weather;"
      ],
      "execution_count": 9,
      "outputs": [
        {
          "output_type": "stream",
          "text": [
            " * sqlite:///weatherDatabase.db\n",
            "Done.\n"
          ],
          "name": "stdout"
        },
        {
          "output_type": "execute_result",
          "data": {
            "text/html": [
              "<table>\n",
              "    <tr>\n",
              "        <th>MAX(snow)</th>\n",
              "    </tr>\n",
              "    <tr>\n",
              "        <td>13.5</td>\n",
              "    </tr>\n",
              "</table>"
            ],
            "text/plain": [
              "[(13.5,)]"
            ]
          },
          "metadata": {
            "tags": []
          },
          "execution_count": 9
        }
      ]
    },
    {
      "cell_type": "code",
      "metadata": {
        "id": "KicRgu7VWUHC",
        "colab_type": "code",
        "outputId": "fbd61245-adcc-42ce-80f7-72acff24a7f9",
        "colab": {
          "base_uri": "https://localhost:8080/",
          "height": 94
        }
      },
      "source": [
        "%%sql\n",
        "select MIN(temp_min) from weather;"
      ],
      "execution_count": 10,
      "outputs": [
        {
          "output_type": "stream",
          "text": [
            " * sqlite:///weatherDatabase.db\n",
            "Done.\n"
          ],
          "name": "stdout"
        },
        {
          "output_type": "execute_result",
          "data": {
            "text/html": [
              "<table>\n",
              "    <tr>\n",
              "        <th>MIN(temp_min)</th>\n",
              "    </tr>\n",
              "    <tr>\n",
              "        <td>-9</td>\n",
              "    </tr>\n",
              "</table>"
            ],
            "text/plain": [
              "[(-9,)]"
            ]
          },
          "metadata": {
            "tags": []
          },
          "execution_count": 10
        }
      ]
    },
    {
      "cell_type": "markdown",
      "metadata": {
        "id": "W-rp7ex6VwNW",
        "colab_type": "text"
      },
      "source": [
        "### COUNT"
      ]
    },
    {
      "cell_type": "code",
      "metadata": {
        "id": "Dfr7dhyDVyqF",
        "colab_type": "code",
        "colab": {
          "base_uri": "https://localhost:8080/",
          "height": 94
        },
        "outputId": "4bc7e23d-0750-485a-d919-06e82dda21ba"
      },
      "source": [
        "%%sql\n",
        "select COUNT(date) from weather;"
      ],
      "execution_count": 11,
      "outputs": [
        {
          "output_type": "stream",
          "text": [
            " * sqlite:///weatherDatabase.db\n",
            "Done.\n"
          ],
          "name": "stdout"
        },
        {
          "output_type": "execute_result",
          "data": {
            "text/html": [
              "<table>\n",
              "    <tr>\n",
              "        <th>COUNT(date)</th>\n",
              "    </tr>\n",
              "    <tr>\n",
              "        <td>3652</td>\n",
              "    </tr>\n",
              "</table>"
            ],
            "text/plain": [
              "[(3652,)]"
            ]
          },
          "metadata": {
            "tags": []
          },
          "execution_count": 11
        }
      ]
    },
    {
      "cell_type": "markdown",
      "metadata": {
        "id": "Y1a1A1NqVzwO",
        "colab_type": "text"
      },
      "source": [
        "### WHERE - A condition"
      ]
    },
    {
      "cell_type": "code",
      "metadata": {
        "id": "4xga6W_QV6y4",
        "colab_type": "code",
        "colab": {
          "base_uri": "https://localhost:8080/",
          "height": 114
        },
        "outputId": "01d24739-2a39-4f1b-e68b-7ff966b005bf"
      },
      "source": [
        "%%sql\n",
        "select date, snow from weather where snow > 10;"
      ],
      "execution_count": 14,
      "outputs": [
        {
          "output_type": "stream",
          "text": [
            " * sqlite:///weatherDatabase.db\n",
            "Done.\n"
          ],
          "name": "stdout"
        },
        {
          "output_type": "execute_result",
          "data": {
            "text/html": [
              "<table>\n",
              "    <tr>\n",
              "        <th>date</th>\n",
              "        <th>snow</th>\n",
              "    </tr>\n",
              "    <tr>\n",
              "        <td>2010-02-06</td>\n",
              "        <td>13.5</td>\n",
              "    </tr>\n",
              "    <tr>\n",
              "        <td>2018-11-16</td>\n",
              "        <td>11.5</td>\n",
              "    </tr>\n",
              "</table>"
            ],
            "text/plain": [
              "[('2010-02-06', 13.5), ('2018-11-16', 11.5)]"
            ]
          },
          "metadata": {
            "tags": []
          },
          "execution_count": 14
        }
      ]
    },
    {
      "cell_type": "markdown",
      "metadata": {
        "id": "8k96d2GRVRSn",
        "colab_type": "text"
      },
      "source": [
        "### Between - Numbers/date between two conditions"
      ]
    },
    {
      "cell_type": "code",
      "metadata": {
        "id": "h3fSocK92-NJ",
        "colab_type": "code",
        "colab": {
          "base_uri": "https://localhost:8080/",
          "height": 114
        },
        "outputId": "c22ec4af-f6ed-40c2-8702-619512e64fa7"
      },
      "source": [
        "%%sql\n",
        "select date, snow from weather where snow between 8 and 9; "
      ],
      "execution_count": 15,
      "outputs": [
        {
          "output_type": "stream",
          "text": [
            " * sqlite:///weatherDatabase.db\n",
            "Done.\n"
          ],
          "name": "stdout"
        },
        {
          "output_type": "execute_result",
          "data": {
            "text/html": [
              "<table>\n",
              "    <tr>\n",
              "        <th>date</th>\n",
              "        <th>snow</th>\n",
              "    </tr>\n",
              "    <tr>\n",
              "        <td>2012-12-27</td>\n",
              "        <td>8.5</td>\n",
              "    </tr>\n",
              "    <tr>\n",
              "        <td>2014-02-14</td>\n",
              "        <td>8.0</td>\n",
              "    </tr>\n",
              "</table>"
            ],
            "text/plain": [
              "[('2012-12-27', 8.5), ('2014-02-14', 8.0)]"
            ]
          },
          "metadata": {
            "tags": []
          },
          "execution_count": 15
        }
      ]
    },
    {
      "cell_type": "code",
      "metadata": {
        "id": "8vu-yLmXvibc",
        "colab_type": "code",
        "colab": {}
      },
      "source": [
        ""
      ],
      "execution_count": 0,
      "outputs": []
    }
  ]
}