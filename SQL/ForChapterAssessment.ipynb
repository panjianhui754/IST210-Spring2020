{
  "nbformat": 4,
  "nbformat_minor": 0,
  "metadata": {
    "colab": {
      "name": "ForChapterAssessment.ipynb",
      "provenance": [],
      "collapsed_sections": [],
      "include_colab_link": true
    },
    "kernelspec": {
      "name": "python3",
      "display_name": "Python 3"
    }
  },
  "cells": [
    {
      "cell_type": "markdown",
      "metadata": {
        "id": "view-in-github",
        "colab_type": "text"
      },
      "source": [
        "<a href=\"https://colab.research.google.com/github/dudaspm/IST210-Spring2020/blob/master/SQL/ForChapterAssessment.ipynb\" target=\"_parent\"><img src=\"https://colab.research.google.com/assets/colab-badge.svg\" alt=\"Open In Colab\"/></a>"
      ]
    },
    {
      "cell_type": "code",
      "metadata": {
        "id": "ynQguM9nOQKJ",
        "colab_type": "code",
        "colab": {}
      },
      "source": [
        "import sqlite3 # Once imported in a single notebook, it is available to us throughout the rest of the notebook. \n",
        "# connect to database, if not there, create it.\n",
        "connectionToDatabase = sqlite3.connect('StudentFinancial') \n",
        "cursor = connectionToDatabase.cursor()\n",
        "cursor.execute('''drop table IF EXISTS student''')\n",
        "connectionToDatabase.commit()\n",
        "\n",
        "cursor.execute('''create table student (PSUID text PRIMARY KEY, firstname text, lastname text, email text, department text)''')\n",
        "connectionToDatabase.commit()\n",
        "\n",
        "cursor.execute('''drop table IF EXISTS tuition''')\n",
        "connectionToDatabase.commit()\n",
        "\n",
        "cursor.execute('''create table tuition (tuitionID text PRIMARY KEY, student text, semesterCost int, scholarship int, dueDate text)''')\n",
        "connectionToDatabase.commit()"
      ],
      "execution_count": 0,
      "outputs": []
    },
    {
      "cell_type": "code",
      "metadata": {
        "id": "5Cff0kxdFRIw",
        "colab_type": "code",
        "colab": {
          "base_uri": "https://localhost:8080/",
          "height": 35
        },
        "outputId": "e981d706-94e4-4493-f887-015303c9b506"
      },
      "source": [
        "%load_ext sql\n",
        "%sql sqlite:///StudentFinancial.db"
      ],
      "execution_count": 1,
      "outputs": [
        {
          "output_type": "execute_result",
          "data": {
            "text/plain": [
              "'Connected: @StudentFinancial.db'"
            ]
          },
          "metadata": {
            "tags": []
          },
          "execution_count": 1
        }
      ]
    },
    {
      "cell_type": "code",
      "metadata": {
        "id": "Oezbdzp3FW5U",
        "colab_type": "code",
        "colab": {
          "base_uri": "https://localhost:8080/",
          "height": 124
        },
        "outputId": "6b255a02-e4f0-49b1-b07f-6f3183dfd5ff"
      },
      "source": [
        "%%sql  \n",
        "DROP TABLE IF EXISTS student;\n",
        "create table student (PSUID text PRIMARY KEY, firstname text, lastname text, email text, department text);\n",
        "\n",
        "DROP TABLE IF EXISTS tuition;\n",
        "create table tuition (tuitionID text PRIMARY KEY, student text, semesterCost int, scholarship int, dueDate text);"
      ],
      "execution_count": 2,
      "outputs": [
        {
          "output_type": "stream",
          "text": [
            " * sqlite:///StudentFinancial.db\n",
            "Done.\n",
            "Done.\n",
            "Done.\n",
            "Done.\n"
          ],
          "name": "stdout"
        },
        {
          "output_type": "execute_result",
          "data": {
            "text/plain": [
              "[]"
            ]
          },
          "metadata": {
            "tags": []
          },
          "execution_count": 2
        }
      ]
    },
    {
      "cell_type": "code",
      "metadata": {
        "id": "BHGZFG3OKUKe",
        "colab_type": "code",
        "colab": {}
      },
      "source": [
        "first = [\"Charlotte\",\"Brad\",\"Kyle\",\"Alexander\",\"Susan\",\"Olivia\",\"Oscar\",\"Isabella\",\"Pranav\",\"Jenay\"]"
      ],
      "execution_count": 0,
      "outputs": []
    },
    {
      "cell_type": "code",
      "metadata": {
        "id": "rft47oktKswv",
        "colab_type": "code",
        "colab": {}
      },
      "source": [
        "last = [\"Mcintyre\",\"Mora\",\"Ortiz\",\"Morrison\",\"Yu\",\"Gilbert\",\"Tate\",\"Berger\",\"Keller\",\"Mann\"]"
      ],
      "execution_count": 0,
      "outputs": []
    },
    {
      "cell_type": "code",
      "metadata": {
        "id": "CEeTeEm-MUIC",
        "colab_type": "code",
        "colab": {}
      },
      "source": [
        "department = [\"College of IST\",\"Physics\",\"Math\",\"Art\"]"
      ],
      "execution_count": 0,
      "outputs": []
    },
    {
      "cell_type": "code",
      "metadata": {
        "id": "bXlxZJ2cLfpw",
        "colab_type": "code",
        "colab": {
          "base_uri": "https://localhost:8080/",
          "height": 372
        },
        "outputId": "286c81f5-c8a9-48c3-905c-473c217e7475"
      },
      "source": [
        "import random\n",
        "ids = []\n",
        "for i in range(len(first)):\n",
        "  id = random.randint(9000000, 10000000)\n",
        "  ids.append(id)\n",
        "  f = first[i]\n",
        "  l = last[i]\n",
        "  e = f[0] + l[0] + l[1] + str(random.randint(0, 20))\n",
        "  e = e.lower()\n",
        "  d = department[random.randint(0, len(department)-1)]\n",
        "  %sql insert into student values (:id,:f,:l,:e,:d)\n"
      ],
      "execution_count": 7,
      "outputs": [
        {
          "output_type": "stream",
          "text": [
            " * sqlite:///StudentFinancial.db\n",
            "1 rows affected.\n",
            " * sqlite:///StudentFinancial.db\n",
            "1 rows affected.\n",
            " * sqlite:///StudentFinancial.db\n",
            "1 rows affected.\n",
            " * sqlite:///StudentFinancial.db\n",
            "1 rows affected.\n",
            " * sqlite:///StudentFinancial.db\n",
            "1 rows affected.\n",
            " * sqlite:///StudentFinancial.db\n",
            "1 rows affected.\n",
            " * sqlite:///StudentFinancial.db\n",
            "1 rows affected.\n",
            " * sqlite:///StudentFinancial.db\n",
            "1 rows affected.\n",
            " * sqlite:///StudentFinancial.db\n",
            "1 rows affected.\n",
            " * sqlite:///StudentFinancial.db\n",
            "1 rows affected.\n"
          ],
          "name": "stdout"
        }
      ]
    },
    {
      "cell_type": "code",
      "metadata": {
        "id": "mMqRTo5qNSQJ",
        "colab_type": "code",
        "colab": {}
      },
      "source": [
        "DueDates = [\"2020-09-30\",\"2020-06-30\",\"2021-01-30\"]"
      ],
      "execution_count": 0,
      "outputs": []
    },
    {
      "cell_type": "code",
      "metadata": {
        "id": "hgKREyGmMnqX",
        "colab_type": "code",
        "colab": {
          "base_uri": "https://localhost:8080/",
          "height": 372
        },
        "outputId": "8624f8d9-7394-4c8e-cf9b-4304069b7b04"
      },
      "source": [
        "for id in ids:\n",
        "  tid = random.randint(100000, 200000)\n",
        "  c = 10000\n",
        "  s = random.randint(0, c)\n",
        "  d = DueDates[random.randint(0, len(DueDates)-1)]\n",
        "  t = \"\"\"%s,%s,%s,%s,%s\"\"\" % (tid,id,c,s,d)\n",
        "  %sql insert into tuition values (:tid,:id,:c,:s,:d)"
      ],
      "execution_count": 10,
      "outputs": [
        {
          "output_type": "stream",
          "text": [
            " * sqlite:///StudentFinancial.db\n",
            "1 rows affected.\n",
            " * sqlite:///StudentFinancial.db\n",
            "1 rows affected.\n",
            " * sqlite:///StudentFinancial.db\n",
            "1 rows affected.\n",
            " * sqlite:///StudentFinancial.db\n",
            "1 rows affected.\n",
            " * sqlite:///StudentFinancial.db\n",
            "1 rows affected.\n",
            " * sqlite:///StudentFinancial.db\n",
            "1 rows affected.\n",
            " * sqlite:///StudentFinancial.db\n",
            "1 rows affected.\n",
            " * sqlite:///StudentFinancial.db\n",
            "1 rows affected.\n",
            " * sqlite:///StudentFinancial.db\n",
            "1 rows affected.\n",
            " * sqlite:///StudentFinancial.db\n",
            "1 rows affected.\n"
          ],
          "name": "stdout"
        }
      ]
    },
    {
      "cell_type": "code",
      "metadata": {
        "id": "9s93RITuN1_9",
        "colab_type": "code",
        "outputId": "a76d23fd-8066-46f2-ca87-fc899e75917d",
        "colab": {
          "base_uri": "https://localhost:8080/",
          "height": 274
        }
      },
      "source": [
        "%%sql\n",
        "select * from student;"
      ],
      "execution_count": 11,
      "outputs": [
        {
          "output_type": "stream",
          "text": [
            " * sqlite:///StudentFinancial.db\n",
            "Done.\n"
          ],
          "name": "stdout"
        },
        {
          "output_type": "execute_result",
          "data": {
            "text/html": [
              "<table>\n",
              "    <tr>\n",
              "        <th>PSUID</th>\n",
              "        <th>firstname</th>\n",
              "        <th>lastname</th>\n",
              "        <th>email</th>\n",
              "        <th>department</th>\n",
              "    </tr>\n",
              "    <tr>\n",
              "        <td>9410479</td>\n",
              "        <td>Charlotte</td>\n",
              "        <td>Mcintyre</td>\n",
              "        <td>cmc13</td>\n",
              "        <td>Physics</td>\n",
              "    </tr>\n",
              "    <tr>\n",
              "        <td>9420351</td>\n",
              "        <td>Brad</td>\n",
              "        <td>Mora</td>\n",
              "        <td>bmo20</td>\n",
              "        <td>Art</td>\n",
              "    </tr>\n",
              "    <tr>\n",
              "        <td>9244087</td>\n",
              "        <td>Kyle</td>\n",
              "        <td>Ortiz</td>\n",
              "        <td>kor3</td>\n",
              "        <td>Art</td>\n",
              "    </tr>\n",
              "    <tr>\n",
              "        <td>9793968</td>\n",
              "        <td>Alexander</td>\n",
              "        <td>Morrison</td>\n",
              "        <td>amo19</td>\n",
              "        <td>Art</td>\n",
              "    </tr>\n",
              "    <tr>\n",
              "        <td>9749341</td>\n",
              "        <td>Susan</td>\n",
              "        <td>Yu</td>\n",
              "        <td>syu4</td>\n",
              "        <td>College of IST</td>\n",
              "    </tr>\n",
              "    <tr>\n",
              "        <td>9316499</td>\n",
              "        <td>Olivia</td>\n",
              "        <td>Gilbert</td>\n",
              "        <td>ogi19</td>\n",
              "        <td>Math</td>\n",
              "    </tr>\n",
              "    <tr>\n",
              "        <td>9211309</td>\n",
              "        <td>Oscar</td>\n",
              "        <td>Tate</td>\n",
              "        <td>ota16</td>\n",
              "        <td>College of IST</td>\n",
              "    </tr>\n",
              "    <tr>\n",
              "        <td>9030081</td>\n",
              "        <td>Isabella</td>\n",
              "        <td>Berger</td>\n",
              "        <td>ibe13</td>\n",
              "        <td>Math</td>\n",
              "    </tr>\n",
              "    <tr>\n",
              "        <td>9120732</td>\n",
              "        <td>Pranav</td>\n",
              "        <td>Keller</td>\n",
              "        <td>pke4</td>\n",
              "        <td>Physics</td>\n",
              "    </tr>\n",
              "    <tr>\n",
              "        <td>9134982</td>\n",
              "        <td>Jenay</td>\n",
              "        <td>Mann</td>\n",
              "        <td>jma14</td>\n",
              "        <td>College of IST</td>\n",
              "    </tr>\n",
              "</table>"
            ],
            "text/plain": [
              "[('9410479', 'Charlotte', 'Mcintyre', 'cmc13', 'Physics'),\n",
              " ('9420351', 'Brad', 'Mora', 'bmo20', 'Art'),\n",
              " ('9244087', 'Kyle', 'Ortiz', 'kor3', 'Art'),\n",
              " ('9793968', 'Alexander', 'Morrison', 'amo19', 'Art'),\n",
              " ('9749341', 'Susan', 'Yu', 'syu4', 'College of IST'),\n",
              " ('9316499', 'Olivia', 'Gilbert', 'ogi19', 'Math'),\n",
              " ('9211309', 'Oscar', 'Tate', 'ota16', 'College of IST'),\n",
              " ('9030081', 'Isabella', 'Berger', 'ibe13', 'Math'),\n",
              " ('9120732', 'Pranav', 'Keller', 'pke4', 'Physics'),\n",
              " ('9134982', 'Jenay', 'Mann', 'jma14', 'College of IST')]"
            ]
          },
          "metadata": {
            "tags": []
          },
          "execution_count": 11
        }
      ]
    },
    {
      "cell_type": "code",
      "metadata": {
        "id": "8hNNJfJ0PObb",
        "colab_type": "code",
        "outputId": "33546239-cf85-4b50-e7dc-ca1586aba4ea",
        "colab": {
          "base_uri": "https://localhost:8080/",
          "height": 274
        }
      },
      "source": [
        "%%sql\n",
        "select * from tuition;"
      ],
      "execution_count": 12,
      "outputs": [
        {
          "output_type": "stream",
          "text": [
            " * sqlite:///StudentFinancial.db\n",
            "Done.\n"
          ],
          "name": "stdout"
        },
        {
          "output_type": "execute_result",
          "data": {
            "text/html": [
              "<table>\n",
              "    <tr>\n",
              "        <th>tuitionID</th>\n",
              "        <th>student</th>\n",
              "        <th>semesterCost</th>\n",
              "        <th>scholarship</th>\n",
              "        <th>dueDate</th>\n",
              "    </tr>\n",
              "    <tr>\n",
              "        <td>118598</td>\n",
              "        <td>9410479</td>\n",
              "        <td>10000</td>\n",
              "        <td>7212</td>\n",
              "        <td>2020-06-30</td>\n",
              "    </tr>\n",
              "    <tr>\n",
              "        <td>103184</td>\n",
              "        <td>9420351</td>\n",
              "        <td>10000</td>\n",
              "        <td>9822</td>\n",
              "        <td>2020-09-30</td>\n",
              "    </tr>\n",
              "    <tr>\n",
              "        <td>145304</td>\n",
              "        <td>9244087</td>\n",
              "        <td>10000</td>\n",
              "        <td>7502</td>\n",
              "        <td>2021-01-30</td>\n",
              "    </tr>\n",
              "    <tr>\n",
              "        <td>112972</td>\n",
              "        <td>9793968</td>\n",
              "        <td>10000</td>\n",
              "        <td>1803</td>\n",
              "        <td>2021-01-30</td>\n",
              "    </tr>\n",
              "    <tr>\n",
              "        <td>125873</td>\n",
              "        <td>9749341</td>\n",
              "        <td>10000</td>\n",
              "        <td>3024</td>\n",
              "        <td>2021-01-30</td>\n",
              "    </tr>\n",
              "    <tr>\n",
              "        <td>112807</td>\n",
              "        <td>9316499</td>\n",
              "        <td>10000</td>\n",
              "        <td>738</td>\n",
              "        <td>2020-09-30</td>\n",
              "    </tr>\n",
              "    <tr>\n",
              "        <td>160684</td>\n",
              "        <td>9211309</td>\n",
              "        <td>10000</td>\n",
              "        <td>9862</td>\n",
              "        <td>2020-09-30</td>\n",
              "    </tr>\n",
              "    <tr>\n",
              "        <td>126735</td>\n",
              "        <td>9030081</td>\n",
              "        <td>10000</td>\n",
              "        <td>8876</td>\n",
              "        <td>2020-06-30</td>\n",
              "    </tr>\n",
              "    <tr>\n",
              "        <td>192180</td>\n",
              "        <td>9120732</td>\n",
              "        <td>10000</td>\n",
              "        <td>9138</td>\n",
              "        <td>2021-01-30</td>\n",
              "    </tr>\n",
              "    <tr>\n",
              "        <td>151975</td>\n",
              "        <td>9134982</td>\n",
              "        <td>10000</td>\n",
              "        <td>7056</td>\n",
              "        <td>2020-09-30</td>\n",
              "    </tr>\n",
              "</table>"
            ],
            "text/plain": [
              "[('118598', '9410479', 10000, 7212, '2020-06-30'),\n",
              " ('103184', '9420351', 10000, 9822, '2020-09-30'),\n",
              " ('145304', '9244087', 10000, 7502, '2021-01-30'),\n",
              " ('112972', '9793968', 10000, 1803, '2021-01-30'),\n",
              " ('125873', '9749341', 10000, 3024, '2021-01-30'),\n",
              " ('112807', '9316499', 10000, 738, '2020-09-30'),\n",
              " ('160684', '9211309', 10000, 9862, '2020-09-30'),\n",
              " ('126735', '9030081', 10000, 8876, '2020-06-30'),\n",
              " ('192180', '9120732', 10000, 9138, '2021-01-30'),\n",
              " ('151975', '9134982', 10000, 7056, '2020-09-30')]"
            ]
          },
          "metadata": {
            "tags": []
          },
          "execution_count": 12
        }
      ]
    },
    {
      "cell_type": "code",
      "metadata": {
        "id": "sM9Nsn-IXccI",
        "colab_type": "code",
        "colab": {}
      },
      "source": [
        "|"
      ],
      "execution_count": 0,
      "outputs": []
    }
  ]
}