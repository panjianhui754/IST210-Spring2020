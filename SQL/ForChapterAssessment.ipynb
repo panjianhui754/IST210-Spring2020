{
  "nbformat": 4,
  "nbformat_minor": 0,
  "metadata": {
    "colab": {
      "name": "ForChapterAssessment.ipynb",
      "provenance": [],
      "collapsed_sections": [],
      "include_colab_link": true
    },
    "kernelspec": {
      "name": "python3",
      "display_name": "Python 3"
    }
  },
  "cells": [
    {
      "cell_type": "markdown",
      "metadata": {
        "id": "view-in-github",
        "colab_type": "text"
      },
      "source": [
        "<a href=\"https://colab.research.google.com/github/dudaspm/IST210-Spring2020/blob/master/SQL/ForChapterAssessment.ipynb\" target=\"_parent\"><img src=\"https://colab.research.google.com/assets/colab-badge.svg\" alt=\"Open In Colab\"/></a>"
      ]
    },
    {
      "cell_type": "code",
      "metadata": {
        "id": "ynQguM9nOQKJ",
        "colab_type": "code",
        "colab": {}
      },
      "source": [
        "import sqlite3 # Once imported in a single notebook, it is available to us throughout the rest of the notebook. \n",
        "# connect to database, if not there, create it.\n",
        "connectionToDatabase = sqlite3.connect('StudentFinancial') \n",
        "cursor = connectionToDatabase.cursor()\n",
        "cursor.execute('''drop table IF EXISTS student''')\n",
        "connectionToDatabase.commit()\n",
        "\n",
        "cursor.execute('''create table student (PSUID text PRIMARY KEY, firstname text, lastname text, email text, department text)''')\n",
        "connectionToDatabase.commit()\n",
        "\n",
        "cursor.execute('''drop table IF EXISTS tuition''')\n",
        "connectionToDatabase.commit()\n",
        "\n",
        "cursor.execute('''create table tuition (tuitionID text PRIMARY KEY, student text, semesterCost int, scholarship int, dueDate text)''')\n",
        "connectionToDatabase.commit()"
      ],
      "execution_count": 0,
      "outputs": []
    },
    {
      "cell_type": "code",
      "metadata": {
        "id": "BHGZFG3OKUKe",
        "colab_type": "code",
        "colab": {}
      },
      "source": [
        "first = [\"Charlotte\",\"Brad\",\"Kyle\",\"Alexander\",\"Susan\",\"Olivia\",\"Oscar\",\"Isabella\",\"Pranav\",\"Jenay\"]"
      ],
      "execution_count": 0,
      "outputs": []
    },
    {
      "cell_type": "code",
      "metadata": {
        "id": "rft47oktKswv",
        "colab_type": "code",
        "colab": {}
      },
      "source": [
        "last = [\"Mcintyre\",\"Mora\",\"Ortiz\",\"Morrison\",\"Yu\",\"Gilbert\",\"Tate\",\"Berger\",\"Keller\",\"Mann\"]"
      ],
      "execution_count": 0,
      "outputs": []
    },
    {
      "cell_type": "code",
      "metadata": {
        "id": "CEeTeEm-MUIC",
        "colab_type": "code",
        "colab": {}
      },
      "source": [
        "department = [\"College of IST\",\"Physics\",\"Math\",\"Art\"]"
      ],
      "execution_count": 0,
      "outputs": []
    },
    {
      "cell_type": "code",
      "metadata": {
        "id": "bXlxZJ2cLfpw",
        "colab_type": "code",
        "colab": {}
      },
      "source": [
        "import random\n",
        "ids = []\n",
        "for i in range(len(first)):\n",
        "  id = random.randint(9000000, 10000000)\n",
        "  ids.append(id)\n",
        "  f = first[i]\n",
        "  l = last[i]\n",
        "  e = f[0] + l[0] + l[1] + str(random.randint(0, 20))\n",
        "  e = e.lower()\n",
        "  d = department[random.randint(0, len(department)-1)]\n",
        "  insertStatement =  \"\"\"insert into student values (\"%s\",\"%s\",\"%s\",\"%s\",\"%s\")\"\"\" % (id,f,l,e,d)\n",
        "  cursor.execute(insertStatement)\n",
        "  connectionToDatabase.commit() # remember to commit!"
      ],
      "execution_count": 0,
      "outputs": []
    },
    {
      "cell_type": "code",
      "metadata": {
        "id": "mMqRTo5qNSQJ",
        "colab_type": "code",
        "colab": {}
      },
      "source": [
        "DueDates = [\"2020-09-30\",\"2020-06-30\",\"2021-01-30\"]"
      ],
      "execution_count": 0,
      "outputs": []
    },
    {
      "cell_type": "code",
      "metadata": {
        "id": "hgKREyGmMnqX",
        "colab_type": "code",
        "colab": {}
      },
      "source": [
        "for id in ids:\n",
        "  tid = random.randint(100000, 200000)\n",
        "  c = 10000\n",
        "  s = random.randint(0, c)\n",
        "  d = DueDates[random.randint(0, len(DueDates)-1)]\n",
        "  t = \"\"\"%s,%s,%s,%s,%s\"\"\" % (tid,id,c,s,d)\n",
        "  insertStatement =  \"\"\"insert into tuition values (\"%s\",\"%s\",%s,%s,\"%s\")\"\"\" % (tid,id,c,s,d)\n",
        "  cursor.execute(insertStatement)\n",
        "  connectionToDatabase.commit() # remember to commit!"
      ],
      "execution_count": 0,
      "outputs": []
    },
    {
      "cell_type": "code",
      "metadata": {
        "id": "9s93RITuN1_9",
        "colab_type": "code",
        "outputId": "e084324d-ab98-4abe-a0f7-00b1db0f337d",
        "colab": {
          "base_uri": "https://localhost:8080/",
          "height": 187
        }
      },
      "source": [
        "cursor.execute('''select * from student limit 10''')\n",
        "for row in cursor.fetchall():\n",
        "  print (row)"
      ],
      "execution_count": 0,
      "outputs": [
        {
          "output_type": "stream",
          "text": [
            "('9370903', 'Charlotte', 'Mcintyre', 'cmc17', 'Math')\n",
            "('9037484', 'Brad', 'Mora', 'bmo18', 'Math')\n",
            "('9419520', 'Kyle', 'Ortiz', 'kor20', 'Art')\n",
            "('9862231', 'Alexander', 'Morrison', 'amo6', 'Physics')\n",
            "('9057516', 'Susan', 'Yu', 'syu6', 'Art')\n",
            "('9090568', 'Olivia', 'Gilbert', 'ogi11', 'Physics')\n",
            "('9474636', 'Oscar', 'Tate', 'ota12', 'Physics')\n",
            "('9831385', 'Isabella', 'Berger', 'ibe8', 'Physics')\n",
            "('9896585', 'Pranav', 'Keller', 'pke19', 'Math')\n",
            "('9029756', 'Jenay', 'Mann', 'jma11', 'Math')\n"
          ],
          "name": "stdout"
        }
      ]
    },
    {
      "cell_type": "code",
      "metadata": {
        "id": "8hNNJfJ0PObb",
        "colab_type": "code",
        "outputId": "c659fc37-9bb6-45ec-d1e2-c8415fa8acc1",
        "colab": {
          "base_uri": "https://localhost:8080/",
          "height": 187
        }
      },
      "source": [
        "cursor.execute('''select * from tuition limit 10''')\n",
        "for row in cursor.fetchall():\n",
        "  print (row)"
      ],
      "execution_count": 0,
      "outputs": [
        {
          "output_type": "stream",
          "text": [
            "('121934', '9370903', 10000, 7591, '2020-06-30')\n",
            "('118832', '9037484', 10000, 3827, '2020-06-30')\n",
            "('149700', '9419520', 10000, 4088, '2021-01-30')\n",
            "('129782', '9862231', 10000, 1912, '2021-01-30')\n",
            "('152525', '9057516', 10000, 8560, '2020-06-30')\n",
            "('165408', '9090568', 10000, 1334, '2021-01-30')\n",
            "('186093', '9474636', 10000, 5237, '2020-06-30')\n",
            "('177189', '9831385', 10000, 6192, '2020-06-30')\n",
            "('129430', '9896585', 10000, 8044, '2020-06-30')\n",
            "('101234', '9029756', 10000, 6177, '2021-01-30')\n"
          ],
          "name": "stdout"
        }
      ]
    },
    {
      "cell_type": "code",
      "metadata": {
        "id": "sM9Nsn-IXccI",
        "colab_type": "code",
        "colab": {}
      },
      "source": [
        "|"
      ],
      "execution_count": 0,
      "outputs": []
    }
  ]
}