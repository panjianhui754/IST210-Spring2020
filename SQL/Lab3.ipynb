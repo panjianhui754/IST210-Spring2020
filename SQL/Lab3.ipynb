{
  "nbformat": 4,
  "nbformat_minor": 0,
  "metadata": {
    "colab": {
      "name": "Lab3.ipynb",
      "provenance": [],
      "collapsed_sections": [],
      "authorship_tag": "ABX9TyPOXHi9ssh1qL1/H78kTnA8",
      "include_colab_link": true
    },
    "kernelspec": {
      "name": "python3",
      "display_name": "Python 3"
    }
  },
  "cells": [
    {
      "cell_type": "markdown",
      "metadata": {
        "id": "view-in-github",
        "colab_type": "text"
      },
      "source": [
        "<a href=\"https://colab.research.google.com/github/dudaspm/IST210-Spring2020/blob/master/SQL/Lab3.ipynb\" target=\"_parent\"><img src=\"https://colab.research.google.com/assets/colab-badge.svg\" alt=\"Open In Colab\"/></a>"
      ]
    },
    {
      "cell_type": "markdown",
      "metadata": {
        "id": "xM21VHMvYtTt",
        "colab_type": "text"
      },
      "source": [
        "## Lab 3 - SQL on a single table"
      ]
    },
    {
      "cell_type": "markdown",
      "metadata": {
        "id": "9RISwA5ZYYBt",
        "colab_type": "text"
      },
      "source": [
        "***Important***\n",
        "\n",
        "\n",
        "1.   Go to File > Save a Copy to Drive (this will save to your local Google Drive)\n",
        "2.   Make sure you work through this notebook from top to bottom and run each Code cell\n"
      ]
    },
    {
      "cell_type": "markdown",
      "metadata": {
        "id": "lbq9tXcGYyR_",
        "colab_type": "text"
      },
      "source": [
        "I will take care of getting the data, starting SQL on the notebook, and creating the database. "
      ]
    },
    {
      "cell_type": "code",
      "metadata": {
        "id": "RWDBStDzYsRZ",
        "colab_type": "code",
        "colab": {}
      },
      "source": [
        "#Used to make requests\n",
        "import urllib\n",
        "\n",
        "f = urllib.request.urlopen(\"https://gist.githubusercontent.com/dudaspm/2cc247b1b43f1ebf620c1004dd2a0f76/raw/ecdb8dd0f2f851994f10d6612d398702a2d73d4c/StateCollege2010-2020.csv\")\n",
        "StateCollegeWeatherData = str(f.read().decode('utf-8'))"
      ],
      "execution_count": 0,
      "outputs": []
    },
    {
      "cell_type": "code",
      "metadata": {
        "id": "uqKGzff9ZDz6",
        "colab_type": "code",
        "colab": {
          "base_uri": "https://localhost:8080/",
          "height": 35
        },
        "outputId": "560c65d2-35ea-440a-d8ff-75d7361878f9"
      },
      "source": [
        "%load_ext sql\n",
        "%sql sqlite:///SQLon1Table.db"
      ],
      "execution_count": 2,
      "outputs": [
        {
          "output_type": "execute_result",
          "data": {
            "text/plain": [
              "'Connected: @SQLon1Table.db'"
            ]
          },
          "metadata": {
            "tags": []
          },
          "execution_count": 2
        }
      ]
    },
    {
      "cell_type": "markdown",
      "metadata": {
        "id": "-fL_cHYmZN6P",
        "colab_type": "text"
      },
      "source": [
        "***Your Turn***\n",
        "\n",
        "Here is your ER Diagram\n",
        "\n",
        "![weather ER Diagram](https://raw.githubusercontent.com/dudaspm/IST210-Spring2020/master/SQL/images/weather.png)\n",
        "\n",
        "I've added a statement to drop (delete) the table. You need to create the table."
      ]
    },
    {
      "cell_type": "code",
      "metadata": {
        "id": "PTMxW7mfZLCP",
        "colab_type": "code",
        "colab": {
          "base_uri": "https://localhost:8080/",
          "height": 88
        },
        "outputId": "7a5ccd32-d5eb-435f-af70-a05b8950b744"
      },
      "source": [
        "%%sql\n",
        "DROP TABLE IF EXISTS Weather;\n",
        "-- ## DELETE ME and add CREATE the table"
      ],
      "execution_count": 5,
      "outputs": [
        {
          "output_type": "stream",
          "text": [
            " * sqlite:///SQLon1Table.db\n",
            "Done.\n",
            "Done.\n"
          ],
          "name": "stdout"
        },
        {
          "output_type": "execute_result",
          "data": {
            "text/plain": [
              "[]"
            ]
          },
          "metadata": {
            "tags": []
          },
          "execution_count": 5
        }
      ]
    },
    {
      "cell_type": "markdown",
      "metadata": {
        "id": "ZVQXpURaZ8Rq",
        "colab_type": "text"
      },
      "source": [
        "Use this statement to check to make sure your database and table are working properly. Insert the following data manually with an insert statement. \n",
        "\n",
        "date | precipation | snow | temp_max | temp_min\n",
        "--- | --- | --- | --- | ---\n",
        "2020-01-01 | .1 | .3 | 40 | 28 \n",
        "\n",
        "Correct any issues first, then move to the next step. "
      ]
    },
    {
      "cell_type": "code",
      "metadata": {
        "id": "VUHTDynolQx0",
        "colab_type": "code",
        "colab": {}
      },
      "source": [
        "%%sql\n",
        "DROP TABLE IF EXISTS Weather;\n",
        "-- ## DELETE ME and add INSERT statement"
      ],
      "execution_count": 0,
      "outputs": []
    },
    {
      "cell_type": "markdown",
      "metadata": {
        "id": "TSwoRI0NblWM",
        "colab_type": "text"
      },
      "source": [
        "I will now insert the rest of the data (make sure your table works first by doing the step above!)"
      ]
    },
    {
      "cell_type": "code",
      "metadata": {
        "id": "L73q2pTbZ6fT",
        "colab_type": "code",
        "colab": {}
      },
      "source": [
        "%%capture\n",
        "for line in StateCollegeWeatherData.split(\"\\n\")[1:]:\n",
        "  d = line.split(\",\")\n",
        "  date = d[0]\n",
        "  precipitation = d[1]\n",
        "  snow = d[2]\n",
        "  temp_max = d[3]\n",
        "  temp_min = d[4]\n",
        "  %sql insert into Weather values (:date,:precipitation,:snow,:temp_max,:temp_min)"
      ],
      "execution_count": 0,
      "outputs": []
    },
    {
      "cell_type": "markdown",
      "metadata": {
        "id": "0zwjx2QFb6zL",
        "colab_type": "text"
      },
      "source": [
        "Use this select statement to make sure everything working properly. \n"
      ]
    },
    {
      "cell_type": "code",
      "metadata": {
        "id": "Oi4td8lwcAFm",
        "colab_type": "code",
        "colab": {
          "base_uri": "https://localhost:8080/",
          "height": 274
        },
        "outputId": "a985852f-ff6f-4cbc-9901-2bbe95653717"
      },
      "source": [
        "%%sql\n",
        "select * from weather limit 10;"
      ],
      "execution_count": 7,
      "outputs": [
        {
          "output_type": "stream",
          "text": [
            " * sqlite:///SQLon1Table.db\n",
            "Done.\n"
          ],
          "name": "stdout"
        },
        {
          "output_type": "execute_result",
          "data": {
            "text/html": [
              "<table>\n",
              "    <tr>\n",
              "        <th>date</th>\n",
              "        <th>precipitation</th>\n",
              "        <th>snow</th>\n",
              "        <th>temp_max</th>\n",
              "        <th>temp_min</th>\n",
              "    </tr>\n",
              "    <tr>\n",
              "        <td>2010-01-01</td>\n",
              "        <td>0.07</td>\n",
              "        <td>0.9</td>\n",
              "        <td>32</td>\n",
              "        <td>25</td>\n",
              "    </tr>\n",
              "    <tr>\n",
              "        <td>2010-01-02</td>\n",
              "        <td>0.0</td>\n",
              "        <td>0.0</td>\n",
              "        <td>37</td>\n",
              "        <td>18</td>\n",
              "    </tr>\n",
              "    <tr>\n",
              "        <td>2010-01-03</td>\n",
              "        <td>0.0</td>\n",
              "        <td>0.0</td>\n",
              "        <td>20</td>\n",
              "        <td>12</td>\n",
              "    </tr>\n",
              "    <tr>\n",
              "        <td>2010-01-04</td>\n",
              "        <td>0.0</td>\n",
              "        <td>0.0</td>\n",
              "        <td>21</td>\n",
              "        <td>13</td>\n",
              "    </tr>\n",
              "    <tr>\n",
              "        <td>2010-01-05</td>\n",
              "        <td>0.0</td>\n",
              "        <td>0.0</td>\n",
              "        <td>25</td>\n",
              "        <td>18</td>\n",
              "    </tr>\n",
              "    <tr>\n",
              "        <td>2010-01-06</td>\n",
              "        <td>0.05</td>\n",
              "        <td>0.7</td>\n",
              "        <td>27</td>\n",
              "        <td>18</td>\n",
              "    </tr>\n",
              "    <tr>\n",
              "        <td>2010-01-07</td>\n",
              "        <td>0.0</td>\n",
              "        <td>0.0</td>\n",
              "        <td>30</td>\n",
              "        <td>25</td>\n",
              "    </tr>\n",
              "    <tr>\n",
              "        <td>2010-01-08</td>\n",
              "        <td>0.06</td>\n",
              "        <td>1.2</td>\n",
              "        <td>29</td>\n",
              "        <td>21</td>\n",
              "    </tr>\n",
              "    <tr>\n",
              "        <td>2010-01-09</td>\n",
              "        <td>0.02</td>\n",
              "        <td>0.4</td>\n",
              "        <td>24</td>\n",
              "        <td>16</td>\n",
              "    </tr>\n",
              "    <tr>\n",
              "        <td>2010-01-10</td>\n",
              "        <td>0.0</td>\n",
              "        <td>0.0</td>\n",
              "        <td>27</td>\n",
              "        <td>8</td>\n",
              "    </tr>\n",
              "</table>"
            ],
            "text/plain": [
              "[('2010-01-01', 0.07, 0.9, 32, 25),\n",
              " ('2010-01-02', 0.0, 0.0, 37, 18),\n",
              " ('2010-01-03', 0.0, 0.0, 20, 12),\n",
              " ('2010-01-04', 0.0, 0.0, 21, 13),\n",
              " ('2010-01-05', 0.0, 0.0, 25, 18),\n",
              " ('2010-01-06', 0.05, 0.7, 27, 18),\n",
              " ('2010-01-07', 0.0, 0.0, 30, 25),\n",
              " ('2010-01-08', 0.06, 1.2, 29, 21),\n",
              " ('2010-01-09', 0.02, 0.4, 24, 16),\n",
              " ('2010-01-10', 0.0, 0.0, 27, 8)]"
            ]
          },
          "metadata": {
            "tags": []
          },
          "execution_count": 7
        }
      ]
    },
    {
      "cell_type": "markdown",
      "metadata": {
        "id": "Adig-hDKcC5I",
        "colab_type": "text"
      },
      "source": [
        "### Lab questions. "
      ]
    },
    {
      "cell_type": "markdown",
      "metadata": {
        "id": "WsE0ld4UcGRF",
        "colab_type": "text"
      },
      "source": [
        "Here are the question you will answer for the lab and you will need to:\n",
        "\n",
        "\n",
        "1.   Copy the question\n",
        "2.   Copy your SQL query\n",
        "3.   Copy the output from the query\n",
        "\n"
      ]
    },
    {
      "cell_type": "markdown",
      "metadata": {
        "id": "RT9Suj5hiwfA",
        "colab_type": "text"
      },
      "source": [
        "#### Q1"
      ]
    },
    {
      "cell_type": "markdown",
      "metadata": {
        "id": "n4AjLny7cUxH",
        "colab_type": "text"
      },
      "source": [
        "Which days was the max temperature greater than or equal to 55, but we still had snow?"
      ]
    },
    {
      "cell_type": "code",
      "metadata": {
        "id": "Wt3EndpjcFW9",
        "colab_type": "code",
        "colab": {
          "base_uri": "https://localhost:8080/",
          "height": 174
        },
        "outputId": "dc69abab-ff09-430e-d867-0068e9f72b9a"
      },
      "source": [
        "%%sql\n",
        "select * from weather limit 5;"
      ],
      "execution_count": 41,
      "outputs": [
        {
          "output_type": "stream",
          "text": [
            " * sqlite:///SQLon1Table.db\n",
            "Done.\n"
          ],
          "name": "stdout"
        },
        {
          "output_type": "execute_result",
          "data": {
            "text/html": [
              "<table>\n",
              "    <tr>\n",
              "        <th>date</th>\n",
              "        <th>precipitation</th>\n",
              "        <th>snow</th>\n",
              "        <th>temp_max</th>\n",
              "        <th>temp_min</th>\n",
              "    </tr>\n",
              "    <tr>\n",
              "        <td>2010-01-01</td>\n",
              "        <td>0.07</td>\n",
              "        <td>0.9</td>\n",
              "        <td>32</td>\n",
              "        <td>25</td>\n",
              "    </tr>\n",
              "    <tr>\n",
              "        <td>2010-01-02</td>\n",
              "        <td>0.0</td>\n",
              "        <td>0.0</td>\n",
              "        <td>37</td>\n",
              "        <td>18</td>\n",
              "    </tr>\n",
              "    <tr>\n",
              "        <td>2010-01-03</td>\n",
              "        <td>0.0</td>\n",
              "        <td>0.0</td>\n",
              "        <td>20</td>\n",
              "        <td>12</td>\n",
              "    </tr>\n",
              "    <tr>\n",
              "        <td>2010-01-04</td>\n",
              "        <td>0.0</td>\n",
              "        <td>0.0</td>\n",
              "        <td>21</td>\n",
              "        <td>13</td>\n",
              "    </tr>\n",
              "    <tr>\n",
              "        <td>2010-01-05</td>\n",
              "        <td>0.0</td>\n",
              "        <td>0.0</td>\n",
              "        <td>25</td>\n",
              "        <td>18</td>\n",
              "    </tr>\n",
              "</table>"
            ],
            "text/plain": [
              "[('2010-01-01', 0.07, 0.9, 32, 25),\n",
              " ('2010-01-02', 0.0, 0.0, 37, 18),\n",
              " ('2010-01-03', 0.0, 0.0, 20, 12),\n",
              " ('2010-01-04', 0.0, 0.0, 21, 13),\n",
              " ('2010-01-05', 0.0, 0.0, 25, 18)]"
            ]
          },
          "metadata": {
            "tags": []
          },
          "execution_count": 41
        }
      ]
    },
    {
      "cell_type": "markdown",
      "metadata": {
        "id": "qWJwFPe0izis",
        "colab_type": "text"
      },
      "source": [
        "#### Q2"
      ]
    },
    {
      "cell_type": "markdown",
      "metadata": {
        "id": "JGkRWU7Kdd0f",
        "colab_type": "text"
      },
      "source": [
        "What day did we have the most precipation?"
      ]
    },
    {
      "cell_type": "code",
      "metadata": {
        "id": "xDKfcxLkckBc",
        "colab_type": "code",
        "colab": {
          "base_uri": "https://localhost:8080/",
          "height": 174
        },
        "outputId": "f01ec0c8-2bf9-4941-ab66-f9d9d4158af5"
      },
      "source": [
        "%%sql\n",
        "select * from weather limit 5;"
      ],
      "execution_count": 42,
      "outputs": [
        {
          "output_type": "stream",
          "text": [
            " * sqlite:///SQLon1Table.db\n",
            "Done.\n"
          ],
          "name": "stdout"
        },
        {
          "output_type": "execute_result",
          "data": {
            "text/html": [
              "<table>\n",
              "    <tr>\n",
              "        <th>date</th>\n",
              "        <th>precipitation</th>\n",
              "        <th>snow</th>\n",
              "        <th>temp_max</th>\n",
              "        <th>temp_min</th>\n",
              "    </tr>\n",
              "    <tr>\n",
              "        <td>2010-01-01</td>\n",
              "        <td>0.07</td>\n",
              "        <td>0.9</td>\n",
              "        <td>32</td>\n",
              "        <td>25</td>\n",
              "    </tr>\n",
              "    <tr>\n",
              "        <td>2010-01-02</td>\n",
              "        <td>0.0</td>\n",
              "        <td>0.0</td>\n",
              "        <td>37</td>\n",
              "        <td>18</td>\n",
              "    </tr>\n",
              "    <tr>\n",
              "        <td>2010-01-03</td>\n",
              "        <td>0.0</td>\n",
              "        <td>0.0</td>\n",
              "        <td>20</td>\n",
              "        <td>12</td>\n",
              "    </tr>\n",
              "    <tr>\n",
              "        <td>2010-01-04</td>\n",
              "        <td>0.0</td>\n",
              "        <td>0.0</td>\n",
              "        <td>21</td>\n",
              "        <td>13</td>\n",
              "    </tr>\n",
              "    <tr>\n",
              "        <td>2010-01-05</td>\n",
              "        <td>0.0</td>\n",
              "        <td>0.0</td>\n",
              "        <td>25</td>\n",
              "        <td>18</td>\n",
              "    </tr>\n",
              "</table>"
            ],
            "text/plain": [
              "[('2010-01-01', 0.07, 0.9, 32, 25),\n",
              " ('2010-01-02', 0.0, 0.0, 37, 18),\n",
              " ('2010-01-03', 0.0, 0.0, 20, 12),\n",
              " ('2010-01-04', 0.0, 0.0, 21, 13),\n",
              " ('2010-01-05', 0.0, 0.0, 25, 18)]"
            ]
          },
          "metadata": {
            "tags": []
          },
          "execution_count": 42
        }
      ]
    },
    {
      "cell_type": "markdown",
      "metadata": {
        "id": "MEAhnl4ii02t",
        "colab_type": "text"
      },
      "source": [
        "#### Q3"
      ]
    },
    {
      "cell_type": "markdown",
      "metadata": {
        "id": "cywF40aGeHtA",
        "colab_type": "text"
      },
      "source": [
        "What is the lowest minimal temperature in which we also had snow? "
      ]
    },
    {
      "cell_type": "code",
      "metadata": {
        "id": "KAd25lnHdqME",
        "colab_type": "code",
        "colab": {
          "base_uri": "https://localhost:8080/",
          "height": 174
        },
        "outputId": "4b0789c3-d94c-40dc-f77b-7095afa34a14"
      },
      "source": [
        "%%sql\n",
        "select * from weather limit 5;"
      ],
      "execution_count": 43,
      "outputs": [
        {
          "output_type": "stream",
          "text": [
            " * sqlite:///SQLon1Table.db\n",
            "Done.\n"
          ],
          "name": "stdout"
        },
        {
          "output_type": "execute_result",
          "data": {
            "text/html": [
              "<table>\n",
              "    <tr>\n",
              "        <th>date</th>\n",
              "        <th>precipitation</th>\n",
              "        <th>snow</th>\n",
              "        <th>temp_max</th>\n",
              "        <th>temp_min</th>\n",
              "    </tr>\n",
              "    <tr>\n",
              "        <td>2010-01-01</td>\n",
              "        <td>0.07</td>\n",
              "        <td>0.9</td>\n",
              "        <td>32</td>\n",
              "        <td>25</td>\n",
              "    </tr>\n",
              "    <tr>\n",
              "        <td>2010-01-02</td>\n",
              "        <td>0.0</td>\n",
              "        <td>0.0</td>\n",
              "        <td>37</td>\n",
              "        <td>18</td>\n",
              "    </tr>\n",
              "    <tr>\n",
              "        <td>2010-01-03</td>\n",
              "        <td>0.0</td>\n",
              "        <td>0.0</td>\n",
              "        <td>20</td>\n",
              "        <td>12</td>\n",
              "    </tr>\n",
              "    <tr>\n",
              "        <td>2010-01-04</td>\n",
              "        <td>0.0</td>\n",
              "        <td>0.0</td>\n",
              "        <td>21</td>\n",
              "        <td>13</td>\n",
              "    </tr>\n",
              "    <tr>\n",
              "        <td>2010-01-05</td>\n",
              "        <td>0.0</td>\n",
              "        <td>0.0</td>\n",
              "        <td>25</td>\n",
              "        <td>18</td>\n",
              "    </tr>\n",
              "</table>"
            ],
            "text/plain": [
              "[('2010-01-01', 0.07, 0.9, 32, 25),\n",
              " ('2010-01-02', 0.0, 0.0, 37, 18),\n",
              " ('2010-01-03', 0.0, 0.0, 20, 12),\n",
              " ('2010-01-04', 0.0, 0.0, 21, 13),\n",
              " ('2010-01-05', 0.0, 0.0, 25, 18)]"
            ]
          },
          "metadata": {
            "tags": []
          },
          "execution_count": 43
        }
      ]
    },
    {
      "cell_type": "markdown",
      "metadata": {
        "id": "ZOHUuKX_i19G",
        "colab_type": "text"
      },
      "source": [
        "#### Q4"
      ]
    },
    {
      "cell_type": "markdown",
      "metadata": {
        "id": "mnca5n7uenSQ",
        "colab_type": "text"
      },
      "source": [
        "Fun fact! I was born on the hottest day in history (for December in the state of Pennsylvania). It was 82 degrees. What was the weather like for each December 3rd for each year? Hint: Yes, there are more efficient ways of doing this; we just haven't learned them yet. "
      ]
    },
    {
      "cell_type": "code",
      "metadata": {
        "id": "DGJjkRVxeTZz",
        "colab_type": "code",
        "colab": {
          "base_uri": "https://localhost:8080/",
          "height": 174
        },
        "outputId": "5652b491-632a-40f2-de8a-a32201780cce"
      },
      "source": [
        "%%sql\n",
        "select * from weather limit 5;"
      ],
      "execution_count": 44,
      "outputs": [
        {
          "output_type": "stream",
          "text": [
            " * sqlite:///SQLon1Table.db\n",
            "Done.\n"
          ],
          "name": "stdout"
        },
        {
          "output_type": "execute_result",
          "data": {
            "text/html": [
              "<table>\n",
              "    <tr>\n",
              "        <th>date</th>\n",
              "        <th>precipitation</th>\n",
              "        <th>snow</th>\n",
              "        <th>temp_max</th>\n",
              "        <th>temp_min</th>\n",
              "    </tr>\n",
              "    <tr>\n",
              "        <td>2010-01-01</td>\n",
              "        <td>0.07</td>\n",
              "        <td>0.9</td>\n",
              "        <td>32</td>\n",
              "        <td>25</td>\n",
              "    </tr>\n",
              "    <tr>\n",
              "        <td>2010-01-02</td>\n",
              "        <td>0.0</td>\n",
              "        <td>0.0</td>\n",
              "        <td>37</td>\n",
              "        <td>18</td>\n",
              "    </tr>\n",
              "    <tr>\n",
              "        <td>2010-01-03</td>\n",
              "        <td>0.0</td>\n",
              "        <td>0.0</td>\n",
              "        <td>20</td>\n",
              "        <td>12</td>\n",
              "    </tr>\n",
              "    <tr>\n",
              "        <td>2010-01-04</td>\n",
              "        <td>0.0</td>\n",
              "        <td>0.0</td>\n",
              "        <td>21</td>\n",
              "        <td>13</td>\n",
              "    </tr>\n",
              "    <tr>\n",
              "        <td>2010-01-05</td>\n",
              "        <td>0.0</td>\n",
              "        <td>0.0</td>\n",
              "        <td>25</td>\n",
              "        <td>18</td>\n",
              "    </tr>\n",
              "</table>"
            ],
            "text/plain": [
              "[('2010-01-01', 0.07, 0.9, 32, 25),\n",
              " ('2010-01-02', 0.0, 0.0, 37, 18),\n",
              " ('2010-01-03', 0.0, 0.0, 20, 12),\n",
              " ('2010-01-04', 0.0, 0.0, 21, 13),\n",
              " ('2010-01-05', 0.0, 0.0, 25, 18)]"
            ]
          },
          "metadata": {
            "tags": []
          },
          "execution_count": 44
        }
      ]
    },
    {
      "cell_type": "markdown",
      "metadata": {
        "id": "ZKIoZkRAi4AX",
        "colab_type": "text"
      },
      "source": [
        "#### Q5"
      ]
    },
    {
      "cell_type": "markdown",
      "metadata": {
        "id": "5qWeqC1xhnXu",
        "colab_type": "text"
      },
      "source": [
        "Pennsylvania has had some weird temperatures. What day did we have the largest discrepancy from the minimal temperature and the max temperature (hint: you can subtract in SQL)? I want to know the date, the largest difference, the minimal temperature, and max temperature. "
      ]
    },
    {
      "cell_type": "code",
      "metadata": {
        "id": "omq-ZqmjeuaG",
        "colab_type": "code",
        "colab": {
          "base_uri": "https://localhost:8080/",
          "height": 174
        },
        "outputId": "9543d04c-f5a9-407d-cf83-8dc213de858e"
      },
      "source": [
        "%%sql\n",
        "select * from weather limit 5;"
      ],
      "execution_count": 45,
      "outputs": [
        {
          "output_type": "stream",
          "text": [
            " * sqlite:///SQLon1Table.db\n",
            "Done.\n"
          ],
          "name": "stdout"
        },
        {
          "output_type": "execute_result",
          "data": {
            "text/html": [
              "<table>\n",
              "    <tr>\n",
              "        <th>date</th>\n",
              "        <th>precipitation</th>\n",
              "        <th>snow</th>\n",
              "        <th>temp_max</th>\n",
              "        <th>temp_min</th>\n",
              "    </tr>\n",
              "    <tr>\n",
              "        <td>2010-01-01</td>\n",
              "        <td>0.07</td>\n",
              "        <td>0.9</td>\n",
              "        <td>32</td>\n",
              "        <td>25</td>\n",
              "    </tr>\n",
              "    <tr>\n",
              "        <td>2010-01-02</td>\n",
              "        <td>0.0</td>\n",
              "        <td>0.0</td>\n",
              "        <td>37</td>\n",
              "        <td>18</td>\n",
              "    </tr>\n",
              "    <tr>\n",
              "        <td>2010-01-03</td>\n",
              "        <td>0.0</td>\n",
              "        <td>0.0</td>\n",
              "        <td>20</td>\n",
              "        <td>12</td>\n",
              "    </tr>\n",
              "    <tr>\n",
              "        <td>2010-01-04</td>\n",
              "        <td>0.0</td>\n",
              "        <td>0.0</td>\n",
              "        <td>21</td>\n",
              "        <td>13</td>\n",
              "    </tr>\n",
              "    <tr>\n",
              "        <td>2010-01-05</td>\n",
              "        <td>0.0</td>\n",
              "        <td>0.0</td>\n",
              "        <td>25</td>\n",
              "        <td>18</td>\n",
              "    </tr>\n",
              "</table>"
            ],
            "text/plain": [
              "[('2010-01-01', 0.07, 0.9, 32, 25),\n",
              " ('2010-01-02', 0.0, 0.0, 37, 18),\n",
              " ('2010-01-03', 0.0, 0.0, 20, 12),\n",
              " ('2010-01-04', 0.0, 0.0, 21, 13),\n",
              " ('2010-01-05', 0.0, 0.0, 25, 18)]"
            ]
          },
          "metadata": {
            "tags": []
          },
          "execution_count": 45
        }
      ]
    },
    {
      "cell_type": "markdown",
      "metadata": {
        "id": "WpYunV5qi6GG",
        "colab_type": "text"
      },
      "source": [
        "#### Q6"
      ]
    },
    {
      "cell_type": "markdown",
      "metadata": {
        "id": "vVjSp-a6i6-x",
        "colab_type": "text"
      },
      "source": [
        "What are the number of days AND the average temperature for days that have snow?"
      ]
    },
    {
      "cell_type": "code",
      "metadata": {
        "id": "JzbM3CSmh-pF",
        "colab_type": "code",
        "colab": {
          "base_uri": "https://localhost:8080/",
          "height": 174
        },
        "outputId": "13611e2b-ecf5-4a38-d4e0-85368a465e30"
      },
      "source": [
        "%%sql\n",
        "select * from weather limit 5;"
      ],
      "execution_count": 46,
      "outputs": [
        {
          "output_type": "stream",
          "text": [
            " * sqlite:///SQLon1Table.db\n",
            "Done.\n"
          ],
          "name": "stdout"
        },
        {
          "output_type": "execute_result",
          "data": {
            "text/html": [
              "<table>\n",
              "    <tr>\n",
              "        <th>date</th>\n",
              "        <th>precipitation</th>\n",
              "        <th>snow</th>\n",
              "        <th>temp_max</th>\n",
              "        <th>temp_min</th>\n",
              "    </tr>\n",
              "    <tr>\n",
              "        <td>2010-01-01</td>\n",
              "        <td>0.07</td>\n",
              "        <td>0.9</td>\n",
              "        <td>32</td>\n",
              "        <td>25</td>\n",
              "    </tr>\n",
              "    <tr>\n",
              "        <td>2010-01-02</td>\n",
              "        <td>0.0</td>\n",
              "        <td>0.0</td>\n",
              "        <td>37</td>\n",
              "        <td>18</td>\n",
              "    </tr>\n",
              "    <tr>\n",
              "        <td>2010-01-03</td>\n",
              "        <td>0.0</td>\n",
              "        <td>0.0</td>\n",
              "        <td>20</td>\n",
              "        <td>12</td>\n",
              "    </tr>\n",
              "    <tr>\n",
              "        <td>2010-01-04</td>\n",
              "        <td>0.0</td>\n",
              "        <td>0.0</td>\n",
              "        <td>21</td>\n",
              "        <td>13</td>\n",
              "    </tr>\n",
              "    <tr>\n",
              "        <td>2010-01-05</td>\n",
              "        <td>0.0</td>\n",
              "        <td>0.0</td>\n",
              "        <td>25</td>\n",
              "        <td>18</td>\n",
              "    </tr>\n",
              "</table>"
            ],
            "text/plain": [
              "[('2010-01-01', 0.07, 0.9, 32, 25),\n",
              " ('2010-01-02', 0.0, 0.0, 37, 18),\n",
              " ('2010-01-03', 0.0, 0.0, 20, 12),\n",
              " ('2010-01-04', 0.0, 0.0, 21, 13),\n",
              " ('2010-01-05', 0.0, 0.0, 25, 18)]"
            ]
          },
          "metadata": {
            "tags": []
          },
          "execution_count": 46
        }
      ]
    },
    {
      "cell_type": "code",
      "metadata": {
        "id": "5mwL9z7bkFAj",
        "colab_type": "code",
        "colab": {}
      },
      "source": [
        ""
      ],
      "execution_count": 0,
      "outputs": []
    }
  ]
}