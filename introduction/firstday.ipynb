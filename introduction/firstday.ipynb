{
  "nbformat": 4,
  "nbformat_minor": 0,
  "metadata": {
    "colab": {
      "name": "firstday.ipynb",
      "provenance": [],
      "authorship_tag": "ABX9TyOTB0u6xQNUo5ChYi7SHqy/",
      "include_colab_link": true
    },
    "kernelspec": {
      "name": "python3",
      "display_name": "Python 3"
    }
  },
  "cells": [
    {
      "cell_type": "markdown",
      "metadata": {
        "id": "view-in-github",
        "colab_type": "text"
      },
      "source": [
        "<a href=\"https://colab.research.google.com/github/dudaspm/IST210-Spring2020/blob/master/introduction/firstday.ipynb\" target=\"_parent\"><img src=\"https://colab.research.google.com/assets/colab-badge.svg\" alt=\"Open In Colab\"/></a>"
      ]
    },
    {
      "cell_type": "code",
      "metadata": {
        "id": "4Sauvv4VzYK2",
        "colab_type": "code",
        "colab": {
          "base_uri": "https://localhost:8080/",
          "height": 35
        },
        "outputId": "89735b47-b00c-44fa-f4ba-8f89cc5d9712"
      },
      "source": [
        "2+2"
      ],
      "execution_count": 4,
      "outputs": [
        {
          "output_type": "execute_result",
          "data": {
            "text/plain": [
              "4"
            ]
          },
          "metadata": {
            "tags": []
          },
          "execution_count": 4
        }
      ]
    },
    {
      "cell_type": "markdown",
      "metadata": {
        "id": "BF_iM6TEz8A2",
        "colab_type": "text"
      },
      "source": [
        "This is my first notebook!\n"
      ]
    },
    {
      "cell_type": "code",
      "metadata": {
        "id": "4m4gATH4zuY2",
        "colab_type": "code",
        "colab": {
          "base_uri": "https://localhost:8080/",
          "height": 35
        },
        "outputId": "0d6c8c0f-5155-4c5c-87fc-5462fca23526"
      },
      "source": [
        "2+3"
      ],
      "execution_count": 5,
      "outputs": [
        {
          "output_type": "execute_result",
          "data": {
            "text/plain": [
              "5"
            ]
          },
          "metadata": {
            "tags": []
          },
          "execution_count": 5
        }
      ]
    },
    {
      "cell_type": "markdown",
      "metadata": {
        "id": "qicRO1Whzjzm",
        "colab_type": "text"
      },
      "source": [
        "this is **bold**\n"
      ]
    },
    {
      "cell_type": "markdown",
      "metadata": {
        "id": "CEWbBuW30kco",
        "colab_type": "text"
      },
      "source": [
        "### this is a header\n"
      ]
    },
    {
      "cell_type": "markdown",
      "metadata": {
        "id": "Gywb1ES44JTP",
        "colab_type": "text"
      },
      "source": [
        "![alt text](https://raw.githubusercontent.com/dudaspm/IST210-Spring2020/master/introduction/426598.jpg)"
      ]
    },
    {
      "cell_type": "markdown",
      "metadata": {
        "id": "EjrFEZut4Yrt",
        "colab_type": "text"
      },
      "source": [
        "![alt text](https://raw.githubusercontent.com/dudaspm/IST210-Spring2020/master/introduction/426598.jpg)"
      ]
    },
    {
      "cell_type": "code",
      "metadata": {
        "id": "pyWwMPKV0wDM",
        "colab_type": "code",
        "colab": {}
      },
      "source": [
        ""
      ],
      "execution_count": 0,
      "outputs": []
    },
    {
      "cell_type": "markdown",
      "metadata": {
        "id": "0EziWknR0xvo",
        "colab_type": "text"
      },
      "source": [
        "#### header"
      ]
    },
    {
      "cell_type": "code",
      "metadata": {
        "id": "xwNl1klK0zVH",
        "colab_type": "code",
        "colab": {}
      },
      "source": [
        ""
      ],
      "execution_count": 0,
      "outputs": []
    }
  ]
}